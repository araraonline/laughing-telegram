{
 "cells": [
  {
   "cell_type": "markdown",
   "metadata": {},
   "source": [
    "# BetExplorer odds\n",
    "\n",
    "Prototype for collecting BetExplorer odds. This was tested both on matches with lots\n",
    "of odds and matches with no odds at all."
   ]
  },
  {
   "cell_type": "code",
   "execution_count": 1,
   "metadata": {},
   "outputs": [],
   "source": [
    "from collections import namedtuple\n",
    "\n",
    "import parsel\n",
    "import requests\n",
    "\n",
    "\n",
    "Odd = namedtuple('Odd', 'match_id, date, bookmaker, odd_type, odd_target, value')"
   ]
  },
  {
   "cell_type": "markdown",
   "metadata": {},
   "source": [
    "## Tested matches"
   ]
  },
  {
   "cell_type": "code",
   "execution_count": 2,
   "metadata": {},
   "outputs": [],
   "source": [
    "# typical match\n",
    "\n",
    "match_id = 'hSbTPVSa'\n",
    "url = 'http://www.betexplorer.com/gres/ajax/matchodds.php?p=1&e={}&b=1x2'.format(match_id)\n",
    "\n",
    "headers = {\n",
    "    'User-Agent': 'Secret Agent Bob',\n",
    "    'Referer': 'http://www.betexplorer.com/soccer/brazil/serie-a-2017/atletico-go-fluminense/hSbTPVSa/',\n",
    "}"
   ]
  },
  {
   "cell_type": "code",
   "execution_count": 14,
   "metadata": {},
   "outputs": [],
   "source": [
    "# pumped up match\n",
    "\n",
    "match_id = 'nTU1whIG'\n",
    "url = 'http://www.betexplorer.com/gres/ajax/matchodds.php?p=1&e={}&b=1x2'.format(match_id)\n",
    "\n",
    "headers = {\n",
    "    'User-Agent': 'Secret Agent Bob',\n",
    "    'Referer': 'http://www.betexplorer.com/soccer/europe/champions-league-2016-2017/juventus-real-madrid/nTU1whIG/',\n",
    "}"
   ]
  },
  {
   "cell_type": "code",
   "execution_count": 4,
   "metadata": {},
   "outputs": [],
   "source": [
    "# match without odds\n",
    "\n",
    "match_id = 'GvDb0oPP'\n",
    "url = 'http://www.betexplorer.com/gres/ajax/matchodds.php?p=1&e={}&b=1x2'.format(match_id)\n",
    "\n",
    "headers = {\n",
    "    'User-Agent': 'Secret Agent Bob',\n",
    "    'Referer': 'http://www.betexplorer.com/soccer/tajikistan/vysshaya-liga-2012/zarafshon-panjakent-istiqlol-dushanbe/GvDb0oPP/',\n",
    "}"
   ]
  },
  {
   "cell_type": "markdown",
   "metadata": {},
   "source": [
    "## Core"
   ]
  },
  {
   "cell_type": "code",
   "execution_count": 15,
   "metadata": {},
   "outputs": [
    {
     "data": {
      "text/plain": [
       "200"
      ]
     },
     "execution_count": 15,
     "metadata": {},
     "output_type": "execute_result"
    }
   ],
   "source": [
    "r = requests.get(url, headers=headers)\n",
    "r.status_code"
   ]
  },
  {
   "cell_type": "code",
   "execution_count": 16,
   "metadata": {},
   "outputs": [],
   "source": [
    "body = r.json()['odds']\n",
    "s = parsel.Selector(body)"
   ]
  },
  {
   "cell_type": "code",
   "execution_count": 17,
   "metadata": {},
   "outputs": [],
   "source": [
    "odds = []\n",
    "\n",
    "_rows = s.xpath('//tr[@data-originid]')\n",
    "for _row in _rows:\n",
    "    bookmaker = _row.css('a::text').extract_first()\n",
    "\n",
    "    _odds = _row.css('td.table-main__odds')\n",
    "    archive_odds = _odds.css('::attr(data-odd)').extract()\n",
    "    archive_dates = _odds.css('::attr(data-created)').extract()\n",
    "    opening_odds = _odds.css('::attr(data-opening-odd)').extract()\n",
    "    opening_dates = _odds.css('::attr(data-opening-date)').extract()\n",
    "\n",
    "    # archive odds\n",
    "    odds.append(Odd(match_id, archive_dates[0], bookmaker, 'archive', '1', float(archive_odds[0])))\n",
    "    odds.append(Odd(match_id, archive_dates[1], bookmaker, 'archive', 'X', float(archive_odds[1])))\n",
    "    odds.append(Odd(match_id, archive_dates[2], bookmaker, 'archive', '2', float(archive_odds[2])))\n",
    "\n",
    "    # opening odds\n",
    "    odds.append(Odd(match_id, opening_dates[0], bookmaker, 'opening', '1', float(opening_odds[0])))\n",
    "    odds.append(Odd(match_id, opening_dates[1], bookmaker, 'opening', 'X', float(opening_odds[1])))\n",
    "    odds.append(Odd(match_id, opening_dates[2], bookmaker, 'opening', '2', float(opening_odds[2])))"
   ]
  },
  {
   "cell_type": "code",
   "execution_count": 18,
   "metadata": {},
   "outputs": [
    {
     "data": {
      "text/plain": [
       "162"
      ]
     },
     "execution_count": 18,
     "metadata": {},
     "output_type": "execute_result"
    }
   ],
   "source": [
    "len(odds)"
   ]
  },
  {
   "cell_type": "code",
   "execution_count": 20,
   "metadata": {},
   "outputs": [
    {
     "data": {
      "text/plain": [
       "[Odd(match_id='', date='03,06,2017,20,25', bookmaker='10Bet', odd_type='archive', odd_target='1', value=2.95),\n",
       " Odd(match_id='', date='03,06,2017,20,07', bookmaker='10Bet', odd_type='archive', odd_target='X', value=3.1),\n",
       " Odd(match_id='', date='03,06,2017,20,27', bookmaker='10Bet', odd_type='archive', odd_target='2', value=2.7),\n",
       " Odd(match_id='', date='10,05,2017,22,47', bookmaker='10Bet', odd_type='opening', odd_target='1', value=2.85),\n",
       " Odd(match_id='', date='10,05,2017,22,47', bookmaker='10Bet', odd_type='opening', odd_target='X', value=3.15),\n",
       " Odd(match_id='', date='10,05,2017,22,47', bookmaker='10Bet', odd_type='opening', odd_target='2', value=2.5)]"
      ]
     },
     "execution_count": 20,
     "metadata": {},
     "output_type": "execute_result"
    }
   ],
   "source": [
    "[o._replace(match_id='') for o in odds[:6]]  # reduce line size"
   ]
  }
 ],
 "metadata": {
  "kernelspec": {
   "display_name": "Python 3",
   "language": "python",
   "name": "python3"
  },
  "language_info": {
   "codemirror_mode": {
    "name": "ipython",
    "version": 3
   },
   "file_extension": ".py",
   "mimetype": "text/x-python",
   "name": "python",
   "nbconvert_exporter": "python",
   "pygments_lexer": "ipython3",
   "version": "3.6.4"
  }
 },
 "nbformat": 4,
 "nbformat_minor": 2
}
