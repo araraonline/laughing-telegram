{
 "cells": [
  {
   "cell_type": "code",
   "execution_count": 1,
   "metadata": {},
   "outputs": [],
   "source": [
    "import pickle\n",
    "import sqlite3\n",
    "from collections import OrderedDict\n",
    "\n",
    "import matplotlib.pyplot as plt\n",
    "import numpy as np\n",
    "import pandas as pd\n",
    "\n",
    "%matplotlib inline"
   ]
  },
  {
   "cell_type": "markdown",
   "metadata": {},
   "source": [
    "# Load"
   ]
  },
  {
   "cell_type": "code",
   "execution_count": 2,
   "metadata": {},
   "outputs": [
    {
     "data": {
      "text/html": [
       "<div>\n",
       "<style scoped>\n",
       "    .dataframe tbody tr th:only-of-type {\n",
       "        vertical-align: middle;\n",
       "    }\n",
       "\n",
       "    .dataframe tbody tr th {\n",
       "        vertical-align: top;\n",
       "    }\n",
       "\n",
       "    .dataframe thead th {\n",
       "        text-align: right;\n",
       "    }\n",
       "</style>\n",
       "<table border=\"1\" class=\"dataframe\">\n",
       "  <thead>\n",
       "    <tr style=\"text-align: right;\">\n",
       "      <th></th>\n",
       "      <th>id</th>\n",
       "      <th>date</th>\n",
       "      <th>teamH</th>\n",
       "      <th>teamA</th>\n",
       "      <th>score</th>\n",
       "      <th>scoremod</th>\n",
       "      <th>goalsH</th>\n",
       "      <th>goalsA</th>\n",
       "    </tr>\n",
       "  </thead>\n",
       "  <tbody>\n",
       "    <tr>\n",
       "      <th>0</th>\n",
       "      <td>GCjoqXpn</td>\n",
       "      <td>2018-01-22</td>\n",
       "      <td>Israel W</td>\n",
       "      <td>Finland W</td>\n",
       "      <td>0:0</td>\n",
       "      <td></td>\n",
       "      <td>0.0</td>\n",
       "      <td>0.0</td>\n",
       "    </tr>\n",
       "    <tr>\n",
       "      <th>1</th>\n",
       "      <td>xMispDVu</td>\n",
       "      <td>2017-11-28</td>\n",
       "      <td>Spain W</td>\n",
       "      <td>Austria W</td>\n",
       "      <td>4:0</td>\n",
       "      <td></td>\n",
       "      <td>4.0</td>\n",
       "      <td>0.0</td>\n",
       "    </tr>\n",
       "    <tr>\n",
       "      <th>2</th>\n",
       "      <td>xnyYIzXt</td>\n",
       "      <td>2017-11-28</td>\n",
       "      <td>Portugal W</td>\n",
       "      <td>Italy W</td>\n",
       "      <td>0:1</td>\n",
       "      <td></td>\n",
       "      <td>0.0</td>\n",
       "      <td>1.0</td>\n",
       "    </tr>\n",
       "    <tr>\n",
       "      <th>3</th>\n",
       "      <td>pjD4z32E</td>\n",
       "      <td>2017-11-28</td>\n",
       "      <td>Romania W</td>\n",
       "      <td>Moldova W</td>\n",
       "      <td>3:1</td>\n",
       "      <td></td>\n",
       "      <td>3.0</td>\n",
       "      <td>1.0</td>\n",
       "    </tr>\n",
       "    <tr>\n",
       "      <th>4</th>\n",
       "      <td>nZiE6CQJ</td>\n",
       "      <td>2017-11-28</td>\n",
       "      <td>Netherlands W</td>\n",
       "      <td>Ireland W</td>\n",
       "      <td>0:0</td>\n",
       "      <td></td>\n",
       "      <td>0.0</td>\n",
       "      <td>0.0</td>\n",
       "    </tr>\n",
       "  </tbody>\n",
       "</table>\n",
       "</div>"
      ],
      "text/plain": [
       "         id       date          teamH      teamA score scoremod  goalsH  \\\n",
       "0  GCjoqXpn 2018-01-22       Israel W  Finland W   0:0              0.0   \n",
       "1  xMispDVu 2017-11-28        Spain W  Austria W   4:0              4.0   \n",
       "2  xnyYIzXt 2017-11-28     Portugal W    Italy W   0:1              0.0   \n",
       "3  pjD4z32E 2017-11-28      Romania W  Moldova W   3:1              3.0   \n",
       "4  nZiE6CQJ 2017-11-28  Netherlands W  Ireland W   0:0              0.0   \n",
       "\n",
       "   goalsA  \n",
       "0     0.0  \n",
       "1     0.0  \n",
       "2     1.0  \n",
       "3     1.0  \n",
       "4     0.0  "
      ]
     },
     "execution_count": 2,
     "metadata": {},
     "output_type": "execute_result"
    }
   ],
   "source": [
    "conn = sqlite3.connect('../loteca/data/raw/betexplorer/db.sqlite3')\n",
    "betexp = pd.read_sql_query('SELECT id, date, teamH, teamA, score, scoremod FROM matches', conn)\n",
    "conn.close()\n",
    "\n",
    "betexp.date = pd.to_datetime(betexp.date, dayfirst=True)\n",
    "betexp.score = betexp.score.str.strip()\n",
    "betexp['goalsH'] = [int(score.split(':')[0]) if score else np.nan for score in betexp.score]\n",
    "betexp['goalsA'] = [int(score.split(':')[1]) if score else np.nan for score in betexp.score]\n",
    "\n",
    "betexp.head()"
   ]
  },
  {
   "cell_type": "code",
   "execution_count": 3,
   "metadata": {},
   "outputs": [
    {
     "data": {
      "text/html": [
       "<div>\n",
       "<style scoped>\n",
       "    .dataframe tbody tr th:only-of-type {\n",
       "        vertical-align: middle;\n",
       "    }\n",
       "\n",
       "    .dataframe tbody tr th {\n",
       "        vertical-align: top;\n",
       "    }\n",
       "\n",
       "    .dataframe thead th {\n",
       "        text-align: right;\n",
       "    }\n",
       "</style>\n",
       "<table border=\"1\" class=\"dataframe\">\n",
       "  <thead>\n",
       "    <tr style=\"text-align: right;\">\n",
       "      <th></th>\n",
       "      <th>roundno</th>\n",
       "      <th>gameno</th>\n",
       "      <th>date</th>\n",
       "      <th>teamH</th>\n",
       "      <th>goalsH</th>\n",
       "      <th>teamA</th>\n",
       "      <th>goalsA</th>\n",
       "      <th>happened</th>\n",
       "    </tr>\n",
       "  </thead>\n",
       "  <tbody>\n",
       "    <tr>\n",
       "      <th>5110</th>\n",
       "      <td>366</td>\n",
       "      <td>1</td>\n",
       "      <td>2009-06-07</td>\n",
       "      <td>CRUZEIRO/MG</td>\n",
       "      <td>1</td>\n",
       "      <td>INTERNACIONAL/RS</td>\n",
       "      <td>1</td>\n",
       "      <td>True</td>\n",
       "    </tr>\n",
       "    <tr>\n",
       "      <th>5111</th>\n",
       "      <td>366</td>\n",
       "      <td>2</td>\n",
       "      <td>2009-06-07</td>\n",
       "      <td>ATLÉTICO/PR</td>\n",
       "      <td>0</td>\n",
       "      <td>ATLÉTICO/MG</td>\n",
       "      <td>4</td>\n",
       "      <td>True</td>\n",
       "    </tr>\n",
       "    <tr>\n",
       "      <th>5112</th>\n",
       "      <td>366</td>\n",
       "      <td>3</td>\n",
       "      <td>2009-06-07</td>\n",
       "      <td>AVAÍ/SC</td>\n",
       "      <td>0</td>\n",
       "      <td>SÃO PAULO/SP</td>\n",
       "      <td>0</td>\n",
       "      <td>True</td>\n",
       "    </tr>\n",
       "    <tr>\n",
       "      <th>5113</th>\n",
       "      <td>366</td>\n",
       "      <td>4</td>\n",
       "      <td>2009-06-06</td>\n",
       "      <td>AMÉRICA/RN</td>\n",
       "      <td>2</td>\n",
       "      <td>BRASILIENSE/DF</td>\n",
       "      <td>1</td>\n",
       "      <td>True</td>\n",
       "    </tr>\n",
       "    <tr>\n",
       "      <th>5114</th>\n",
       "      <td>366</td>\n",
       "      <td>5</td>\n",
       "      <td>2009-06-06</td>\n",
       "      <td>PONTE PRETA/SP</td>\n",
       "      <td>5</td>\n",
       "      <td>PORTUGUESA DESPORTOS/SP</td>\n",
       "      <td>2</td>\n",
       "      <td>True</td>\n",
       "    </tr>\n",
       "  </tbody>\n",
       "</table>\n",
       "</div>"
      ],
      "text/plain": [
       "      roundno  gameno       date           teamH  goalsH  \\\n",
       "5110      366       1 2009-06-07     CRUZEIRO/MG       1   \n",
       "5111      366       2 2009-06-07     ATLÉTICO/PR       0   \n",
       "5112      366       3 2009-06-07         AVAÍ/SC       0   \n",
       "5113      366       4 2009-06-06      AMÉRICA/RN       2   \n",
       "5114      366       5 2009-06-06  PONTE PRETA/SP       5   \n",
       "\n",
       "                        teamA  goalsA  happened  \n",
       "5110         INTERNACIONAL/RS       1      True  \n",
       "5111              ATLÉTICO/MG       4      True  \n",
       "5112             SÃO PAULO/SP       0      True  \n",
       "5113           BRASILIENSE/DF       1      True  \n",
       "5114  PORTUGUESA DESPORTOS/SP       2      True  "
      ]
     },
     "execution_count": 3,
     "metadata": {},
     "output_type": "execute_result"
    }
   ],
   "source": [
    "loteca = pd.read_pickle('../data/pre/lotecas_matches.pkl')\n",
    "loteca = loteca[loteca.roundno >= 366]  # exclude old rounds\n",
    "loteca.head()"
   ]
  },
  {
   "cell_type": "code",
   "execution_count": 4,
   "metadata": {},
   "outputs": [
    {
     "data": {
      "text/plain": [
       "[('A B C/RN', {'ABC'}),\n",
       " ('ABAETÉ/PA', set()),\n",
       " ('ABC/RN', {'ABC'}),\n",
       " ('ALBÂNIA', {'Albania'}),\n",
       " ('ALECRIM SUB 20/RN', {'Alecrim U20'})]"
      ]
     },
     "execution_count": 4,
     "metadata": {},
     "output_type": "execute_result"
    }
   ],
   "source": [
    "with open('../data/interim/teams_ltb.pkl', mode='rb') as fp:\n",
    "    teamsd = pickle.load(fp)\n",
    "    \n",
    "list(teamsd.items())[:5]"
   ]
  },
  {
   "cell_type": "markdown",
   "metadata": {},
   "source": [
    "# Algorithm"
   ]
  },
  {
   "cell_type": "code",
   "execution_count": 5,
   "metadata": {
    "scrolled": true
   },
   "outputs": [
    {
     "data": {
      "text/plain": [
       "['ABC',\n",
       " 'AS Roma',\n",
       " 'ASA',\n",
       " 'Albania',\n",
       " 'Alecrim',\n",
       " 'Alecrim U20',\n",
       " 'Algeria',\n",
       " 'America MG',\n",
       " 'America MG U20',\n",
       " 'America PE']"
      ]
     },
     "execution_count": 5,
     "metadata": {},
     "output_type": "execute_result"
    }
   ],
   "source": [
    "loteca_teams = set(loteca.teamH) | set(loteca.teamA)\n",
    "betexp_teams = set()\n",
    "for team in loteca_teams:\n",
    "    if teamsd[team]:\n",
    "        betexp_teams.add(next(iter(teamsd[team])))\n",
    "        \n",
    "betexp_teams = sorted(betexp_teams)\n",
    "betexp_teams[:10]"
   ]
  },
  {
   "cell_type": "code",
   "execution_count": 6,
   "metadata": {},
   "outputs": [
    {
     "data": {
      "text/plain": [
       "[NaT,\n",
       " Timestamp('2009-06-06 00:00:00'),\n",
       " Timestamp('2009-06-07 00:00:00'),\n",
       " Timestamp('2009-06-13 00:00:00'),\n",
       " Timestamp('2009-06-14 00:00:00'),\n",
       " Timestamp('2009-06-20 00:00:00'),\n",
       " Timestamp('2009-06-21 00:00:00'),\n",
       " Timestamp('2009-06-27 00:00:00'),\n",
       " Timestamp('2009-06-28 00:00:00'),\n",
       " Timestamp('2009-07-04 00:00:00')]"
      ]
     },
     "execution_count": 6,
     "metadata": {},
     "output_type": "execute_result"
    }
   ],
   "source": [
    "dates = set()\n",
    "for date in loteca.date:\n",
    "    dates.add(date)\n",
    "\n",
    "dates = sorted(dates)\n",
    "dates[:10]"
   ]
  },
  {
   "cell_type": "code",
   "execution_count": 7,
   "metadata": {},
   "outputs": [
    {
     "data": {
      "text/plain": [
       "(148101, 8)"
      ]
     },
     "execution_count": 7,
     "metadata": {},
     "output_type": "execute_result"
    }
   ],
   "source": [
    "betexp.shape"
   ]
  },
  {
   "cell_type": "code",
   "execution_count": 8,
   "metadata": {},
   "outputs": [
    {
     "data": {
      "text/plain": [
       "(16379, 8)"
      ]
     },
     "execution_count": 8,
     "metadata": {},
     "output_type": "execute_result"
    }
   ],
   "source": [
    "betexp_min = betexp[(betexp.teamH.isin(betexp_teams)) | (betexp.teamA.isin(betexp_teams))]\n",
    "betexp_min = betexp_min[betexp_min.date.isin(dates)]\n",
    "betexp_min.shape"
   ]
  },
  {
   "cell_type": "code",
   "execution_count": 9,
   "metadata": {
    "scrolled": true
   },
   "outputs": [
    {
     "name": "stdout",
     "output_type": "stream",
     "text": [
      "Round number 1\n",
      "                      SPORT/PE > Sport Recife\n"
     ]
    },
    {
     "data": {
      "text/plain": [
       "roundno                     366\n",
       "gameno                       13\n",
       "date        2009-06-07 00:00:00\n",
       "teamH                  SPORT/PE\n",
       "goalsH                        4\n",
       "teamA               FLAMENGO/RJ\n",
       "goalsA                        2\n",
       "happened                   True\n",
       "Name: 5122, dtype: object"
      ]
     },
     "metadata": {},
     "output_type": "display_data"
    },
    {
     "data": {
      "text/html": [
       "<div>\n",
       "<style scoped>\n",
       "    .dataframe tbody tr th:only-of-type {\n",
       "        vertical-align: middle;\n",
       "    }\n",
       "\n",
       "    .dataframe tbody tr th {\n",
       "        vertical-align: top;\n",
       "    }\n",
       "\n",
       "    .dataframe thead th {\n",
       "        text-align: right;\n",
       "    }\n",
       "</style>\n",
       "<table border=\"1\" class=\"dataframe\">\n",
       "  <thead>\n",
       "    <tr style=\"text-align: right;\">\n",
       "      <th></th>\n",
       "      <th>id</th>\n",
       "      <th>date</th>\n",
       "      <th>teamH</th>\n",
       "      <th>teamA</th>\n",
       "      <th>score</th>\n",
       "      <th>scoremod</th>\n",
       "      <th>goalsH</th>\n",
       "      <th>goalsA</th>\n",
       "    </tr>\n",
       "  </thead>\n",
       "  <tbody>\n",
       "    <tr>\n",
       "      <th>22747</th>\n",
       "      <td>Io8dfmf7</td>\n",
       "      <td>2009-06-07</td>\n",
       "      <td>Sport Recife</td>\n",
       "      <td>Flamengo RJ</td>\n",
       "      <td>4:2</td>\n",
       "      <td></td>\n",
       "      <td>4.0</td>\n",
       "      <td>2.0</td>\n",
       "    </tr>\n",
       "  </tbody>\n",
       "</table>\n",
       "</div>"
      ],
      "text/plain": [
       "             id       date         teamH        teamA score scoremod  goalsH  \\\n",
       "22747  Io8dfmf7 2009-06-07  Sport Recife  Flamengo RJ   4:2              4.0   \n",
       "\n",
       "       goalsA  \n",
       "22747     2.0  "
      ]
     },
     "metadata": {},
     "output_type": "display_data"
    },
    {
     "name": "stdout",
     "output_type": "stream",
     "text": [
      "              VASCO DA GAMA/RJ > Vasco\n"
     ]
    },
    {
     "data": {
      "text/plain": [
       "roundno                     367\n",
       "gameno                        4\n",
       "date        2009-06-13 00:00:00\n",
       "teamH                GUARANI/SP\n",
       "goalsH                        0\n",
       "teamA          VASCO DA GAMA/RJ\n",
       "goalsA                        0\n",
       "happened                   True\n",
       "Name: 5127, dtype: object"
      ]
     },
     "metadata": {},
     "output_type": "display_data"
    },
    {
     "data": {
      "text/html": [
       "<div>\n",
       "<style scoped>\n",
       "    .dataframe tbody tr th:only-of-type {\n",
       "        vertical-align: middle;\n",
       "    }\n",
       "\n",
       "    .dataframe tbody tr th {\n",
       "        vertical-align: top;\n",
       "    }\n",
       "\n",
       "    .dataframe thead th {\n",
       "        text-align: right;\n",
       "    }\n",
       "</style>\n",
       "<table border=\"1\" class=\"dataframe\">\n",
       "  <thead>\n",
       "    <tr style=\"text-align: right;\">\n",
       "      <th></th>\n",
       "      <th>id</th>\n",
       "      <th>date</th>\n",
       "      <th>teamH</th>\n",
       "      <th>teamA</th>\n",
       "      <th>score</th>\n",
       "      <th>scoremod</th>\n",
       "      <th>goalsH</th>\n",
       "      <th>goalsA</th>\n",
       "    </tr>\n",
       "  </thead>\n",
       "  <tbody>\n",
       "    <tr>\n",
       "      <th>23115</th>\n",
       "      <td>fqVtfr0m</td>\n",
       "      <td>2009-06-13</td>\n",
       "      <td>Guarani</td>\n",
       "      <td>Vasco</td>\n",
       "      <td>0:0</td>\n",
       "      <td></td>\n",
       "      <td>0.0</td>\n",
       "      <td>0.0</td>\n",
       "    </tr>\n",
       "  </tbody>\n",
       "</table>\n",
       "</div>"
      ],
      "text/plain": [
       "             id       date    teamH  teamA score scoremod  goalsH  goalsA\n",
       "23115  fqVtfr0m 2009-06-13  Guarani  Vasco   0:0              0.0     0.0"
      ]
     },
     "metadata": {},
     "output_type": "display_data"
    },
    {
     "name": "stdout",
     "output_type": "stream",
     "text": [
      "                  VILA NOVA/GO > Vila Nova FC\n"
     ]
    },
    {
     "data": {
      "text/plain": [
       "roundno                     367\n",
       "gameno                        7\n",
       "date        2009-06-13 00:00:00\n",
       "teamH                  A B C/RN\n",
       "goalsH                        1\n",
       "teamA              VILA NOVA/GO\n",
       "goalsA                        0\n",
       "happened                   True\n",
       "Name: 5130, dtype: object"
      ]
     },
     "metadata": {},
     "output_type": "display_data"
    },
    {
     "data": {
      "text/html": [
       "<div>\n",
       "<style scoped>\n",
       "    .dataframe tbody tr th:only-of-type {\n",
       "        vertical-align: middle;\n",
       "    }\n",
       "\n",
       "    .dataframe tbody tr th {\n",
       "        vertical-align: top;\n",
       "    }\n",
       "\n",
       "    .dataframe thead th {\n",
       "        text-align: right;\n",
       "    }\n",
       "</style>\n",
       "<table border=\"1\" class=\"dataframe\">\n",
       "  <thead>\n",
       "    <tr style=\"text-align: right;\">\n",
       "      <th></th>\n",
       "      <th>id</th>\n",
       "      <th>date</th>\n",
       "      <th>teamH</th>\n",
       "      <th>teamA</th>\n",
       "      <th>score</th>\n",
       "      <th>scoremod</th>\n",
       "      <th>goalsH</th>\n",
       "      <th>goalsA</th>\n",
       "    </tr>\n",
       "  </thead>\n",
       "  <tbody>\n",
       "    <tr>\n",
       "      <th>23111</th>\n",
       "      <td>pAu70pNJ</td>\n",
       "      <td>2009-06-13</td>\n",
       "      <td>ABC</td>\n",
       "      <td>Vila Nova FC</td>\n",
       "      <td>1:0</td>\n",
       "      <td></td>\n",
       "      <td>1.0</td>\n",
       "      <td>0.0</td>\n",
       "    </tr>\n",
       "  </tbody>\n",
       "</table>\n",
       "</div>"
      ],
      "text/plain": [
       "             id       date teamH         teamA score scoremod  goalsH  goalsA\n",
       "23111  pAu70pNJ 2009-06-13   ABC  Vila Nova FC   1:0              1.0     0.0"
      ]
     },
     "metadata": {},
     "output_type": "display_data"
    },
    {
     "name": "stdout",
     "output_type": "stream",
     "text": [
      "               SÃO  CAETANO/SP > Sao Caetano\n"
     ]
    },
    {
     "data": {
      "text/plain": [
       "roundno                     372\n",
       "gameno                        8\n",
       "date        2009-07-18 00:00:00\n",
       "teamH           SÃO  CAETANO/SP\n",
       "goalsH                        4\n",
       "teamA        DUQUE DE CAXIAS/RJ\n",
       "goalsA                        0\n",
       "happened                   True\n",
       "Name: 5201, dtype: object"
      ]
     },
     "metadata": {},
     "output_type": "display_data"
    },
    {
     "data": {
      "text/html": [
       "<div>\n",
       "<style scoped>\n",
       "    .dataframe tbody tr th:only-of-type {\n",
       "        vertical-align: middle;\n",
       "    }\n",
       "\n",
       "    .dataframe tbody tr th {\n",
       "        vertical-align: top;\n",
       "    }\n",
       "\n",
       "    .dataframe thead th {\n",
       "        text-align: right;\n",
       "    }\n",
       "</style>\n",
       "<table border=\"1\" class=\"dataframe\">\n",
       "  <thead>\n",
       "    <tr style=\"text-align: right;\">\n",
       "      <th></th>\n",
       "      <th>id</th>\n",
       "      <th>date</th>\n",
       "      <th>teamH</th>\n",
       "      <th>teamA</th>\n",
       "      <th>score</th>\n",
       "      <th>scoremod</th>\n",
       "      <th>goalsH</th>\n",
       "      <th>goalsA</th>\n",
       "    </tr>\n",
       "  </thead>\n",
       "  <tbody>\n",
       "    <tr>\n",
       "      <th>23058</th>\n",
       "      <td>2P0ky8GD</td>\n",
       "      <td>2009-07-18</td>\n",
       "      <td>Sao Caetano</td>\n",
       "      <td>Duque de Caxias</td>\n",
       "      <td>4:0</td>\n",
       "      <td></td>\n",
       "      <td>4.0</td>\n",
       "      <td>0.0</td>\n",
       "    </tr>\n",
       "  </tbody>\n",
       "</table>\n",
       "</div>"
      ],
      "text/plain": [
       "             id       date        teamH            teamA score scoremod  \\\n",
       "23058  2P0ky8GD 2009-07-18  Sao Caetano  Duque de Caxias   4:0            \n",
       "\n",
       "       goalsH  goalsA  \n",
       "23058     4.0     0.0  "
      ]
     },
     "metadata": {},
     "output_type": "display_data"
    },
    {
     "name": "stdout",
     "output_type": "stream",
     "text": [
      "                 BRAGANTINO/SP > Bragantino\n"
     ]
    },
    {
     "data": {
      "text/plain": [
       "roundno                     372\n",
       "gameno                        9\n",
       "date        2009-07-18 00:00:00\n",
       "teamH             BRAGANTINO/SP\n",
       "goalsH                        1\n",
       "teamA            PONTE PRETA/SP\n",
       "goalsA                        1\n",
       "happened                   True\n",
       "Name: 5202, dtype: object"
      ]
     },
     "metadata": {},
     "output_type": "display_data"
    },
    {
     "data": {
      "text/html": [
       "<div>\n",
       "<style scoped>\n",
       "    .dataframe tbody tr th:only-of-type {\n",
       "        vertical-align: middle;\n",
       "    }\n",
       "\n",
       "    .dataframe tbody tr th {\n",
       "        vertical-align: top;\n",
       "    }\n",
       "\n",
       "    .dataframe thead th {\n",
       "        text-align: right;\n",
       "    }\n",
       "</style>\n",
       "<table border=\"1\" class=\"dataframe\">\n",
       "  <thead>\n",
       "    <tr style=\"text-align: right;\">\n",
       "      <th></th>\n",
       "      <th>id</th>\n",
       "      <th>date</th>\n",
       "      <th>teamH</th>\n",
       "      <th>teamA</th>\n",
       "      <th>score</th>\n",
       "      <th>scoremod</th>\n",
       "      <th>goalsH</th>\n",
       "      <th>goalsA</th>\n",
       "    </tr>\n",
       "  </thead>\n",
       "  <tbody>\n",
       "    <tr>\n",
       "      <th>23053</th>\n",
       "      <td>tACtwUo1</td>\n",
       "      <td>2009-07-18</td>\n",
       "      <td>Bragantino</td>\n",
       "      <td>Ponte Preta</td>\n",
       "      <td>1:1</td>\n",
       "      <td></td>\n",
       "      <td>1.0</td>\n",
       "      <td>1.0</td>\n",
       "    </tr>\n",
       "  </tbody>\n",
       "</table>\n",
       "</div>"
      ],
      "text/plain": [
       "             id       date       teamH        teamA score scoremod  goalsH  \\\n",
       "23053  tACtwUo1 2009-07-18  Bragantino  Ponte Preta   1:1              1.0   \n",
       "\n",
       "       goalsA  \n",
       "23053     1.0  "
      ]
     },
     "metadata": {},
     "output_type": "display_data"
    },
    {
     "name": "stdout",
     "output_type": "stream",
     "text": [
      "       PORTUGUESA DESPORTOS/SP > Portuguesa\n"
     ]
    },
    {
     "data": {
      "text/plain": [
       "roundno                         373\n",
       "gameno                            6\n",
       "date            2009-07-25 00:00:00\n",
       "teamH       PORTUGUESA DESPORTOS/SP\n",
       "goalsH                            2\n",
       "teamA                    AMÉRICA/RN\n",
       "goalsA                            1\n",
       "happened                       True\n",
       "Name: 5213, dtype: object"
      ]
     },
     "metadata": {},
     "output_type": "display_data"
    },
    {
     "data": {
      "text/html": [
       "<div>\n",
       "<style scoped>\n",
       "    .dataframe tbody tr th:only-of-type {\n",
       "        vertical-align: middle;\n",
       "    }\n",
       "\n",
       "    .dataframe tbody tr th {\n",
       "        vertical-align: top;\n",
       "    }\n",
       "\n",
       "    .dataframe thead th {\n",
       "        text-align: right;\n",
       "    }\n",
       "</style>\n",
       "<table border=\"1\" class=\"dataframe\">\n",
       "  <thead>\n",
       "    <tr style=\"text-align: right;\">\n",
       "      <th></th>\n",
       "      <th>id</th>\n",
       "      <th>date</th>\n",
       "      <th>teamH</th>\n",
       "      <th>teamA</th>\n",
       "      <th>score</th>\n",
       "      <th>scoremod</th>\n",
       "      <th>goalsH</th>\n",
       "      <th>goalsA</th>\n",
       "    </tr>\n",
       "  </thead>\n",
       "  <tbody>\n",
       "    <tr>\n",
       "      <th>23046</th>\n",
       "      <td>6VEhgT0f</td>\n",
       "      <td>2009-07-25</td>\n",
       "      <td>Portuguesa</td>\n",
       "      <td>America RN</td>\n",
       "      <td>2:1</td>\n",
       "      <td></td>\n",
       "      <td>2.0</td>\n",
       "      <td>1.0</td>\n",
       "    </tr>\n",
       "  </tbody>\n",
       "</table>\n",
       "</div>"
      ],
      "text/plain": [
       "             id       date       teamH       teamA score scoremod  goalsH  \\\n",
       "23046  6VEhgT0f 2009-07-25  Portuguesa  America RN   2:1              2.0   \n",
       "\n",
       "       goalsA  \n",
       "23046     1.0  "
      ]
     },
     "metadata": {},
     "output_type": "display_data"
    },
    {
     "name": "stdout",
     "output_type": "stream",
     "text": [
      "                   IPATINGA/MG > Betim\n"
     ]
    },
    {
     "data": {
      "text/plain": [
       "roundno                     390\n",
       "gameno                        6\n",
       "date        2009-11-21 00:00:00\n",
       "teamH                AMÉRICA/RN\n",
       "goalsH                        1\n",
       "teamA               IPATINGA/MG\n",
       "goalsA                        0\n",
       "happened                   True\n",
       "Name: 5451, dtype: object"
      ]
     },
     "metadata": {},
     "output_type": "display_data"
    },
    {
     "data": {
      "text/html": [
       "<div>\n",
       "<style scoped>\n",
       "    .dataframe tbody tr th:only-of-type {\n",
       "        vertical-align: middle;\n",
       "    }\n",
       "\n",
       "    .dataframe tbody tr th {\n",
       "        vertical-align: top;\n",
       "    }\n",
       "\n",
       "    .dataframe thead th {\n",
       "        text-align: right;\n",
       "    }\n",
       "</style>\n",
       "<table border=\"1\" class=\"dataframe\">\n",
       "  <thead>\n",
       "    <tr style=\"text-align: right;\">\n",
       "      <th></th>\n",
       "      <th>id</th>\n",
       "      <th>date</th>\n",
       "      <th>teamH</th>\n",
       "      <th>teamA</th>\n",
       "      <th>score</th>\n",
       "      <th>scoremod</th>\n",
       "      <th>goalsH</th>\n",
       "      <th>goalsA</th>\n",
       "    </tr>\n",
       "  </thead>\n",
       "  <tbody>\n",
       "    <tr>\n",
       "      <th>22800</th>\n",
       "      <td>zuc6o4ea</td>\n",
       "      <td>2009-11-21</td>\n",
       "      <td>America RN</td>\n",
       "      <td>Betim</td>\n",
       "      <td>1:0</td>\n",
       "      <td></td>\n",
       "      <td>1.0</td>\n",
       "      <td>0.0</td>\n",
       "    </tr>\n",
       "  </tbody>\n",
       "</table>\n",
       "</div>"
      ],
      "text/plain": [
       "             id       date       teamH  teamA score scoremod  goalsH  goalsA\n",
       "22800  zuc6o4ea 2009-11-21  America RN  Betim   1:0              1.0     0.0"
      ]
     },
     "metadata": {},
     "output_type": "display_data"
    },
    {
     "name": "stdout",
     "output_type": "stream",
     "text": [
      "                  AMERICANO/RJ > Americano FC\n"
     ]
    },
    {
     "data": {
      "text/plain": [
       "roundno                     396\n",
       "gameno                       12\n",
       "date        2010-01-17 00:00:00\n",
       "teamH              AMERICANO/RJ\n",
       "goalsH                        0\n",
       "teamA             FLUMINENSE/RJ\n",
       "goalsA                        3\n",
       "happened                   True\n",
       "Name: 5541, dtype: object"
      ]
     },
     "metadata": {},
     "output_type": "display_data"
    },
    {
     "data": {
      "text/html": [
       "<div>\n",
       "<style scoped>\n",
       "    .dataframe tbody tr th:only-of-type {\n",
       "        vertical-align: middle;\n",
       "    }\n",
       "\n",
       "    .dataframe tbody tr th {\n",
       "        vertical-align: top;\n",
       "    }\n",
       "\n",
       "    .dataframe thead th {\n",
       "        text-align: right;\n",
       "    }\n",
       "</style>\n",
       "<table border=\"1\" class=\"dataframe\">\n",
       "  <thead>\n",
       "    <tr style=\"text-align: right;\">\n",
       "      <th></th>\n",
       "      <th>id</th>\n",
       "      <th>date</th>\n",
       "      <th>teamH</th>\n",
       "      <th>teamA</th>\n",
       "      <th>score</th>\n",
       "      <th>scoremod</th>\n",
       "      <th>goalsH</th>\n",
       "      <th>goalsA</th>\n",
       "    </tr>\n",
       "  </thead>\n",
       "  <tbody>\n",
       "    <tr>\n",
       "      <th>18846</th>\n",
       "      <td>U7F6hYE0</td>\n",
       "      <td>2010-01-17</td>\n",
       "      <td>Americano FC</td>\n",
       "      <td>Fluminense</td>\n",
       "      <td>0:3</td>\n",
       "      <td></td>\n",
       "      <td>0.0</td>\n",
       "      <td>3.0</td>\n",
       "    </tr>\n",
       "  </tbody>\n",
       "</table>\n",
       "</div>"
      ],
      "text/plain": [
       "             id       date         teamH       teamA score scoremod  goalsH  \\\n",
       "18846  U7F6hYE0 2010-01-17  Americano FC  Fluminense   0:3              0.0   \n",
       "\n",
       "       goalsA  \n",
       "18846     3.0  "
      ]
     },
     "metadata": {},
     "output_type": "display_data"
    },
    {
     "name": "stdout",
     "output_type": "stream",
     "text": [
      "            GRÊMIO PRUDENTE/SP > Barueri\n"
     ]
    },
    {
     "data": {
      "text/plain": [
       "roundno                     409\n",
       "gameno                       13\n",
       "date        2010-04-18 00:00:00\n",
       "teamH            SANTO ANDRÉ/SP\n",
       "goalsH                        1\n",
       "teamA        GRÊMIO PRUDENTE/SP\n",
       "goalsA                        2\n",
       "happened                   True\n",
       "Name: 5724, dtype: object"
      ]
     },
     "metadata": {},
     "output_type": "display_data"
    },
    {
     "data": {
      "text/html": [
       "<div>\n",
       "<style scoped>\n",
       "    .dataframe tbody tr th:only-of-type {\n",
       "        vertical-align: middle;\n",
       "    }\n",
       "\n",
       "    .dataframe tbody tr th {\n",
       "        vertical-align: top;\n",
       "    }\n",
       "\n",
       "    .dataframe thead th {\n",
       "        text-align: right;\n",
       "    }\n",
       "</style>\n",
       "<table border=\"1\" class=\"dataframe\">\n",
       "  <thead>\n",
       "    <tr style=\"text-align: right;\">\n",
       "      <th></th>\n",
       "      <th>id</th>\n",
       "      <th>date</th>\n",
       "      <th>teamH</th>\n",
       "      <th>teamA</th>\n",
       "      <th>score</th>\n",
       "      <th>scoremod</th>\n",
       "      <th>goalsH</th>\n",
       "      <th>goalsA</th>\n",
       "    </tr>\n",
       "  </thead>\n",
       "  <tbody>\n",
       "    <tr>\n",
       "      <th>18934</th>\n",
       "      <td>d4IyAGi2</td>\n",
       "      <td>2010-04-18</td>\n",
       "      <td>Santo Andre</td>\n",
       "      <td>Barueri</td>\n",
       "      <td>1:2</td>\n",
       "      <td></td>\n",
       "      <td>1.0</td>\n",
       "      <td>2.0</td>\n",
       "    </tr>\n",
       "  </tbody>\n",
       "</table>\n",
       "</div>"
      ],
      "text/plain": [
       "             id       date        teamH    teamA score scoremod  goalsH  \\\n",
       "18934  d4IyAGi2 2010-04-18  Santo Andre  Barueri   1:2              1.0   \n",
       "\n",
       "       goalsA  \n",
       "18934     2.0  "
      ]
     },
     "metadata": {},
     "output_type": "display_data"
    },
    {
     "name": "stdout",
     "output_type": "stream",
     "text": [
      "                      VASCO/RJ > Vasco\n"
     ]
    },
    {
     "data": {
      "text/plain": [
       "roundno                     423\n",
       "gameno                        9\n",
       "date        2010-07-17 00:00:00\n",
       "teamH                  VASCO/RJ\n",
       "goalsH                        3\n",
       "teamA               ATLÉTICO/PR\n",
       "goalsA                        1\n",
       "happened                   True\n",
       "Name: 5916, dtype: object"
      ]
     },
     "metadata": {},
     "output_type": "display_data"
    },
    {
     "data": {
      "text/html": [
       "<div>\n",
       "<style scoped>\n",
       "    .dataframe tbody tr th:only-of-type {\n",
       "        vertical-align: middle;\n",
       "    }\n",
       "\n",
       "    .dataframe tbody tr th {\n",
       "        vertical-align: top;\n",
       "    }\n",
       "\n",
       "    .dataframe thead th {\n",
       "        text-align: right;\n",
       "    }\n",
       "</style>\n",
       "<table border=\"1\" class=\"dataframe\">\n",
       "  <thead>\n",
       "    <tr style=\"text-align: right;\">\n",
       "      <th></th>\n",
       "      <th>id</th>\n",
       "      <th>date</th>\n",
       "      <th>teamH</th>\n",
       "      <th>teamA</th>\n",
       "      <th>score</th>\n",
       "      <th>scoremod</th>\n",
       "      <th>goalsH</th>\n",
       "      <th>goalsA</th>\n",
       "    </tr>\n",
       "  </thead>\n",
       "  <tbody>\n",
       "    <tr>\n",
       "      <th>18332</th>\n",
       "      <td>EDMuy35J</td>\n",
       "      <td>2010-07-17</td>\n",
       "      <td>Vasco</td>\n",
       "      <td>Atletico-PR</td>\n",
       "      <td>3:1</td>\n",
       "      <td></td>\n",
       "      <td>3.0</td>\n",
       "      <td>1.0</td>\n",
       "    </tr>\n",
       "  </tbody>\n",
       "</table>\n",
       "</div>"
      ],
      "text/plain": [
       "             id       date  teamH        teamA score scoremod  goalsH  goalsA\n",
       "18332  EDMuy35J 2010-07-17  Vasco  Atletico-PR   3:1              3.0     1.0"
      ]
     },
     "metadata": {},
     "output_type": "display_data"
    },
    {
     "name": "stdout",
     "output_type": "stream",
     "text": [
      "             GRÊMIO BARUERI/SP > Barueri\n"
     ]
    },
    {
     "data": {
      "text/plain": [
       "roundno                         466\n",
       "gameno                            8\n",
       "date            2011-06-11 00:00:00\n",
       "teamH             GRÊMIO BARUERI/SP\n",
       "goalsH                            1\n",
       "teamA       PORTUGUESA DESPORTOS/SP\n",
       "goalsA                            1\n",
       "happened                       True\n",
       "Name: 6517, dtype: object"
      ]
     },
     "metadata": {},
     "output_type": "display_data"
    },
    {
     "data": {
      "text/html": [
       "<div>\n",
       "<style scoped>\n",
       "    .dataframe tbody tr th:only-of-type {\n",
       "        vertical-align: middle;\n",
       "    }\n",
       "\n",
       "    .dataframe tbody tr th {\n",
       "        vertical-align: top;\n",
       "    }\n",
       "\n",
       "    .dataframe thead th {\n",
       "        text-align: right;\n",
       "    }\n",
       "</style>\n",
       "<table border=\"1\" class=\"dataframe\">\n",
       "  <thead>\n",
       "    <tr style=\"text-align: right;\">\n",
       "      <th></th>\n",
       "      <th>id</th>\n",
       "      <th>date</th>\n",
       "      <th>teamH</th>\n",
       "      <th>teamA</th>\n",
       "      <th>score</th>\n",
       "      <th>scoremod</th>\n",
       "      <th>goalsH</th>\n",
       "      <th>goalsA</th>\n",
       "    </tr>\n",
       "  </thead>\n",
       "  <tbody>\n",
       "    <tr>\n",
       "      <th>32436</th>\n",
       "      <td>4rHNNkEH</td>\n",
       "      <td>2011-06-11</td>\n",
       "      <td>Barueri</td>\n",
       "      <td>Portuguesa</td>\n",
       "      <td>1:1</td>\n",
       "      <td></td>\n",
       "      <td>1.0</td>\n",
       "      <td>1.0</td>\n",
       "    </tr>\n",
       "  </tbody>\n",
       "</table>\n",
       "</div>"
      ],
      "text/plain": [
       "             id       date    teamH       teamA score scoremod  goalsH  goalsA\n",
       "32436  4rHNNkEH 2011-06-11  Barueri  Portuguesa   1:1              1.0     1.0"
      ]
     },
     "metadata": {},
     "output_type": "display_data"
    },
    {
     "name": "stdout",
     "output_type": "stream",
     "text": [
      "              XV PIRACICABA/SP > Piracicaba\n"
     ]
    },
    {
     "data": {
      "text/plain": [
       "roundno                     500\n",
       "gameno                        8\n",
       "date        2012-03-04 00:00:00\n",
       "teamH          XV PIRACICABA/SP\n",
       "goalsH                        0\n",
       "teamA              SÃO PAULO/SP\n",
       "goalsA                        1\n",
       "happened                   True\n",
       "Name: 6993, dtype: object"
      ]
     },
     "metadata": {},
     "output_type": "display_data"
    },
    {
     "data": {
      "text/html": [
       "<div>\n",
       "<style scoped>\n",
       "    .dataframe tbody tr th:only-of-type {\n",
       "        vertical-align: middle;\n",
       "    }\n",
       "\n",
       "    .dataframe tbody tr th {\n",
       "        vertical-align: top;\n",
       "    }\n",
       "\n",
       "    .dataframe thead th {\n",
       "        text-align: right;\n",
       "    }\n",
       "</style>\n",
       "<table border=\"1\" class=\"dataframe\">\n",
       "  <thead>\n",
       "    <tr style=\"text-align: right;\">\n",
       "      <th></th>\n",
       "      <th>id</th>\n",
       "      <th>date</th>\n",
       "      <th>teamH</th>\n",
       "      <th>teamA</th>\n",
       "      <th>score</th>\n",
       "      <th>scoremod</th>\n",
       "      <th>goalsH</th>\n",
       "      <th>goalsA</th>\n",
       "    </tr>\n",
       "  </thead>\n",
       "  <tbody>\n",
       "    <tr>\n",
       "      <th>41098</th>\n",
       "      <td>xIERnwlJ</td>\n",
       "      <td>2012-03-04</td>\n",
       "      <td>Piracicaba</td>\n",
       "      <td>Sao Paulo</td>\n",
       "      <td>0:1</td>\n",
       "      <td></td>\n",
       "      <td>0.0</td>\n",
       "      <td>1.0</td>\n",
       "    </tr>\n",
       "  </tbody>\n",
       "</table>\n",
       "</div>"
      ],
      "text/plain": [
       "             id       date       teamH      teamA score scoremod  goalsH  \\\n",
       "41098  xIERnwlJ 2012-03-04  Piracicaba  Sao Paulo   0:1              0.0   \n",
       "\n",
       "       goalsA  \n",
       "41098     1.0  "
      ]
     },
     "metadata": {},
     "output_type": "display_data"
    },
    {
     "name": "stdout",
     "output_type": "stream",
     "text": [
      "                BOA ESPORTE/MG > Boa\n"
     ]
    },
    {
     "data": {
      "text/plain": [
       "roundno                     513\n",
       "gameno                       12\n",
       "date        2012-06-02 00:00:00\n",
       "teamH                    ASA/AL\n",
       "goalsH                        3\n",
       "teamA            BOA ESPORTE/MG\n",
       "goalsA                        2\n",
       "happened                   True\n",
       "Name: 7179, dtype: object"
      ]
     },
     "metadata": {},
     "output_type": "display_data"
    },
    {
     "data": {
      "text/html": [
       "<div>\n",
       "<style scoped>\n",
       "    .dataframe tbody tr th:only-of-type {\n",
       "        vertical-align: middle;\n",
       "    }\n",
       "\n",
       "    .dataframe tbody tr th {\n",
       "        vertical-align: top;\n",
       "    }\n",
       "\n",
       "    .dataframe thead th {\n",
       "        text-align: right;\n",
       "    }\n",
       "</style>\n",
       "<table border=\"1\" class=\"dataframe\">\n",
       "  <thead>\n",
       "    <tr style=\"text-align: right;\">\n",
       "      <th></th>\n",
       "      <th>id</th>\n",
       "      <th>date</th>\n",
       "      <th>teamH</th>\n",
       "      <th>teamA</th>\n",
       "      <th>score</th>\n",
       "      <th>scoremod</th>\n",
       "      <th>goalsH</th>\n",
       "      <th>goalsA</th>\n",
       "    </tr>\n",
       "  </thead>\n",
       "  <tbody>\n",
       "    <tr>\n",
       "      <th>40848</th>\n",
       "      <td>21MWd2UF</td>\n",
       "      <td>2012-06-02</td>\n",
       "      <td>ASA</td>\n",
       "      <td>Boa</td>\n",
       "      <td>3:2</td>\n",
       "      <td></td>\n",
       "      <td>3.0</td>\n",
       "      <td>2.0</td>\n",
       "    </tr>\n",
       "  </tbody>\n",
       "</table>\n",
       "</div>"
      ],
      "text/plain": [
       "             id       date teamH teamA score scoremod  goalsH  goalsA\n",
       "40848  21MWd2UF 2012-06-02   ASA   Boa   3:2              3.0     2.0"
      ]
     },
     "metadata": {},
     "output_type": "display_data"
    },
    {
     "name": "stdout",
     "output_type": "stream",
     "text": [
      "                      PORTO/PE > CA Porto\n"
     ]
    },
    {
     "data": {
      "text/plain": [
       "roundno                     544\n",
       "gameno                        4\n",
       "date        2013-02-02 00:00:00\n",
       "teamH                  PORTO/PE\n",
       "goalsH                        0\n",
       "teamA                NÁUTICO/PE\n",
       "goalsA                        3\n",
       "happened                   True\n",
       "Name: 7605, dtype: object"
      ]
     },
     "metadata": {},
     "output_type": "display_data"
    },
    {
     "data": {
      "text/html": [
       "<div>\n",
       "<style scoped>\n",
       "    .dataframe tbody tr th:only-of-type {\n",
       "        vertical-align: middle;\n",
       "    }\n",
       "\n",
       "    .dataframe tbody tr th {\n",
       "        vertical-align: top;\n",
       "    }\n",
       "\n",
       "    .dataframe thead th {\n",
       "        text-align: right;\n",
       "    }\n",
       "</style>\n",
       "<table border=\"1\" class=\"dataframe\">\n",
       "  <thead>\n",
       "    <tr style=\"text-align: right;\">\n",
       "      <th></th>\n",
       "      <th>id</th>\n",
       "      <th>date</th>\n",
       "      <th>teamH</th>\n",
       "      <th>teamA</th>\n",
       "      <th>score</th>\n",
       "      <th>scoremod</th>\n",
       "      <th>goalsH</th>\n",
       "      <th>goalsA</th>\n",
       "    </tr>\n",
       "  </thead>\n",
       "  <tbody>\n",
       "    <tr>\n",
       "      <th>50521</th>\n",
       "      <td>vmkJlBZ1</td>\n",
       "      <td>2013-02-02</td>\n",
       "      <td>CA Porto</td>\n",
       "      <td>Nautico</td>\n",
       "      <td>0:3</td>\n",
       "      <td></td>\n",
       "      <td>0.0</td>\n",
       "      <td>3.0</td>\n",
       "    </tr>\n",
       "  </tbody>\n",
       "</table>\n",
       "</div>"
      ],
      "text/plain": [
       "             id       date     teamH    teamA score scoremod  goalsH  goalsA\n",
       "50521  vmkJlBZ1 2013-02-02  CA Porto  Nautico   0:3              0.0     3.0"
      ]
     },
     "metadata": {},
     "output_type": "display_data"
    },
    {
     "name": "stdout",
     "output_type": "stream",
     "text": [
      "                     CAXIAS/RS > SER Caxias\n"
     ]
    },
    {
     "data": {
      "text/plain": [
       "roundno                     544\n",
       "gameno                        7\n",
       "date        2013-02-03 00:00:00\n",
       "teamH              JUVENTUDE/RS\n",
       "goalsH                        1\n",
       "teamA                 CAXIAS/RS\n",
       "goalsA                        1\n",
       "happened                   True\n",
       "Name: 7608, dtype: object"
      ]
     },
     "metadata": {},
     "output_type": "display_data"
    },
    {
     "data": {
      "text/html": [
       "<div>\n",
       "<style scoped>\n",
       "    .dataframe tbody tr th:only-of-type {\n",
       "        vertical-align: middle;\n",
       "    }\n",
       "\n",
       "    .dataframe tbody tr th {\n",
       "        vertical-align: top;\n",
       "    }\n",
       "\n",
       "    .dataframe thead th {\n",
       "        text-align: right;\n",
       "    }\n",
       "</style>\n",
       "<table border=\"1\" class=\"dataframe\">\n",
       "  <thead>\n",
       "    <tr style=\"text-align: right;\">\n",
       "      <th></th>\n",
       "      <th>id</th>\n",
       "      <th>date</th>\n",
       "      <th>teamH</th>\n",
       "      <th>teamA</th>\n",
       "      <th>score</th>\n",
       "      <th>scoremod</th>\n",
       "      <th>goalsH</th>\n",
       "      <th>goalsA</th>\n",
       "    </tr>\n",
       "  </thead>\n",
       "  <tbody>\n",
       "    <tr>\n",
       "      <th>49804</th>\n",
       "      <td>faVv12j6</td>\n",
       "      <td>2013-02-03</td>\n",
       "      <td>Juventude</td>\n",
       "      <td>SER Caxias</td>\n",
       "      <td>1:1</td>\n",
       "      <td></td>\n",
       "      <td>1.0</td>\n",
       "      <td>1.0</td>\n",
       "    </tr>\n",
       "  </tbody>\n",
       "</table>\n",
       "</div>"
      ],
      "text/plain": [
       "             id       date      teamH       teamA score scoremod  goalsH  \\\n",
       "49804  faVv12j6 2013-02-03  Juventude  SER Caxias   1:1              1.0   \n",
       "\n",
       "       goalsA  \n",
       "49804     1.0  "
      ]
     },
     "metadata": {},
     "output_type": "display_data"
    },
    {
     "name": "stdout",
     "output_type": "stream",
     "text": [
      "                   SOROCABA/SP > Atl. Sorocaba\n"
     ]
    },
    {
     "data": {
      "text/plain": [
       "roundno                     546\n",
       "gameno                        7\n",
       "date        2013-02-17 00:00:00\n",
       "teamH               SOROCABA/SP\n",
       "goalsH                        2\n",
       "teamA                LINENSE/SP\n",
       "goalsA                        3\n",
       "happened                   True\n",
       "Name: 7636, dtype: object"
      ]
     },
     "metadata": {},
     "output_type": "display_data"
    },
    {
     "data": {
      "text/html": [
       "<div>\n",
       "<style scoped>\n",
       "    .dataframe tbody tr th:only-of-type {\n",
       "        vertical-align: middle;\n",
       "    }\n",
       "\n",
       "    .dataframe tbody tr th {\n",
       "        vertical-align: top;\n",
       "    }\n",
       "\n",
       "    .dataframe thead th {\n",
       "        text-align: right;\n",
       "    }\n",
       "</style>\n",
       "<table border=\"1\" class=\"dataframe\">\n",
       "  <thead>\n",
       "    <tr style=\"text-align: right;\">\n",
       "      <th></th>\n",
       "      <th>id</th>\n",
       "      <th>date</th>\n",
       "      <th>teamH</th>\n",
       "      <th>teamA</th>\n",
       "      <th>score</th>\n",
       "      <th>scoremod</th>\n",
       "      <th>goalsH</th>\n",
       "      <th>goalsA</th>\n",
       "    </tr>\n",
       "  </thead>\n",
       "  <tbody>\n",
       "    <tr>\n",
       "      <th>50318</th>\n",
       "      <td>OG6pnQq7</td>\n",
       "      <td>2013-02-17</td>\n",
       "      <td>Atl. Sorocaba</td>\n",
       "      <td>Linense</td>\n",
       "      <td>2:3</td>\n",
       "      <td></td>\n",
       "      <td>2.0</td>\n",
       "      <td>3.0</td>\n",
       "    </tr>\n",
       "  </tbody>\n",
       "</table>\n",
       "</div>"
      ],
      "text/plain": [
       "             id       date          teamH    teamA score scoremod  goalsH  \\\n",
       "50318  OG6pnQq7 2013-02-17  Atl. Sorocaba  Linense   2:3              2.0   \n",
       "\n",
       "       goalsA  \n",
       "50318     3.0  "
      ]
     },
     "metadata": {},
     "output_type": "display_data"
    },
    {
     "name": "stdout",
     "output_type": "stream",
     "text": [
      "                 FLUMINENSE/BA > Fluminense de Feira\n"
     ]
    },
    {
     "data": {
      "text/plain": [
       "roundno                     547\n",
       "gameno                       13\n",
       "date        2013-02-24 00:00:00\n",
       "teamH         BAHIA DE FEIRA/BA\n",
       "goalsH                        2\n",
       "teamA             FLUMINENSE/BA\n",
       "goalsA                        0\n",
       "happened                   True\n",
       "Name: 7656, dtype: object"
      ]
     },
     "metadata": {},
     "output_type": "display_data"
    },
    {
     "data": {
      "text/html": [
       "<div>\n",
       "<style scoped>\n",
       "    .dataframe tbody tr th:only-of-type {\n",
       "        vertical-align: middle;\n",
       "    }\n",
       "\n",
       "    .dataframe tbody tr th {\n",
       "        vertical-align: top;\n",
       "    }\n",
       "\n",
       "    .dataframe thead th {\n",
       "        text-align: right;\n",
       "    }\n",
       "</style>\n",
       "<table border=\"1\" class=\"dataframe\">\n",
       "  <thead>\n",
       "    <tr style=\"text-align: right;\">\n",
       "      <th></th>\n",
       "      <th>id</th>\n",
       "      <th>date</th>\n",
       "      <th>teamH</th>\n",
       "      <th>teamA</th>\n",
       "      <th>score</th>\n",
       "      <th>scoremod</th>\n",
       "      <th>goalsH</th>\n",
       "      <th>goalsA</th>\n",
       "    </tr>\n",
       "  </thead>\n",
       "  <tbody>\n",
       "    <tr>\n",
       "      <th>49381</th>\n",
       "      <td>hCfE4ata</td>\n",
       "      <td>2013-02-24</td>\n",
       "      <td>Bahia De Feira</td>\n",
       "      <td>Fluminense de Feira</td>\n",
       "      <td>2:0</td>\n",
       "      <td></td>\n",
       "      <td>2.0</td>\n",
       "      <td>0.0</td>\n",
       "    </tr>\n",
       "  </tbody>\n",
       "</table>\n",
       "</div>"
      ],
      "text/plain": [
       "             id       date           teamH                teamA score  \\\n",
       "49381  hCfE4ata 2013-02-24  Bahia De Feira  Fluminense de Feira   2:0   \n",
       "\n",
       "      scoremod  goalsH  goalsA  \n",
       "49381              2.0     0.0  "
      ]
     },
     "metadata": {},
     "output_type": "display_data"
    },
    {
     "name": "stdout",
     "output_type": "stream",
     "text": [
      "                   ATLÉTICO/BA > Alagoinhas\n"
     ]
    },
    {
     "data": {
      "text/plain": [
       "roundno                     549\n",
       "gameno                       11\n",
       "date        2013-03-10 00:00:00\n",
       "teamH         BAHIA DE FEIRA/BA\n",
       "goalsH                        2\n",
       "teamA               ATLÉTICO/BA\n",
       "goalsA                        1\n",
       "happened                   True\n",
       "Name: 7682, dtype: object"
      ]
     },
     "metadata": {},
     "output_type": "display_data"
    },
    {
     "data": {
      "text/html": [
       "<div>\n",
       "<style scoped>\n",
       "    .dataframe tbody tr th:only-of-type {\n",
       "        vertical-align: middle;\n",
       "    }\n",
       "\n",
       "    .dataframe tbody tr th {\n",
       "        vertical-align: top;\n",
       "    }\n",
       "\n",
       "    .dataframe thead th {\n",
       "        text-align: right;\n",
       "    }\n",
       "</style>\n",
       "<table border=\"1\" class=\"dataframe\">\n",
       "  <thead>\n",
       "    <tr style=\"text-align: right;\">\n",
       "      <th></th>\n",
       "      <th>id</th>\n",
       "      <th>date</th>\n",
       "      <th>teamH</th>\n",
       "      <th>teamA</th>\n",
       "      <th>score</th>\n",
       "      <th>scoremod</th>\n",
       "      <th>goalsH</th>\n",
       "      <th>goalsA</th>\n",
       "    </tr>\n",
       "  </thead>\n",
       "  <tbody>\n",
       "    <tr>\n",
       "      <th>49370</th>\n",
       "      <td>hQZnJbeh</td>\n",
       "      <td>2013-03-10</td>\n",
       "      <td>Bahia De Feira</td>\n",
       "      <td>Alagoinhas</td>\n",
       "      <td>2:1</td>\n",
       "      <td></td>\n",
       "      <td>2.0</td>\n",
       "      <td>1.0</td>\n",
       "    </tr>\n",
       "  </tbody>\n",
       "</table>\n",
       "</div>"
      ],
      "text/plain": [
       "             id       date           teamH       teamA score scoremod  goalsH  \\\n",
       "49370  hQZnJbeh 2013-03-10  Bahia De Feira  Alagoinhas   2:1              2.0   \n",
       "\n",
       "       goalsA  \n",
       "49370     1.0  "
      ]
     },
     "metadata": {},
     "output_type": "display_data"
    },
    {
     "name": "stdout",
     "output_type": "stream",
     "text": [
      "                    CENTRAL/PE > Central SC\n"
     ]
    },
    {
     "data": {
      "text/plain": [
       "roundno                     569\n",
       "gameno                        7\n",
       "date        2013-08-04 00:00:00\n",
       "teamH                CENTRAL/PE\n",
       "goalsH                        1\n",
       "teamA                GUARANY/CE\n",
       "goalsA                        0\n",
       "happened                   True\n",
       "Name: 7958, dtype: object"
      ]
     },
     "metadata": {},
     "output_type": "display_data"
    },
    {
     "data": {
      "text/html": [
       "<div>\n",
       "<style scoped>\n",
       "    .dataframe tbody tr th:only-of-type {\n",
       "        vertical-align: middle;\n",
       "    }\n",
       "\n",
       "    .dataframe tbody tr th {\n",
       "        vertical-align: top;\n",
       "    }\n",
       "\n",
       "    .dataframe thead th {\n",
       "        text-align: right;\n",
       "    }\n",
       "</style>\n",
       "<table border=\"1\" class=\"dataframe\">\n",
       "  <thead>\n",
       "    <tr style=\"text-align: right;\">\n",
       "      <th></th>\n",
       "      <th>id</th>\n",
       "      <th>date</th>\n",
       "      <th>teamH</th>\n",
       "      <th>teamA</th>\n",
       "      <th>score</th>\n",
       "      <th>scoremod</th>\n",
       "      <th>goalsH</th>\n",
       "      <th>goalsA</th>\n",
       "    </tr>\n",
       "  </thead>\n",
       "  <tbody>\n",
       "    <tr>\n",
       "      <th>49224</th>\n",
       "      <td>G8411H4r</td>\n",
       "      <td>2013-08-04</td>\n",
       "      <td>Central SC</td>\n",
       "      <td>Guarany</td>\n",
       "      <td>1:0</td>\n",
       "      <td></td>\n",
       "      <td>1.0</td>\n",
       "      <td>0.0</td>\n",
       "    </tr>\n",
       "  </tbody>\n",
       "</table>\n",
       "</div>"
      ],
      "text/plain": [
       "             id       date       teamH    teamA score scoremod  goalsH  goalsA\n",
       "49224  G8411H4r 2013-08-04  Central SC  Guarany   1:0              1.0     0.0"
      ]
     },
     "metadata": {},
     "output_type": "display_data"
    },
    {
     "name": "stdout",
     "output_type": "stream",
     "text": [
      "          BOA ESPORTE CLUBE/MG > Boa\n"
     ]
    },
    {
     "data": {
      "text/plain": [
       "roundno                      584\n",
       "gameno                         6\n",
       "date         2013-11-16 00:00:00\n",
       "teamH               PALMEIRAS/SP\n",
       "goalsH                         3\n",
       "teamA       BOA ESPORTE CLUBE/MG\n",
       "goalsA                         0\n",
       "happened                    True\n",
       "Name: 8167, dtype: object"
      ]
     },
     "metadata": {},
     "output_type": "display_data"
    },
    {
     "data": {
      "text/html": [
       "<div>\n",
       "<style scoped>\n",
       "    .dataframe tbody tr th:only-of-type {\n",
       "        vertical-align: middle;\n",
       "    }\n",
       "\n",
       "    .dataframe tbody tr th {\n",
       "        vertical-align: top;\n",
       "    }\n",
       "\n",
       "    .dataframe thead th {\n",
       "        text-align: right;\n",
       "    }\n",
       "</style>\n",
       "<table border=\"1\" class=\"dataframe\">\n",
       "  <thead>\n",
       "    <tr style=\"text-align: right;\">\n",
       "      <th></th>\n",
       "      <th>id</th>\n",
       "      <th>date</th>\n",
       "      <th>teamH</th>\n",
       "      <th>teamA</th>\n",
       "      <th>score</th>\n",
       "      <th>scoremod</th>\n",
       "      <th>goalsH</th>\n",
       "      <th>goalsA</th>\n",
       "    </tr>\n",
       "  </thead>\n",
       "  <tbody>\n",
       "    <tr>\n",
       "      <th>48568</th>\n",
       "      <td>6eYYBinE</td>\n",
       "      <td>2013-11-16</td>\n",
       "      <td>Palmeiras</td>\n",
       "      <td>Boa</td>\n",
       "      <td>3:0</td>\n",
       "      <td></td>\n",
       "      <td>3.0</td>\n",
       "      <td>0.0</td>\n",
       "    </tr>\n",
       "  </tbody>\n",
       "</table>\n",
       "</div>"
      ],
      "text/plain": [
       "             id       date      teamH teamA score scoremod  goalsH  goalsA\n",
       "48568  6eYYBinE 2013-11-16  Palmeiras   Boa   3:0              3.0     0.0"
      ]
     },
     "metadata": {},
     "output_type": "display_data"
    },
    {
     "name": "stdout",
     "output_type": "stream",
     "text": [
      "                    GUARANI/CE > Guarani de Juazeiro\n"
     ]
    },
    {
     "data": {
      "text/plain": [
       "roundno                     593\n",
       "gameno                        8\n",
       "date        2014-02-09 00:00:00\n",
       "teamH              ITAPIPOCA/CE\n",
       "goalsH                        0\n",
       "teamA                GUARANI/CE\n",
       "goalsA                        1\n",
       "happened                   True\n",
       "Name: 8295, dtype: object"
      ]
     },
     "metadata": {},
     "output_type": "display_data"
    },
    {
     "data": {
      "text/html": [
       "<div>\n",
       "<style scoped>\n",
       "    .dataframe tbody tr th:only-of-type {\n",
       "        vertical-align: middle;\n",
       "    }\n",
       "\n",
       "    .dataframe tbody tr th {\n",
       "        vertical-align: top;\n",
       "    }\n",
       "\n",
       "    .dataframe thead th {\n",
       "        text-align: right;\n",
       "    }\n",
       "</style>\n",
       "<table border=\"1\" class=\"dataframe\">\n",
       "  <thead>\n",
       "    <tr style=\"text-align: right;\">\n",
       "      <th></th>\n",
       "      <th>id</th>\n",
       "      <th>date</th>\n",
       "      <th>teamH</th>\n",
       "      <th>teamA</th>\n",
       "      <th>score</th>\n",
       "      <th>scoremod</th>\n",
       "      <th>goalsH</th>\n",
       "      <th>goalsA</th>\n",
       "    </tr>\n",
       "  </thead>\n",
       "  <tbody>\n",
       "    <tr>\n",
       "      <th>59500</th>\n",
       "      <td>IsIFyJKs</td>\n",
       "      <td>2014-02-09</td>\n",
       "      <td>Itapipoca</td>\n",
       "      <td>Guarani de Juazeiro</td>\n",
       "      <td>0:1</td>\n",
       "      <td></td>\n",
       "      <td>0.0</td>\n",
       "      <td>1.0</td>\n",
       "    </tr>\n",
       "  </tbody>\n",
       "</table>\n",
       "</div>"
      ],
      "text/plain": [
       "             id       date      teamH                teamA score scoremod  \\\n",
       "59500  IsIFyJKs 2014-02-09  Itapipoca  Guarani de Juazeiro   0:1            \n",
       "\n",
       "       goalsH  goalsA  \n",
       "59500     0.0     1.0  "
      ]
     },
     "metadata": {},
     "output_type": "display_data"
    },
    {
     "name": "stdout",
     "output_type": "stream",
     "text": [
      "                   JUVENTUS/SC > Gremio Juventus\n"
     ]
    },
    {
     "data": {
      "text/plain": [
       "roundno                     595\n",
       "gameno                        9\n",
       "date        2014-02-23 00:00:00\n",
       "teamH               JUVENTUS/SC\n",
       "goalsH                        1\n",
       "teamA               CRICIÚMA/SC\n",
       "goalsA                        1\n",
       "happened                   True\n",
       "Name: 8324, dtype: object"
      ]
     },
     "metadata": {},
     "output_type": "display_data"
    },
    {
     "data": {
      "text/html": [
       "<div>\n",
       "<style scoped>\n",
       "    .dataframe tbody tr th:only-of-type {\n",
       "        vertical-align: middle;\n",
       "    }\n",
       "\n",
       "    .dataframe tbody tr th {\n",
       "        vertical-align: top;\n",
       "    }\n",
       "\n",
       "    .dataframe thead th {\n",
       "        text-align: right;\n",
       "    }\n",
       "</style>\n",
       "<table border=\"1\" class=\"dataframe\">\n",
       "  <thead>\n",
       "    <tr style=\"text-align: right;\">\n",
       "      <th></th>\n",
       "      <th>id</th>\n",
       "      <th>date</th>\n",
       "      <th>teamH</th>\n",
       "      <th>teamA</th>\n",
       "      <th>score</th>\n",
       "      <th>scoremod</th>\n",
       "      <th>goalsH</th>\n",
       "      <th>goalsA</th>\n",
       "    </tr>\n",
       "  </thead>\n",
       "  <tbody>\n",
       "    <tr>\n",
       "      <th>59439</th>\n",
       "      <td>SdVDI7YJ</td>\n",
       "      <td>2014-02-23</td>\n",
       "      <td>Gremio Juventus</td>\n",
       "      <td>Criciuma</td>\n",
       "      <td>1:1</td>\n",
       "      <td></td>\n",
       "      <td>1.0</td>\n",
       "      <td>1.0</td>\n",
       "    </tr>\n",
       "  </tbody>\n",
       "</table>\n",
       "</div>"
      ],
      "text/plain": [
       "             id       date            teamH     teamA score scoremod  goalsH  \\\n",
       "59439  SdVDI7YJ 2014-02-23  Gremio Juventus  Criciuma   1:1              1.0   \n",
       "\n",
       "       goalsA  \n",
       "59439     1.0  "
      ]
     },
     "metadata": {},
     "output_type": "display_data"
    },
    {
     "name": "stdout",
     "output_type": "stream",
     "text": [
      "                   SÃO JOSÉ/RS > EC Sao Jose\n"
     ]
    },
    {
     "data": {
      "text/plain": [
       "roundno                     597\n",
       "gameno                        5\n",
       "date        2014-03-09 00:00:00\n",
       "teamH            VERANÓPOLIS/RS\n",
       "goalsH                        1\n",
       "teamA               SÃO JOSÉ/RS\n",
       "goalsA                        1\n",
       "happened                   True\n",
       "Name: 8348, dtype: object"
      ]
     },
     "metadata": {},
     "output_type": "display_data"
    },
    {
     "data": {
      "text/html": [
       "<div>\n",
       "<style scoped>\n",
       "    .dataframe tbody tr th:only-of-type {\n",
       "        vertical-align: middle;\n",
       "    }\n",
       "\n",
       "    .dataframe tbody tr th {\n",
       "        vertical-align: top;\n",
       "    }\n",
       "\n",
       "    .dataframe thead th {\n",
       "        text-align: right;\n",
       "    }\n",
       "</style>\n",
       "<table border=\"1\" class=\"dataframe\">\n",
       "  <thead>\n",
       "    <tr style=\"text-align: right;\">\n",
       "      <th></th>\n",
       "      <th>id</th>\n",
       "      <th>date</th>\n",
       "      <th>teamH</th>\n",
       "      <th>teamA</th>\n",
       "      <th>score</th>\n",
       "      <th>scoremod</th>\n",
       "      <th>goalsH</th>\n",
       "      <th>goalsA</th>\n",
       "    </tr>\n",
       "  </thead>\n",
       "  <tbody>\n",
       "    <tr>\n",
       "      <th>59613</th>\n",
       "      <td>67n8C93d</td>\n",
       "      <td>2014-03-09</td>\n",
       "      <td>Veranopolis</td>\n",
       "      <td>EC Sao Jose</td>\n",
       "      <td>1:1</td>\n",
       "      <td></td>\n",
       "      <td>1.0</td>\n",
       "      <td>1.0</td>\n",
       "    </tr>\n",
       "  </tbody>\n",
       "</table>\n",
       "</div>"
      ],
      "text/plain": [
       "             id       date        teamH        teamA score scoremod  goalsH  \\\n",
       "59613  67n8C93d 2014-03-09  Veranopolis  EC Sao Jose   1:1              1.0   \n",
       "\n",
       "       goalsA  \n",
       "59613     1.0  "
      ]
     },
     "metadata": {},
     "output_type": "display_data"
    },
    {
     "name": "stdout",
     "output_type": "stream",
     "text": [
      "                    GUARANI/MG > Guarani EC\n"
     ]
    },
    {
     "data": {
      "text/plain": [
       "roundno                     597\n",
       "gameno                       12\n",
       "date        2014-03-09 00:00:00\n",
       "teamH                GUARANI/MG\n",
       "goalsH                        0\n",
       "teamA               ATLÉTICO/MG\n",
       "goalsA                        1\n",
       "happened                   True\n",
       "Name: 8355, dtype: object"
      ]
     },
     "metadata": {},
     "output_type": "display_data"
    },
    {
     "data": {
      "text/html": [
       "<div>\n",
       "<style scoped>\n",
       "    .dataframe tbody tr th:only-of-type {\n",
       "        vertical-align: middle;\n",
       "    }\n",
       "\n",
       "    .dataframe tbody tr th {\n",
       "        vertical-align: top;\n",
       "    }\n",
       "\n",
       "    .dataframe thead th {\n",
       "        text-align: right;\n",
       "    }\n",
       "</style>\n",
       "<table border=\"1\" class=\"dataframe\">\n",
       "  <thead>\n",
       "    <tr style=\"text-align: right;\">\n",
       "      <th></th>\n",
       "      <th>id</th>\n",
       "      <th>date</th>\n",
       "      <th>teamH</th>\n",
       "      <th>teamA</th>\n",
       "      <th>score</th>\n",
       "      <th>scoremod</th>\n",
       "      <th>goalsH</th>\n",
       "      <th>goalsA</th>\n",
       "    </tr>\n",
       "  </thead>\n",
       "  <tbody>\n",
       "    <tr>\n",
       "      <th>59805</th>\n",
       "      <td>ATfX6I5Q</td>\n",
       "      <td>2014-03-09</td>\n",
       "      <td>Guarani EC</td>\n",
       "      <td>Atletico-MG</td>\n",
       "      <td>0:1</td>\n",
       "      <td></td>\n",
       "      <td>0.0</td>\n",
       "      <td>1.0</td>\n",
       "    </tr>\n",
       "  </tbody>\n",
       "</table>\n",
       "</div>"
      ],
      "text/plain": [
       "             id       date       teamH        teamA score scoremod  goalsH  \\\n",
       "59805  ATfX6I5Q 2014-03-09  Guarani EC  Atletico-MG   0:1              0.0   \n",
       "\n",
       "       goalsA  \n",
       "59805     1.0  "
      ]
     },
     "metadata": {},
     "output_type": "display_data"
    },
    {
     "name": "stdout",
     "output_type": "stream",
     "text": [
      "                      ÁGUIA/PA > Aguia De Maraba\n"
     ]
    },
    {
     "data": {
      "text/plain": [
       "roundno                     615\n",
       "gameno                        5\n",
       "date        2014-08-03 00:00:00\n",
       "teamH               BOTAFOGO/PB\n",
       "goalsH                        2\n",
       "teamA                  ÁGUIA/PA\n",
       "goalsA                        0\n",
       "happened                   True\n",
       "Name: 8600, dtype: object"
      ]
     },
     "metadata": {},
     "output_type": "display_data"
    },
    {
     "data": {
      "text/html": [
       "<div>\n",
       "<style scoped>\n",
       "    .dataframe tbody tr th:only-of-type {\n",
       "        vertical-align: middle;\n",
       "    }\n",
       "\n",
       "    .dataframe tbody tr th {\n",
       "        vertical-align: top;\n",
       "    }\n",
       "\n",
       "    .dataframe thead th {\n",
       "        text-align: right;\n",
       "    }\n",
       "</style>\n",
       "<table border=\"1\" class=\"dataframe\">\n",
       "  <thead>\n",
       "    <tr style=\"text-align: right;\">\n",
       "      <th></th>\n",
       "      <th>id</th>\n",
       "      <th>date</th>\n",
       "      <th>teamH</th>\n",
       "      <th>teamA</th>\n",
       "      <th>score</th>\n",
       "      <th>scoremod</th>\n",
       "      <th>goalsH</th>\n",
       "      <th>goalsA</th>\n",
       "    </tr>\n",
       "  </thead>\n",
       "  <tbody>\n",
       "    <tr>\n",
       "      <th>58903</th>\n",
       "      <td>GS8PE64J</td>\n",
       "      <td>2014-08-03</td>\n",
       "      <td>Botafogo PB</td>\n",
       "      <td>Aguia De Maraba</td>\n",
       "      <td>2:0</td>\n",
       "      <td></td>\n",
       "      <td>2.0</td>\n",
       "      <td>0.0</td>\n",
       "    </tr>\n",
       "  </tbody>\n",
       "</table>\n",
       "</div>"
      ],
      "text/plain": [
       "             id       date        teamH            teamA score scoremod  \\\n",
       "58903  GS8PE64J 2014-08-03  Botafogo PB  Aguia De Maraba   2:0            \n",
       "\n",
       "       goalsH  goalsA  \n",
       "58903     2.0     0.0  "
      ]
     },
     "metadata": {},
     "output_type": "display_data"
    },
    {
     "name": "stdout",
     "output_type": "stream",
     "text": [
      "                 MOTO CLUBE/MA > Moto Club\n"
     ]
    },
    {
     "data": {
      "text/plain": [
       "roundno                     619\n",
       "gameno                        4\n",
       "date        2014-08-31 00:00:00\n",
       "teamH             MOTO CLUBE/MA\n",
       "goalsH                        2\n",
       "teamA                  RIVER/PI\n",
       "goalsA                        2\n",
       "happened                   True\n",
       "Name: 8655, dtype: object"
      ]
     },
     "metadata": {},
     "output_type": "display_data"
    },
    {
     "data": {
      "text/html": [
       "<div>\n",
       "<style scoped>\n",
       "    .dataframe tbody tr th:only-of-type {\n",
       "        vertical-align: middle;\n",
       "    }\n",
       "\n",
       "    .dataframe tbody tr th {\n",
       "        vertical-align: top;\n",
       "    }\n",
       "\n",
       "    .dataframe thead th {\n",
       "        text-align: right;\n",
       "    }\n",
       "</style>\n",
       "<table border=\"1\" class=\"dataframe\">\n",
       "  <thead>\n",
       "    <tr style=\"text-align: right;\">\n",
       "      <th></th>\n",
       "      <th>id</th>\n",
       "      <th>date</th>\n",
       "      <th>teamH</th>\n",
       "      <th>teamA</th>\n",
       "      <th>score</th>\n",
       "      <th>scoremod</th>\n",
       "      <th>goalsH</th>\n",
       "      <th>goalsA</th>\n",
       "    </tr>\n",
       "  </thead>\n",
       "  <tbody>\n",
       "    <tr>\n",
       "      <th>59075</th>\n",
       "      <td>QD8QgQuK</td>\n",
       "      <td>2014-08-31</td>\n",
       "      <td>Moto Club</td>\n",
       "      <td>River-PI</td>\n",
       "      <td>2:2</td>\n",
       "      <td></td>\n",
       "      <td>2.0</td>\n",
       "      <td>2.0</td>\n",
       "    </tr>\n",
       "  </tbody>\n",
       "</table>\n",
       "</div>"
      ],
      "text/plain": [
       "             id       date      teamH     teamA score scoremod  goalsH  goalsA\n",
       "59075  QD8QgQuK 2014-08-31  Moto Club  River-PI   2:2              2.0     2.0"
      ]
     },
     "metadata": {},
     "output_type": "display_data"
    },
    {
     "name": "stdout",
     "output_type": "stream",
     "text": [
      "             SÃO JOSÉ (PA) /RS > EC Sao Jose\n"
     ]
    },
    {
     "data": {
      "text/plain": [
       "roundno                     640\n",
       "gameno                       10\n",
       "date        2015-02-15 00:00:00\n",
       "teamH         SÃO JOSÉ (PA) /RS\n",
       "goalsH                        0\n",
       "teamA              JUVENTUDE/RS\n",
       "goalsA                        1\n",
       "happened                   True\n",
       "Name: 8955, dtype: object"
      ]
     },
     "metadata": {},
     "output_type": "display_data"
    },
    {
     "data": {
      "text/html": [
       "<div>\n",
       "<style scoped>\n",
       "    .dataframe tbody tr th:only-of-type {\n",
       "        vertical-align: middle;\n",
       "    }\n",
       "\n",
       "    .dataframe tbody tr th {\n",
       "        vertical-align: top;\n",
       "    }\n",
       "\n",
       "    .dataframe thead th {\n",
       "        text-align: right;\n",
       "    }\n",
       "</style>\n",
       "<table border=\"1\" class=\"dataframe\">\n",
       "  <thead>\n",
       "    <tr style=\"text-align: right;\">\n",
       "      <th></th>\n",
       "      <th>id</th>\n",
       "      <th>date</th>\n",
       "      <th>teamH</th>\n",
       "      <th>teamA</th>\n",
       "      <th>score</th>\n",
       "      <th>scoremod</th>\n",
       "      <th>goalsH</th>\n",
       "      <th>goalsA</th>\n",
       "    </tr>\n",
       "  </thead>\n",
       "  <tbody>\n",
       "    <tr>\n",
       "      <th>68696</th>\n",
       "      <td>j7CeYnCO</td>\n",
       "      <td>2015-02-15</td>\n",
       "      <td>EC Sao Jose</td>\n",
       "      <td>Juventude</td>\n",
       "      <td>0:1</td>\n",
       "      <td></td>\n",
       "      <td>0.0</td>\n",
       "      <td>1.0</td>\n",
       "    </tr>\n",
       "  </tbody>\n",
       "</table>\n",
       "</div>"
      ],
      "text/plain": [
       "             id       date        teamH      teamA score scoremod  goalsH  \\\n",
       "68696  j7CeYnCO 2015-02-15  EC Sao Jose  Juventude   0:1              0.0   \n",
       "\n",
       "       goalsA  \n",
       "68696     1.0  "
      ]
     },
     "metadata": {},
     "output_type": "display_data"
    },
    {
     "name": "stdout",
     "output_type": "stream",
     "text": [
      "                     BRASIL/RS > Brasil de Pelotas\n"
     ]
    },
    {
     "data": {
      "text/plain": [
       "roundno                     640\n",
       "gameno                       11\n",
       "date        2015-02-14 00:00:00\n",
       "teamH          NOVO HAMBURGO/RS\n",
       "goalsH                        0\n",
       "teamA                 BRASIL/RS\n",
       "goalsA                        0\n",
       "happened                   True\n",
       "Name: 8956, dtype: object"
      ]
     },
     "metadata": {},
     "output_type": "display_data"
    },
    {
     "data": {
      "text/html": [
       "<div>\n",
       "<style scoped>\n",
       "    .dataframe tbody tr th:only-of-type {\n",
       "        vertical-align: middle;\n",
       "    }\n",
       "\n",
       "    .dataframe tbody tr th {\n",
       "        vertical-align: top;\n",
       "    }\n",
       "\n",
       "    .dataframe thead th {\n",
       "        text-align: right;\n",
       "    }\n",
       "</style>\n",
       "<table border=\"1\" class=\"dataframe\">\n",
       "  <thead>\n",
       "    <tr style=\"text-align: right;\">\n",
       "      <th></th>\n",
       "      <th>id</th>\n",
       "      <th>date</th>\n",
       "      <th>teamH</th>\n",
       "      <th>teamA</th>\n",
       "      <th>score</th>\n",
       "      <th>scoremod</th>\n",
       "      <th>goalsH</th>\n",
       "      <th>goalsA</th>\n",
       "    </tr>\n",
       "  </thead>\n",
       "  <tbody>\n",
       "    <tr>\n",
       "      <th>68700</th>\n",
       "      <td>CGDiZSdI</td>\n",
       "      <td>2015-02-14</td>\n",
       "      <td>Novo Hamburgo</td>\n",
       "      <td>Brasil de Pelotas</td>\n",
       "      <td>0:0</td>\n",
       "      <td></td>\n",
       "      <td>0.0</td>\n",
       "      <td>0.0</td>\n",
       "    </tr>\n",
       "  </tbody>\n",
       "</table>\n",
       "</div>"
      ],
      "text/plain": [
       "             id       date          teamH              teamA score scoremod  \\\n",
       "68700  CGDiZSdI 2015-02-14  Novo Hamburgo  Brasil de Pelotas   0:0            \n",
       "\n",
       "       goalsH  goalsA  \n",
       "68700     0.0     0.0  "
      ]
     },
     "metadata": {},
     "output_type": "display_data"
    },
    {
     "name": "stdout",
     "output_type": "stream",
     "text": [
      "                 RIO BRANCO/AC > Rio Branco\n"
     ]
    },
    {
     "data": {
      "text/plain": [
       "roundno                     641\n",
       "gameno                        9\n",
       "date        2015-02-22 00:00:00\n",
       "teamH             RIO BRANCO/AC\n",
       "goalsH                        0\n",
       "teamA                   REMO/PA\n",
       "goalsA                        2\n",
       "happened                   True\n",
       "Name: 8968, dtype: object"
      ]
     },
     "metadata": {},
     "output_type": "display_data"
    },
    {
     "data": {
      "text/html": [
       "<div>\n",
       "<style scoped>\n",
       "    .dataframe tbody tr th:only-of-type {\n",
       "        vertical-align: middle;\n",
       "    }\n",
       "\n",
       "    .dataframe tbody tr th {\n",
       "        vertical-align: top;\n",
       "    }\n",
       "\n",
       "    .dataframe thead th {\n",
       "        text-align: right;\n",
       "    }\n",
       "</style>\n",
       "<table border=\"1\" class=\"dataframe\">\n",
       "  <thead>\n",
       "    <tr style=\"text-align: right;\">\n",
       "      <th></th>\n",
       "      <th>id</th>\n",
       "      <th>date</th>\n",
       "      <th>teamH</th>\n",
       "      <th>teamA</th>\n",
       "      <th>score</th>\n",
       "      <th>scoremod</th>\n",
       "      <th>goalsH</th>\n",
       "      <th>goalsA</th>\n",
       "    </tr>\n",
       "  </thead>\n",
       "  <tbody>\n",
       "    <tr>\n",
       "      <th>69589</th>\n",
       "      <td>063ecp89</td>\n",
       "      <td>2015-02-22</td>\n",
       "      <td>Rio Branco</td>\n",
       "      <td>Remo</td>\n",
       "      <td>0:2</td>\n",
       "      <td></td>\n",
       "      <td>0.0</td>\n",
       "      <td>2.0</td>\n",
       "    </tr>\n",
       "  </tbody>\n",
       "</table>\n",
       "</div>"
      ],
      "text/plain": [
       "             id       date       teamH teamA score scoremod  goalsH  goalsA\n",
       "69589  063ecp89 2015-02-22  Rio Branco  Remo   0:2              0.0     2.0"
      ]
     },
     "metadata": {},
     "output_type": "display_data"
    },
    {
     "name": "stdout",
     "output_type": "stream",
     "text": [
      "                   PALMEIRA/RN > Palmeira de Una\n"
     ]
    },
    {
     "data": {
      "text/plain": [
       "roundno                     685\n",
       "gameno                        9\n",
       "date        2016-01-23 00:00:00\n",
       "teamH                    ABC/RN\n",
       "goalsH                        2\n",
       "teamA               PALMEIRA/RN\n",
       "goalsA                        1\n",
       "happened                   True\n",
       "Name: 9584, dtype: object"
      ]
     },
     "metadata": {},
     "output_type": "display_data"
    },
    {
     "data": {
      "text/html": [
       "<div>\n",
       "<style scoped>\n",
       "    .dataframe tbody tr th:only-of-type {\n",
       "        vertical-align: middle;\n",
       "    }\n",
       "\n",
       "    .dataframe tbody tr th {\n",
       "        vertical-align: top;\n",
       "    }\n",
       "\n",
       "    .dataframe thead th {\n",
       "        text-align: right;\n",
       "    }\n",
       "</style>\n",
       "<table border=\"1\" class=\"dataframe\">\n",
       "  <thead>\n",
       "    <tr style=\"text-align: right;\">\n",
       "      <th></th>\n",
       "      <th>id</th>\n",
       "      <th>date</th>\n",
       "      <th>teamH</th>\n",
       "      <th>teamA</th>\n",
       "      <th>score</th>\n",
       "      <th>scoremod</th>\n",
       "      <th>goalsH</th>\n",
       "      <th>goalsA</th>\n",
       "    </tr>\n",
       "  </thead>\n",
       "  <tbody>\n",
       "    <tr>\n",
       "      <th>74487</th>\n",
       "      <td>xWzqPb4c</td>\n",
       "      <td>2016-01-23</td>\n",
       "      <td>ABC</td>\n",
       "      <td>Palmeira de Una</td>\n",
       "      <td>2:1</td>\n",
       "      <td></td>\n",
       "      <td>2.0</td>\n",
       "      <td>1.0</td>\n",
       "    </tr>\n",
       "  </tbody>\n",
       "</table>\n",
       "</div>"
      ],
      "text/plain": [
       "             id       date teamH            teamA score scoremod  goalsH  \\\n",
       "74487  xWzqPb4c 2016-01-23   ABC  Palmeira de Una   2:1              2.0   \n",
       "\n",
       "       goalsA  \n",
       "74487     1.0  "
      ]
     },
     "metadata": {},
     "output_type": "display_data"
    },
    {
     "name": "stdout",
     "output_type": "stream",
     "text": [
      "                BOCA JÚNIOR/SE > Boca Junior\n"
     ]
    },
    {
     "data": {
      "text/plain": [
       "roundno                     685\n",
       "gameno                       11\n",
       "date        2016-01-24 00:00:00\n",
       "teamH              ITABAIANA/SE\n",
       "goalsH                        0\n",
       "teamA            BOCA JÚNIOR/SE\n",
       "goalsA                        0\n",
       "happened                   True\n",
       "Name: 9586, dtype: object"
      ]
     },
     "metadata": {},
     "output_type": "display_data"
    },
    {
     "data": {
      "text/html": [
       "<div>\n",
       "<style scoped>\n",
       "    .dataframe tbody tr th:only-of-type {\n",
       "        vertical-align: middle;\n",
       "    }\n",
       "\n",
       "    .dataframe tbody tr th {\n",
       "        vertical-align: top;\n",
       "    }\n",
       "\n",
       "    .dataframe thead th {\n",
       "        text-align: right;\n",
       "    }\n",
       "</style>\n",
       "<table border=\"1\" class=\"dataframe\">\n",
       "  <thead>\n",
       "    <tr style=\"text-align: right;\">\n",
       "      <th></th>\n",
       "      <th>id</th>\n",
       "      <th>date</th>\n",
       "      <th>teamH</th>\n",
       "      <th>teamA</th>\n",
       "      <th>score</th>\n",
       "      <th>scoremod</th>\n",
       "      <th>goalsH</th>\n",
       "      <th>goalsA</th>\n",
       "    </tr>\n",
       "  </thead>\n",
       "  <tbody>\n",
       "    <tr>\n",
       "      <th>74547</th>\n",
       "      <td>niZl3m7c</td>\n",
       "      <td>2016-01-24</td>\n",
       "      <td>Itabaiana</td>\n",
       "      <td>Boca Junior</td>\n",
       "      <td>0:0</td>\n",
       "      <td></td>\n",
       "      <td>0.0</td>\n",
       "      <td>0.0</td>\n",
       "    </tr>\n",
       "  </tbody>\n",
       "</table>\n",
       "</div>"
      ],
      "text/plain": [
       "             id       date      teamH        teamA score scoremod  goalsH  \\\n",
       "74547  niZl3m7c 2016-01-24  Itabaiana  Boca Junior   0:0              0.0   \n",
       "\n",
       "       goalsA  \n",
       "74547     0.0  "
      ]
     },
     "metadata": {},
     "output_type": "display_data"
    },
    {
     "name": "stdout",
     "output_type": "stream",
     "text": [
      "                    VITORIA/PE > Academica Vitoria\n"
     ]
    },
    {
     "data": {
      "text/plain": [
       "roundno                     685\n",
       "gameno                       12\n",
       "date        2016-01-24 00:00:00\n",
       "teamH                VITORIA/PE\n",
       "goalsH                        0\n",
       "teamA              PESQUEIRA/PE\n",
       "goalsA                        1\n",
       "happened                   True\n",
       "Name: 9587, dtype: object"
      ]
     },
     "metadata": {},
     "output_type": "display_data"
    },
    {
     "data": {
      "text/html": [
       "<div>\n",
       "<style scoped>\n",
       "    .dataframe tbody tr th:only-of-type {\n",
       "        vertical-align: middle;\n",
       "    }\n",
       "\n",
       "    .dataframe tbody tr th {\n",
       "        vertical-align: top;\n",
       "    }\n",
       "\n",
       "    .dataframe thead th {\n",
       "        text-align: right;\n",
       "    }\n",
       "</style>\n",
       "<table border=\"1\" class=\"dataframe\">\n",
       "  <thead>\n",
       "    <tr style=\"text-align: right;\">\n",
       "      <th></th>\n",
       "      <th>id</th>\n",
       "      <th>date</th>\n",
       "      <th>teamH</th>\n",
       "      <th>teamA</th>\n",
       "      <th>score</th>\n",
       "      <th>scoremod</th>\n",
       "      <th>goalsH</th>\n",
       "      <th>goalsA</th>\n",
       "    </tr>\n",
       "  </thead>\n",
       "  <tbody>\n",
       "    <tr>\n",
       "      <th>74351</th>\n",
       "      <td>tz2jMaah</td>\n",
       "      <td>2016-01-24</td>\n",
       "      <td>Academica Vitoria</td>\n",
       "      <td>Pesqueira</td>\n",
       "      <td>0:1</td>\n",
       "      <td></td>\n",
       "      <td>0.0</td>\n",
       "      <td>1.0</td>\n",
       "    </tr>\n",
       "  </tbody>\n",
       "</table>\n",
       "</div>"
      ],
      "text/plain": [
       "             id       date              teamH      teamA score scoremod  \\\n",
       "74351  tz2jMaah 2016-01-24  Academica Vitoria  Pesqueira   0:1            \n",
       "\n",
       "       goalsH  goalsA  \n",
       "74351     0.0     1.0  "
      ]
     },
     "metadata": {},
     "output_type": "display_data"
    },
    {
     "name": "stdout",
     "output_type": "stream",
     "text": [
      "                    GUARANI/SC > Guarani de Palhoca\n"
     ]
    },
    {
     "data": {
      "text/plain": [
       "roundno                     687\n",
       "gameno                        7\n",
       "date        2016-02-06 00:00:00\n",
       "teamH            CHAPECOENSE/SC\n",
       "goalsH                        1\n",
       "teamA                GUARANI/SC\n",
       "goalsA                        1\n",
       "happened                   True\n",
       "Name: 9610, dtype: object"
      ]
     },
     "metadata": {},
     "output_type": "display_data"
    },
    {
     "data": {
      "text/html": [
       "<div>\n",
       "<style scoped>\n",
       "    .dataframe tbody tr th:only-of-type {\n",
       "        vertical-align: middle;\n",
       "    }\n",
       "\n",
       "    .dataframe tbody tr th {\n",
       "        vertical-align: top;\n",
       "    }\n",
       "\n",
       "    .dataframe thead th {\n",
       "        text-align: right;\n",
       "    }\n",
       "</style>\n",
       "<table border=\"1\" class=\"dataframe\">\n",
       "  <thead>\n",
       "    <tr style=\"text-align: right;\">\n",
       "      <th></th>\n",
       "      <th>id</th>\n",
       "      <th>date</th>\n",
       "      <th>teamH</th>\n",
       "      <th>teamA</th>\n",
       "      <th>score</th>\n",
       "      <th>scoremod</th>\n",
       "      <th>goalsH</th>\n",
       "      <th>goalsA</th>\n",
       "    </tr>\n",
       "  </thead>\n",
       "  <tbody>\n",
       "    <tr>\n",
       "      <th>73577</th>\n",
       "      <td>YZmZVX0D</td>\n",
       "      <td>2016-02-06</td>\n",
       "      <td>Chapecoense-SC</td>\n",
       "      <td>Guarani de Palhoca</td>\n",
       "      <td>1:1</td>\n",
       "      <td></td>\n",
       "      <td>1.0</td>\n",
       "      <td>1.0</td>\n",
       "    </tr>\n",
       "  </tbody>\n",
       "</table>\n",
       "</div>"
      ],
      "text/plain": [
       "             id       date           teamH               teamA score scoremod  \\\n",
       "73577  YZmZVX0D 2016-02-06  Chapecoense-SC  Guarani de Palhoca   1:1            \n",
       "\n",
       "       goalsH  goalsA  \n",
       "73577     1.0     1.0  "
      ]
     },
     "metadata": {},
     "output_type": "display_data"
    },
    {
     "name": "stdout",
     "output_type": "stream",
     "text": [
      "                   CAMBURIÚ/SC > Camboriu\n"
     ]
    },
    {
     "data": {
      "text/plain": [
       "roundno                     687\n",
       "gameno                        8\n",
       "date        2016-02-07 00:00:00\n",
       "teamH               CAMBURIÚ/SC\n",
       "goalsH                        1\n",
       "teamA                   AVAÍ/SC\n",
       "goalsA                        1\n",
       "happened                   True\n",
       "Name: 9611, dtype: object"
      ]
     },
     "metadata": {},
     "output_type": "display_data"
    },
    {
     "data": {
      "text/html": [
       "<div>\n",
       "<style scoped>\n",
       "    .dataframe tbody tr th:only-of-type {\n",
       "        vertical-align: middle;\n",
       "    }\n",
       "\n",
       "    .dataframe tbody tr th {\n",
       "        vertical-align: top;\n",
       "    }\n",
       "\n",
       "    .dataframe thead th {\n",
       "        text-align: right;\n",
       "    }\n",
       "</style>\n",
       "<table border=\"1\" class=\"dataframe\">\n",
       "  <thead>\n",
       "    <tr style=\"text-align: right;\">\n",
       "      <th></th>\n",
       "      <th>id</th>\n",
       "      <th>date</th>\n",
       "      <th>teamH</th>\n",
       "      <th>teamA</th>\n",
       "      <th>score</th>\n",
       "      <th>scoremod</th>\n",
       "      <th>goalsH</th>\n",
       "      <th>goalsA</th>\n",
       "    </tr>\n",
       "  </thead>\n",
       "  <tbody>\n",
       "    <tr>\n",
       "      <th>73575</th>\n",
       "      <td>IcMilFGs</td>\n",
       "      <td>2016-02-07</td>\n",
       "      <td>Camboriu</td>\n",
       "      <td>Avai</td>\n",
       "      <td>1:1</td>\n",
       "      <td></td>\n",
       "      <td>1.0</td>\n",
       "      <td>1.0</td>\n",
       "    </tr>\n",
       "  </tbody>\n",
       "</table>\n",
       "</div>"
      ],
      "text/plain": [
       "             id       date     teamH teamA score scoremod  goalsH  goalsA\n",
       "73575  IcMilFGs 2016-02-07  Camboriu  Avai   1:1              1.0     1.0"
      ]
     },
     "metadata": {},
     "output_type": "display_data"
    },
    {
     "name": "stdout",
     "output_type": "stream",
     "text": [
      "                    FORMOSA/GO > Bosque Formosa\n"
     ]
    },
    {
     "data": {
      "text/plain": [
       "roundno                     687\n",
       "gameno                       11\n",
       "date        2016-02-07 00:00:00\n",
       "teamH                FORMOSA/GO\n",
       "goalsH                        0\n",
       "teamA                   GAMA/DF\n",
       "goalsA                        2\n",
       "happened                   True\n",
       "Name: 9614, dtype: object"
      ]
     },
     "metadata": {},
     "output_type": "display_data"
    },
    {
     "data": {
      "text/html": [
       "<div>\n",
       "<style scoped>\n",
       "    .dataframe tbody tr th:only-of-type {\n",
       "        vertical-align: middle;\n",
       "    }\n",
       "\n",
       "    .dataframe tbody tr th {\n",
       "        vertical-align: top;\n",
       "    }\n",
       "\n",
       "    .dataframe thead th {\n",
       "        text-align: right;\n",
       "    }\n",
       "</style>\n",
       "<table border=\"1\" class=\"dataframe\">\n",
       "  <thead>\n",
       "    <tr style=\"text-align: right;\">\n",
       "      <th></th>\n",
       "      <th>id</th>\n",
       "      <th>date</th>\n",
       "      <th>teamH</th>\n",
       "      <th>teamA</th>\n",
       "      <th>score</th>\n",
       "      <th>scoremod</th>\n",
       "      <th>goalsH</th>\n",
       "      <th>goalsA</th>\n",
       "    </tr>\n",
       "  </thead>\n",
       "  <tbody>\n",
       "    <tr>\n",
       "      <th>73404</th>\n",
       "      <td>OvN6AE7f</td>\n",
       "      <td>2016-02-07</td>\n",
       "      <td>Bosque Formosa</td>\n",
       "      <td>Gama</td>\n",
       "      <td>0:2</td>\n",
       "      <td></td>\n",
       "      <td>0.0</td>\n",
       "      <td>2.0</td>\n",
       "    </tr>\n",
       "  </tbody>\n",
       "</table>\n",
       "</div>"
      ],
      "text/plain": [
       "             id       date           teamH teamA score scoremod  goalsH  \\\n",
       "73404  OvN6AE7f 2016-02-07  Bosque Formosa  Gama   0:2              0.0   \n",
       "\n",
       "       goalsA  \n",
       "73404     2.0  "
      ]
     },
     "metadata": {},
     "output_type": "display_data"
    },
    {
     "name": "stdout",
     "output_type": "stream",
     "text": [
      "                  COLO COLO/BA > Colo C.\n"
     ]
    },
    {
     "data": {
      "text/plain": [
       "roundno                     689\n",
       "gameno                        7\n",
       "date        2016-02-21 00:00:00\n",
       "teamH              COLO COLO/BA\n",
       "goalsH                        2\n",
       "teamA                  BAHIA/BA\n",
       "goalsA                        3\n",
       "happened                   True\n",
       "Name: 9638, dtype: object"
      ]
     },
     "metadata": {},
     "output_type": "display_data"
    },
    {
     "data": {
      "text/html": [
       "<div>\n",
       "<style scoped>\n",
       "    .dataframe tbody tr th:only-of-type {\n",
       "        vertical-align: middle;\n",
       "    }\n",
       "\n",
       "    .dataframe tbody tr th {\n",
       "        vertical-align: top;\n",
       "    }\n",
       "\n",
       "    .dataframe thead th {\n",
       "        text-align: right;\n",
       "    }\n",
       "</style>\n",
       "<table border=\"1\" class=\"dataframe\">\n",
       "  <thead>\n",
       "    <tr style=\"text-align: right;\">\n",
       "      <th></th>\n",
       "      <th>id</th>\n",
       "      <th>date</th>\n",
       "      <th>teamH</th>\n",
       "      <th>teamA</th>\n",
       "      <th>score</th>\n",
       "      <th>scoremod</th>\n",
       "      <th>goalsH</th>\n",
       "      <th>goalsA</th>\n",
       "    </tr>\n",
       "  </thead>\n",
       "  <tbody>\n",
       "    <tr>\n",
       "      <th>73319</th>\n",
       "      <td>pldDFp1s</td>\n",
       "      <td>2016-02-21</td>\n",
       "      <td>Colo C.</td>\n",
       "      <td>Bahia</td>\n",
       "      <td>2:3</td>\n",
       "      <td></td>\n",
       "      <td>2.0</td>\n",
       "      <td>3.0</td>\n",
       "    </tr>\n",
       "  </tbody>\n",
       "</table>\n",
       "</div>"
      ],
      "text/plain": [
       "             id       date    teamH  teamA score scoremod  goalsH  goalsA\n",
       "73319  pldDFp1s 2016-02-21  Colo C.  Bahia   2:3              2.0     3.0"
      ]
     },
     "metadata": {},
     "output_type": "display_data"
    },
    {
     "name": "stdout",
     "output_type": "stream",
     "text": [
      "                 ESTANCIANO/SE > Estanciano EC\n"
     ]
    },
    {
     "data": {
      "text/plain": [
       "roundno                     697\n",
       "gameno                        7\n",
       "date        2016-04-17 00:00:00\n",
       "teamH             ESTANCIANO/SE\n",
       "goalsH                        0\n",
       "teamA              ITABAIANA/SE\n",
       "goalsA                        2\n",
       "happened                   True\n",
       "Name: 9750, dtype: object"
      ]
     },
     "metadata": {},
     "output_type": "display_data"
    },
    {
     "data": {
      "text/html": [
       "<div>\n",
       "<style scoped>\n",
       "    .dataframe tbody tr th:only-of-type {\n",
       "        vertical-align: middle;\n",
       "    }\n",
       "\n",
       "    .dataframe tbody tr th {\n",
       "        vertical-align: top;\n",
       "    }\n",
       "\n",
       "    .dataframe thead th {\n",
       "        text-align: right;\n",
       "    }\n",
       "</style>\n",
       "<table border=\"1\" class=\"dataframe\">\n",
       "  <thead>\n",
       "    <tr style=\"text-align: right;\">\n",
       "      <th></th>\n",
       "      <th>id</th>\n",
       "      <th>date</th>\n",
       "      <th>teamH</th>\n",
       "      <th>teamA</th>\n",
       "      <th>score</th>\n",
       "      <th>scoremod</th>\n",
       "      <th>goalsH</th>\n",
       "      <th>goalsA</th>\n",
       "    </tr>\n",
       "  </thead>\n",
       "  <tbody>\n",
       "    <tr>\n",
       "      <th>74560</th>\n",
       "      <td>dteEqHSc</td>\n",
       "      <td>2016-04-17</td>\n",
       "      <td>Estanciano EC</td>\n",
       "      <td>Itabaiana</td>\n",
       "      <td>0:2</td>\n",
       "      <td></td>\n",
       "      <td>0.0</td>\n",
       "      <td>2.0</td>\n",
       "    </tr>\n",
       "  </tbody>\n",
       "</table>\n",
       "</div>"
      ],
      "text/plain": [
       "             id       date          teamH      teamA score scoremod  goalsH  \\\n",
       "74560  dteEqHSc 2016-04-17  Estanciano EC  Itabaiana   0:2              0.0   \n",
       "\n",
       "       goalsA  \n",
       "74560     2.0  "
      ]
     },
     "metadata": {},
     "output_type": "display_data"
    },
    {
     "name": "stdout",
     "output_type": "stream",
     "text": [
      "                   YPIRANGA/RS > Ypiranga FC\n"
     ]
    },
    {
     "data": {
      "text/plain": [
       "roundno                         713\n",
       "gameno                            8\n",
       "date            2016-08-07 00:00:00\n",
       "teamH                   YPIRANGA/RS\n",
       "goalsH                            1\n",
       "teamA       PORTUGUESA DESPORTOS/SP\n",
       "goalsA                            0\n",
       "happened                       True\n",
       "Name: 9975, dtype: object"
      ]
     },
     "metadata": {},
     "output_type": "display_data"
    },
    {
     "data": {
      "text/html": [
       "<div>\n",
       "<style scoped>\n",
       "    .dataframe tbody tr th:only-of-type {\n",
       "        vertical-align: middle;\n",
       "    }\n",
       "\n",
       "    .dataframe tbody tr th {\n",
       "        vertical-align: top;\n",
       "    }\n",
       "\n",
       "    .dataframe thead th {\n",
       "        text-align: right;\n",
       "    }\n",
       "</style>\n",
       "<table border=\"1\" class=\"dataframe\">\n",
       "  <thead>\n",
       "    <tr style=\"text-align: right;\">\n",
       "      <th></th>\n",
       "      <th>id</th>\n",
       "      <th>date</th>\n",
       "      <th>teamH</th>\n",
       "      <th>teamA</th>\n",
       "      <th>score</th>\n",
       "      <th>scoremod</th>\n",
       "      <th>goalsH</th>\n",
       "      <th>goalsA</th>\n",
       "    </tr>\n",
       "  </thead>\n",
       "  <tbody>\n",
       "    <tr>\n",
       "      <th>72793</th>\n",
       "      <td>SbEx4xY1</td>\n",
       "      <td>2016-08-07</td>\n",
       "      <td>Ypiranga FC</td>\n",
       "      <td>Portuguesa</td>\n",
       "      <td>1:0</td>\n",
       "      <td></td>\n",
       "      <td>1.0</td>\n",
       "      <td>0.0</td>\n",
       "    </tr>\n",
       "  </tbody>\n",
       "</table>\n",
       "</div>"
      ],
      "text/plain": [
       "             id       date        teamH       teamA score scoremod  goalsH  \\\n",
       "72793  SbEx4xY1 2016-08-07  Ypiranga FC  Portuguesa   1:0              1.0   \n",
       "\n",
       "       goalsA  \n",
       "72793     0.0  "
      ]
     },
     "metadata": {},
     "output_type": "display_data"
    },
    {
     "name": "stdout",
     "output_type": "stream",
     "text": [
      "           TIGRES DO BRASIL/RJ > Tigres Brasil\n"
     ]
    },
    {
     "data": {
      "text/plain": [
       "roundno                     732\n",
       "gameno                        3\n",
       "date        2017-01-14 00:00:00\n",
       "teamH            NOVA IGUAÇU/RJ\n",
       "goalsH                        2\n",
       "teamA       TIGRES DO BRASIL/RJ\n",
       "goalsA                        0\n",
       "happened                   True\n",
       "Name: 10236, dtype: object"
      ]
     },
     "metadata": {},
     "output_type": "display_data"
    },
    {
     "data": {
      "text/html": [
       "<div>\n",
       "<style scoped>\n",
       "    .dataframe tbody tr th:only-of-type {\n",
       "        vertical-align: middle;\n",
       "    }\n",
       "\n",
       "    .dataframe tbody tr th {\n",
       "        vertical-align: top;\n",
       "    }\n",
       "\n",
       "    .dataframe thead th {\n",
       "        text-align: right;\n",
       "    }\n",
       "</style>\n",
       "<table border=\"1\" class=\"dataframe\">\n",
       "  <thead>\n",
       "    <tr style=\"text-align: right;\">\n",
       "      <th></th>\n",
       "      <th>id</th>\n",
       "      <th>date</th>\n",
       "      <th>teamH</th>\n",
       "      <th>teamA</th>\n",
       "      <th>score</th>\n",
       "      <th>scoremod</th>\n",
       "      <th>goalsH</th>\n",
       "      <th>goalsA</th>\n",
       "    </tr>\n",
       "  </thead>\n",
       "  <tbody>\n",
       "    <tr>\n",
       "      <th>78905</th>\n",
       "      <td>4QfzTVKs</td>\n",
       "      <td>2017-01-14</td>\n",
       "      <td>Nova Iguacu</td>\n",
       "      <td>Tigres Brasil</td>\n",
       "      <td>2:0</td>\n",
       "      <td></td>\n",
       "      <td>2.0</td>\n",
       "      <td>0.0</td>\n",
       "    </tr>\n",
       "  </tbody>\n",
       "</table>\n",
       "</div>"
      ],
      "text/plain": [
       "             id       date        teamH          teamA score scoremod  goalsH  \\\n",
       "78905  4QfzTVKs 2017-01-14  Nova Iguacu  Tigres Brasil   2:0              2.0   \n",
       "\n",
       "       goalsA  \n",
       "78905     0.0  "
      ]
     },
     "metadata": {},
     "output_type": "display_data"
    },
    {
     "name": "stdout",
     "output_type": "stream",
     "text": [
      "                     CUIABÁ/MT > Cuiaba Esporte\n"
     ]
    },
    {
     "data": {
      "text/plain": [
       "roundno                     755\n",
       "gameno                        5\n",
       "date        2017-06-25 00:00:00\n",
       "teamH                 CUIABÁ/MT\n",
       "goalsH                        1\n",
       "teamA                    ASA/AL\n",
       "goalsA                        1\n",
       "happened                   True\n",
       "Name: 10560, dtype: object"
      ]
     },
     "metadata": {},
     "output_type": "display_data"
    },
    {
     "data": {
      "text/html": [
       "<div>\n",
       "<style scoped>\n",
       "    .dataframe tbody tr th:only-of-type {\n",
       "        vertical-align: middle;\n",
       "    }\n",
       "\n",
       "    .dataframe tbody tr th {\n",
       "        vertical-align: top;\n",
       "    }\n",
       "\n",
       "    .dataframe thead th {\n",
       "        text-align: right;\n",
       "    }\n",
       "</style>\n",
       "<table border=\"1\" class=\"dataframe\">\n",
       "  <thead>\n",
       "    <tr style=\"text-align: right;\">\n",
       "      <th></th>\n",
       "      <th>id</th>\n",
       "      <th>date</th>\n",
       "      <th>teamH</th>\n",
       "      <th>teamA</th>\n",
       "      <th>score</th>\n",
       "      <th>scoremod</th>\n",
       "      <th>goalsH</th>\n",
       "      <th>goalsA</th>\n",
       "    </tr>\n",
       "  </thead>\n",
       "  <tbody>\n",
       "    <tr>\n",
       "      <th>78213</th>\n",
       "      <td>rqvdbQ0o</td>\n",
       "      <td>2017-06-25</td>\n",
       "      <td>Cuiaba Esporte</td>\n",
       "      <td>ASA</td>\n",
       "      <td>1:1</td>\n",
       "      <td></td>\n",
       "      <td>1.0</td>\n",
       "      <td>1.0</td>\n",
       "    </tr>\n",
       "  </tbody>\n",
       "</table>\n",
       "</div>"
      ],
      "text/plain": [
       "             id       date           teamH teamA score scoremod  goalsH  \\\n",
       "78213  rqvdbQ0o 2017-06-25  Cuiaba Esporte   ASA   1:1              1.0   \n",
       "\n",
       "       goalsA  \n",
       "78213     1.0  "
      ]
     },
     "metadata": {},
     "output_type": "display_data"
    },
    {
     "name": "stdout",
     "output_type": "stream",
     "text": [
      "          RIO BRANCO/AC SUB 20 > Rio Branco AC U20\n"
     ]
    },
    {
     "data": {
      "text/plain": [
       "roundno                      781\n",
       "gameno                         3\n",
       "date         2018-01-06 00:00:00\n",
       "teamH       RIO BRANCO/AC SUB 20\n",
       "goalsH                         0\n",
       "teamA            CEARÁ/CE SUB 20\n",
       "goalsA                         6\n",
       "happened                    True\n",
       "Name: 10922, dtype: object"
      ]
     },
     "metadata": {},
     "output_type": "display_data"
    },
    {
     "data": {
      "text/html": [
       "<div>\n",
       "<style scoped>\n",
       "    .dataframe tbody tr th:only-of-type {\n",
       "        vertical-align: middle;\n",
       "    }\n",
       "\n",
       "    .dataframe tbody tr th {\n",
       "        vertical-align: top;\n",
       "    }\n",
       "\n",
       "    .dataframe thead th {\n",
       "        text-align: right;\n",
       "    }\n",
       "</style>\n",
       "<table border=\"1\" class=\"dataframe\">\n",
       "  <thead>\n",
       "    <tr style=\"text-align: right;\">\n",
       "      <th></th>\n",
       "      <th>id</th>\n",
       "      <th>date</th>\n",
       "      <th>teamH</th>\n",
       "      <th>teamA</th>\n",
       "      <th>score</th>\n",
       "      <th>scoremod</th>\n",
       "      <th>goalsH</th>\n",
       "      <th>goalsA</th>\n",
       "    </tr>\n",
       "  </thead>\n",
       "  <tbody>\n",
       "    <tr>\n",
       "      <th>83286</th>\n",
       "      <td>rebmGMEk</td>\n",
       "      <td>2018-01-06</td>\n",
       "      <td>Rio Branco AC U20</td>\n",
       "      <td>Ceara U20</td>\n",
       "      <td>0:6</td>\n",
       "      <td></td>\n",
       "      <td>0.0</td>\n",
       "      <td>6.0</td>\n",
       "    </tr>\n",
       "  </tbody>\n",
       "</table>\n",
       "</div>"
      ],
      "text/plain": [
       "             id       date              teamH      teamA score scoremod  \\\n",
       "83286  rebmGMEk 2018-01-06  Rio Branco AC U20  Ceara U20   0:6            \n",
       "\n",
       "       goalsH  goalsA  \n",
       "83286     0.0     6.0  "
      ]
     },
     "metadata": {},
     "output_type": "display_data"
    },
    {
     "name": "stdout",
     "output_type": "stream",
     "text": [
      "       FERNANDÓPOLIS/SP SUB 20 > Fernandopolis U20\n"
     ]
    },
    {
     "data": {
      "text/plain": [
       "roundno                         781\n",
       "gameno                            5\n",
       "date            2018-01-06 00:00:00\n",
       "teamH       FERNANDÓPOLIS/SP SUB 20\n",
       "goalsH                            2\n",
       "teamA             GUARANI/SP SUB 20\n",
       "goalsA                            4\n",
       "happened                       True\n",
       "Name: 10924, dtype: object"
      ]
     },
     "metadata": {},
     "output_type": "display_data"
    },
    {
     "data": {
      "text/html": [
       "<div>\n",
       "<style scoped>\n",
       "    .dataframe tbody tr th:only-of-type {\n",
       "        vertical-align: middle;\n",
       "    }\n",
       "\n",
       "    .dataframe tbody tr th {\n",
       "        vertical-align: top;\n",
       "    }\n",
       "\n",
       "    .dataframe thead th {\n",
       "        text-align: right;\n",
       "    }\n",
       "</style>\n",
       "<table border=\"1\" class=\"dataframe\">\n",
       "  <thead>\n",
       "    <tr style=\"text-align: right;\">\n",
       "      <th></th>\n",
       "      <th>id</th>\n",
       "      <th>date</th>\n",
       "      <th>teamH</th>\n",
       "      <th>teamA</th>\n",
       "      <th>score</th>\n",
       "      <th>scoremod</th>\n",
       "      <th>goalsH</th>\n",
       "      <th>goalsA</th>\n",
       "    </tr>\n",
       "  </thead>\n",
       "  <tbody>\n",
       "    <tr>\n",
       "      <th>83272</th>\n",
       "      <td>OvimZR1o</td>\n",
       "      <td>2018-01-06</td>\n",
       "      <td>Fernandopolis U20</td>\n",
       "      <td>Guarani U20</td>\n",
       "      <td>2:4</td>\n",
       "      <td></td>\n",
       "      <td>2.0</td>\n",
       "      <td>4.0</td>\n",
       "    </tr>\n",
       "  </tbody>\n",
       "</table>\n",
       "</div>"
      ],
      "text/plain": [
       "             id       date              teamH        teamA score scoremod  \\\n",
       "83272  OvimZR1o 2018-01-06  Fernandopolis U20  Guarani U20   2:4            \n",
       "\n",
       "       goalsH  goalsA  \n",
       "83272     2.0     4.0  "
      ]
     },
     "metadata": {},
     "output_type": "display_data"
    },
    {
     "name": "stdout",
     "output_type": "stream",
     "text": [
      "                  VILA NOVA/MG > Villa Nova MG\n"
     ]
    },
    {
     "data": {
      "text/plain": [
       "roundno                     787\n",
       "gameno                        7\n",
       "date        2018-02-17 00:00:00\n",
       "teamH               CRUZEIRO/MG\n",
       "goalsH                        1\n",
       "teamA              VILA NOVA/MG\n",
       "goalsA                        0\n",
       "happened                   True\n",
       "Name: 11010, dtype: object"
      ]
     },
     "metadata": {},
     "output_type": "display_data"
    },
    {
     "data": {
      "text/html": [
       "<div>\n",
       "<style scoped>\n",
       "    .dataframe tbody tr th:only-of-type {\n",
       "        vertical-align: middle;\n",
       "    }\n",
       "\n",
       "    .dataframe tbody tr th {\n",
       "        vertical-align: top;\n",
       "    }\n",
       "\n",
       "    .dataframe thead th {\n",
       "        text-align: right;\n",
       "    }\n",
       "</style>\n",
       "<table border=\"1\" class=\"dataframe\">\n",
       "  <thead>\n",
       "    <tr style=\"text-align: right;\">\n",
       "      <th></th>\n",
       "      <th>id</th>\n",
       "      <th>date</th>\n",
       "      <th>teamH</th>\n",
       "      <th>teamA</th>\n",
       "      <th>score</th>\n",
       "      <th>scoremod</th>\n",
       "      <th>goalsH</th>\n",
       "      <th>goalsA</th>\n",
       "    </tr>\n",
       "  </thead>\n",
       "  <tbody>\n",
       "    <tr>\n",
       "      <th>84076</th>\n",
       "      <td>bwTio95S</td>\n",
       "      <td>2018-02-17</td>\n",
       "      <td>Cruzeiro</td>\n",
       "      <td>Villa Nova MG</td>\n",
       "      <td>1:0</td>\n",
       "      <td></td>\n",
       "      <td>1.0</td>\n",
       "      <td>0.0</td>\n",
       "    </tr>\n",
       "  </tbody>\n",
       "</table>\n",
       "</div>"
      ],
      "text/plain": [
       "             id       date     teamH          teamA score scoremod  goalsH  \\\n",
       "84076  bwTio95S 2018-02-17  Cruzeiro  Villa Nova MG   1:0              1.0   \n",
       "\n",
       "       goalsA  \n",
       "84076     0.0  "
      ]
     },
     "metadata": {},
     "output_type": "display_data"
    },
    {
     "name": "stdout",
     "output_type": "stream",
     "text": [
      "New teams found: 43\n",
      "Matches found till now: 4227\n",
      "Round number 2\n",
      "New teams found: 0\n",
      "Matches found till now: 4227\n"
     ]
    },
    {
     "data": {
      "text/plain": [
       "True"
      ]
     },
     "execution_count": 9,
     "metadata": {},
     "output_type": "execute_result"
    }
   ],
   "source": [
    "def find_betexplorer_equivalent(loteca_match):    \n",
    "    row = loteca_match     \n",
    "    \n",
    "    # date\n",
    "    choices = betexp_min    \n",
    "    choices = choices[choices.date == row.date]\n",
    "    \n",
    "    # score\n",
    "    choices = choices[choices.goalsH == row.goalsH]\n",
    "    choices = choices[choices.goalsA == row.goalsA]\n",
    "    \n",
    "    # teams\n",
    "    teamsH = teamsd[row.teamH]\n",
    "    teamsA = teamsd[row.teamA]    \n",
    "    if teamsH:\n",
    "        choices = choices[choices.teamH.isin(teamsH)]\n",
    "    if teamsA:\n",
    "        choices = choices[choices.teamA.isin(teamsA)]\n",
    "        \n",
    "    # return\n",
    "    if teamsH or teamsA:\n",
    "        if choices.shape[0] == 0:\n",
    "            return None\n",
    "        if choices.shape[0] == 1:\n",
    "            if add_team(row.teamH, choices.iloc[0].teamH) or add_team(row.teamA, choices.iloc[0].teamA):\n",
    "                display(row)\n",
    "                display(choices)\n",
    "#             add_team(row.teamH, choices.iloc[0].teamH)\n",
    "#             add_team(row.teamA, choices.iloc[0].teamA)\n",
    "            return choices.index[0]\n",
    "        else:\n",
    "            raise ValueError(\"Found %s BetExplorer matches for Loteca #%s\" % \\\n",
    "                             (choices.shape[0], row.name))\n",
    "            \n",
    "def add_team(loteca_string, betexp_string):\n",
    "    if not teamsd[loteca_string]:\n",
    "        print(\"{: >30} > {}\".format(loteca_string, betexp_string))\n",
    "        teamsd[loteca_string].add(betexp_string)\n",
    "        return True\n",
    "    else:\n",
    "        return False\n",
    "    \n",
    "\n",
    "dict = OrderedDict()\n",
    "            \n",
    "first = True\n",
    "newteamcnt = False\n",
    "roundno = 1\n",
    "while first or newteamcnt:    \n",
    "    print(\"Round number %s\" % roundno)\n",
    "    teamcnt = len([1 for v in teamsd.values() if v])\n",
    "    \n",
    "    for id, row in loteca.iterrows():\n",
    "        if id in dict.keys(): continue\n",
    "        if not row.happened: continue  # deal with these cases later\n",
    "        betexp_id = find_betexplorer_equivalent(row)\n",
    "        if betexp_id:\n",
    "            dict[id] = betexp_id\n",
    "            \n",
    "    first = False\n",
    "    newteamcnt = len([1 for v in teamsd.values() if v]) - teamcnt\n",
    "    roundno += 1\n",
    "    \n",
    "    print(\"New teams found: %s\" % newteamcnt)\n",
    "    print(\"Matches found till now: %s\" % len(dict))\n",
    "    \n",
    "all([len(v) in (0, 1) for v in teamsd.values()])  # check teamsd dictionary integrity"
   ]
  },
  {
   "cell_type": "code",
   "execution_count": 19,
   "metadata": {},
   "outputs": [
    {
     "data": {
      "text/plain": [
       "id                     zuc6o4ea\n",
       "date        2009-11-21 00:00:00\n",
       "teamH                America RN\n",
       "teamA                     Betim\n",
       "score                       1:0\n",
       "scoremod                       \n",
       "goalsH                        1\n",
       "goalsA                        0\n",
       "Name: 22800, dtype: object"
      ]
     },
     "execution_count": 19,
     "metadata": {},
     "output_type": "execute_result"
    }
   ],
   "source": [
    "# http://www.betexplorer.com/soccer/brazil/serie-b-2009/america-rn-betim/zuc6o4ea/\n",
    "# it's Ipatinga, not Betim\n",
    "betexp.loc[22800]"
   ]
  },
  {
   "cell_type": "code",
   "execution_count": 20,
   "metadata": {},
   "outputs": [
    {
     "data": {
      "text/plain": [
       "id                     d4IyAGi2\n",
       "date        2010-04-18 00:00:00\n",
       "teamH               Santo Andre\n",
       "teamA                   Barueri\n",
       "score                       1:2\n",
       "scoremod                       \n",
       "goalsH                        1\n",
       "goalsA                        2\n",
       "Name: 18934, dtype: object"
      ]
     },
     "execution_count": 20,
     "metadata": {},
     "output_type": "execute_result"
    }
   ],
   "source": [
    "# http://www.betexplorer.com/soccer/brazil/campeonato-paulista-2010/santo-andre-barueri/d4IyAGi2/\n",
    "# It's Grêmio Prudente, not Barueri\n",
    "betexp.loc[18934]"
   ]
  },
  {
   "cell_type": "code",
   "execution_count": 21,
   "metadata": {},
   "outputs": [
    {
     "data": {
      "text/plain": [
       "id                     4rHNNkEH\n",
       "date        2011-06-11 00:00:00\n",
       "teamH                   Barueri\n",
       "teamA                Portuguesa\n",
       "score                       1:1\n",
       "scoremod                       \n",
       "goalsH                        1\n",
       "goalsA                        1\n",
       "Name: 32436, dtype: object"
      ]
     },
     "execution_count": 21,
     "metadata": {},
     "output_type": "execute_result"
    }
   ],
   "source": [
    "# http://www.betexplorer.com/soccer/brazil/serie-b-2011/barueri-portuguesa/4rHNNkEH/\n",
    "# This one is right, but it contradicts with the first one\n",
    "betexp.loc[32436]"
   ]
  },
  {
   "cell_type": "code",
   "execution_count": 23,
   "metadata": {},
   "outputs": [
    {
     "data": {
      "text/plain": [
       "id                     OvimZR1o\n",
       "date        2018-01-06 00:00:00\n",
       "teamH         Fernandopolis U20\n",
       "teamA               Guarani U20\n",
       "score                       2:4\n",
       "scoremod                       \n",
       "goalsH                        2\n",
       "goalsA                        4\n",
       "Name: 83272, dtype: object"
      ]
     },
     "execution_count": 23,
     "metadata": {},
     "output_type": "execute_result"
    }
   ],
   "source": [
    "# we should have caught Fernadopolis\n",
    "# OH, it is because of the state\n",
    "betexp.loc[83272]"
   ]
  },
  {
   "cell_type": "code",
   "execution_count": 10,
   "metadata": {},
   "outputs": [
    {
     "name": "stdout",
     "output_type": "stream",
     "text": [
      "4227\n",
      "5908\n",
      "0.715470548408937\n"
     ]
    }
   ],
   "source": [
    "print(len(dict))\n",
    "print(loteca.shape[0])\n",
    "print(len(dict) / loteca.shape[0])\n",
    "\n",
    "# todo: one day before and one day after"
   ]
  }
 ],
 "metadata": {
  "kernelspec": {
   "display_name": "Python 3",
   "language": "python",
   "name": "python3"
  },
  "language_info": {
   "codemirror_mode": {
    "name": "ipython",
    "version": 3
   },
   "file_extension": ".py",
   "mimetype": "text/x-python",
   "name": "python",
   "nbconvert_exporter": "python",
   "pygments_lexer": "ipython3",
   "version": "3.6.4"
  }
 },
 "nbformat": 4,
 "nbformat_minor": 2
}
