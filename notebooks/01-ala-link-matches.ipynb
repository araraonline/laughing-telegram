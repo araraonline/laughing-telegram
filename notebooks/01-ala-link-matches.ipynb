{
 "cells": [
  {
   "cell_type": "code",
   "execution_count": 6,
   "metadata": {},
   "outputs": [
    {
     "name": "stdout",
     "output_type": "stream",
     "text": [
      "The autoreload extension is already loaded. To reload it, use:\n",
      "  %reload_ext autoreload\n"
     ]
    }
   ],
   "source": [
    "%load_ext autoreload\n",
    "%autoreload 1\n",
    "\n",
    "import logging\n",
    "import pickle\n",
    "import sqlite3\n",
    "import sys\n",
    "from collections import OrderedDict\n",
    "\n",
    "import numpy as np\n",
    "import pandas as pd\n",
    "\n",
    "sys.path.append('..')\n",
    "import src.data.interim.matches as matches\n",
    "%aimport src.data.interim.matches\n",
    "\n",
    "logger = logging.getLogger()\n",
    "logger.setLevel(logging.INFO)\n",
    "logging.basicConfig(level=logging.INFO)"
   ]
  },
  {
   "cell_type": "code",
   "execution_count": 7,
   "metadata": {},
   "outputs": [],
   "source": [
    "# load loteca\n",
    "loteca = pd.read_pickle('../data/pre/lotecas_matches.pkl')\n",
    "loteca = loteca[loteca.roundno >= 366]  # exclude old rounds\n",
    "\n",
    "# load betexplorer\n",
    "conn = sqlite3.connect('../data/raw/betexplorer.sqlite3')\n",
    "betexp = pd.read_sql_query('SELECT id, league_category, date, teamH, teamA, score, scoremod FROM matches', conn)\n",
    "conn.close()\n",
    "\n",
    "betexp.date = pd.to_datetime(betexp.date, dayfirst=True)\n",
    "betexp.score = betexp.score.str.strip()\n",
    "betexp['goalsH'] = [int(score.split(':')[0]) if score else np.nan for score in betexp.score]\n",
    "betexp['goalsA'] = [int(score.split(':')[1]) if score else np.nan for score in betexp.score]\n",
    "\n",
    "# load dict\n",
    "with open('../data/interim/teams_ltb.pkl', mode='rb') as fp:\n",
    "    teamsd = pickle.load(fp)"
   ]
  },
  {
   "cell_type": "code",
   "execution_count": 8,
   "metadata": {},
   "outputs": [],
   "source": [
    "MANUAL_TEAMS = {\n",
    "     'ATLÉTICO MADRID/ESP': {'Atl. Madrid'},\n",
    "}\n",
    "\n",
    "for k, v in MANUAL_TEAMS.items():\n",
    "    teamsd[k] |= v"
   ]
  },
  {
   "cell_type": "code",
   "execution_count": 9,
   "metadata": {},
   "outputs": [],
   "source": [
    "loteca0 = loteca[~loteca.happened]\n",
    "loteca1 = loteca[loteca.happened]"
   ]
  },
  {
   "cell_type": "code",
   "execution_count": 10,
   "metadata": {},
   "outputs": [
    {
     "name": "stderr",
     "output_type": "stream",
     "text": [
      "INFO:root:-----\n",
      "INFO:root:Generating matches dict...\n",
      "INFO:root:There are 5856 loteca matches to find\n",
      "INFO:root:ignore_date=False\n",
      "INFO:root:flexible_date=True\n",
      "INFO:root:ignore_score=False\n",
      "INFO:root:ignore_score_if_mod=False\n",
      "INFO:root:min_team_rigid_points=2\n",
      "INFO:root:min_team_flex_points=2\n",
      "INFO:root:on match 1/5856\n",
      "INFO:root:on match 501/5856\n",
      "INFO:root:on match 1001/5856\n",
      "INFO:root:on match 1501/5856\n",
      "INFO:root:on match 2001/5856\n",
      "INFO:root:on match 2501/5856\n",
      "INFO:root:on match 3001/5856\n",
      "INFO:root:on match 3501/5856\n",
      "INFO:root:on match 4001/5856\n",
      "INFO:root:on match 4501/5856\n",
      "INFO:root:on match 5001/5856\n",
      "INFO:root:on match 5501/5856\n",
      "INFO:root:3772 matches linked\n",
      "INFO:root:0 teams found\n",
      "INFO:root:defaultdict(<class 'set'>, {})\n",
      "INFO:root:-----\n",
      "INFO:root:Generating matches dict...\n",
      "INFO:root:There are 2084 loteca matches to find\n",
      "INFO:root:ignore_date=False\n",
      "INFO:root:flexible_date=True\n",
      "INFO:root:ignore_score=False\n",
      "INFO:root:ignore_score_if_mod=False\n",
      "INFO:root:min_team_rigid_points=1\n",
      "INFO:root:min_team_flex_points=2\n",
      "INFO:root:on match 1/2084\n",
      "INFO:root:on match 501/2084\n",
      "INFO:root:on match 1001/2084\n",
      "INFO:root:on match 1501/2084\n",
      "INFO:root:on match 2001/2084\n",
      "INFO:root:966 matches linked\n",
      "INFO:root:55 teams found\n",
      "INFO:root:defaultdict(<class 'set'>, {'PORTUGUESA DESPORTOS/SP': {'Portuguesa'}, 'VASCO DA GAMA/RJ': {'Vasco'}, 'SPORT/PE': {'Sport Recife'}, 'VILA NOVA/GO': {'Vila Nova FC'}, 'SÃO  CAETANO/SP': {'Sao Caetano'}, 'BRAGANTINO/SP': {'Bragantino'}, 'AMERICANO/RJ': {'Americano FC'}, 'VASCO/RJ': {'Vasco'}, 'GRÊMIO BARUERI/SP': {'Barueri'}, 'XV PIRACICABA/SP': {'Piracicaba'}, 'BOA ESPORTE/MG': {'Boa'}, 'PORTO/PE': {'CA Porto'}, 'CAXIAS/RS': {'SER Caxias'}, 'SOROCABA/SP': {'Atl. Sorocaba'}, 'CENTRAL/PE': {'Central SC'}, 'FLUMINENSE/BA': {'Fluminense de Feira'}, 'BOA ESPORTE CLUBE/MG': {'Boa'}, 'GUARANI/CE': {'Guarani de Juazeiro'}, 'JUVENTUS/SC': {'Gremio Juventus'}, 'SÃO JOSÉ/RS': {'EC Sao Jose'}, 'GUARANI/MG': {'Guarani EC'}, 'ÁGUIA/PA': {'Aguia De Maraba'}, 'SÃO JOSÉ (PA) /RS': {'EC Sao Jose'}, 'BRASIL/RS': {'Brasil de Pelotas'}, 'RIO BRANCO/AC': {'Rio Branco'}, 'PALMEIRA/RN': {'Palmeira de Una'}, 'VITORIA/PE': {'Academica Vitoria'}, 'GUARANI/SC': {'Guarani de Palhoca'}, 'FORMOSA/GO': {'Bosque Formosa'}, 'COLO COLO/BA': {'Colo C.'}, 'ESTANCIANO/SE': {'Estanciano EC'}, 'YPIRANGA/RS': {'Ypiranga FC'}, 'TIGRES DO BRASIL/RJ': {'Tigres Brasil'}, 'SANTA CRUZ/RN': {'Santa Cruz de Natal'}, 'RIO BRANCO/ES': {'Rio Branco ES'}, 'CUIABÁ/MT': {'Cuiaba Esporte'}, 'CAGLIARI CALCIO/ITA': {'Cagliari'}, 'SOCIETA SPO LAZIO/ITA': {'Lazio'}, 'JUVENTUS FC/ITA': {'Juventus'}, 'INTER DE MILÃO/ITA': {'Inter'}, 'MILAN/ITA': {'AC Milan'}, 'STOKE CITY/ING': {'Stoke'}, 'BOLOGNA FC/ITA': {'Bologna'}, 'FC BARCELONA/ESP': {'Barcelona'}, 'RIO BRANCO/AC SUB 20': {'Rio Branco AC U20'}, 'FERNANDÓPOLIS/SP SUB 20': {'Fernandopolis U20'}, 'CELTA DE VIGO/ESP': {'Celta Vigo'}, 'PARIS SAINT-GERMAIN/FRA': {'Paris SG'}, 'SAINT-ÉTIENNE/FRA': {'St Etienne'}, 'SOC DEPORT EIBAR/ESP': {'Eibar'}, 'SCHALKE 04/DEU': {'Schalke'}, 'BORUSSIA DORTMUND/DEU': {'Dortmund'}, 'OLYMPIQUE DE NICE/FRA': {'Nice'}, 'ROMA/ITA': {'AS Roma'}, 'MONCHENGLADBACH/DEU': {'B. Monchengladbach'}})\n",
      "INFO:root:-----\n",
      "INFO:root:Generating matches dict...\n",
      "INFO:root:There are 1118 loteca matches to find\n",
      "INFO:root:ignore_date=False\n",
      "INFO:root:flexible_date=True\n",
      "INFO:root:ignore_score=False\n",
      "INFO:root:ignore_score_if_mod=False\n",
      "INFO:root:min_team_rigid_points=1\n",
      "INFO:root:min_team_flex_points=1\n",
      "INFO:root:on match 1/1118\n",
      "INFO:root:on match 501/1118\n",
      "INFO:root:on match 1001/1118\n",
      "INFO:root:127 matches linked\n",
      "INFO:root:21 teams found\n",
      "INFO:root:defaultdict(<class 'set'>, {'IPATINGA/MG': {'Betim'}, 'GRÊMIO PRUDENTE/SP': {'Barueri'}, 'ITUIUTABA/MG': {'Boa'}, 'ATLÉTICO/BA': {'Alagoinhas'}, 'ESPORTIVO/RS': {'Bento Goncalves'}, 'MOTO CLUBE/MA': {'Moto Club'}, 'BOCA JÚNIOR/SE': {'Boca Junior'}, 'CRUZEIRO/RS': {'EC Cruzeiro'}, 'CAMBURIÚ/SC': {'Camboriu'}, 'FC BORDEAUX/FRA': {'Bordeaux'}, 'DEPORTI LA CORUNA/ESP': {'Dep. La Coruna'}, 'HERTHA BERLIM/DEU': {'Hertha Berlin'}, 'WEST BROMWICH/ING': {'West Brom'}, 'OLYMPIQUE LYONNAIS/FRA': {'Lyon'}, 'VALENCIA CLUB/ESP': {'Valencia'}, 'TSG HOFFENHEIM/DEU': {'Hoffenheim'}, 'NEW CASTLE/ING': {'Newcastle'}, 'DEPORTIVO LA CORUÑA/ESP': {'Dep. La Coruna'}, 'COLÔNIA/DEU': {'FC Koln'}, 'ATHLETIC BILBAO/ESP': {'Ath Bilbao'}, 'VILA NOVA/MG': {'Villa Nova MG'}})\n",
      "INFO:root:-----\n",
      "INFO:root:Generating matches dict...\n",
      "INFO:root:There are 991 loteca matches to find\n",
      "INFO:root:ignore_date=False\n",
      "INFO:root:flexible_date=True\n",
      "INFO:root:ignore_score=False\n",
      "INFO:root:ignore_score_if_mod=False\n",
      "INFO:root:min_team_rigid_points=0\n",
      "INFO:root:min_team_flex_points=2\n",
      "INFO:root:on match 1/991\n",
      "INFO:root:on match 501/991\n",
      "INFO:root:2 matches linked\n",
      "INFO:root:2 teams found\n",
      "INFO:root:defaultdict(<class 'set'>, {'TUPÃ/SP SUB 20': {'Tupa U20'}, 'XV DE JAÚ/SP SUB 20': {'XV de Jau U20'}})\n",
      "INFO:root:-----\n",
      "INFO:root:Generating matches dict...\n",
      "INFO:root:There are 989 loteca matches to find\n",
      "INFO:root:ignore_date=False\n",
      "INFO:root:flexible_date=True\n",
      "INFO:root:ignore_score=True\n",
      "INFO:root:ignore_score_if_mod=False\n",
      "INFO:root:min_team_rigid_points=2\n",
      "INFO:root:min_team_flex_points=2\n",
      "INFO:root:on match 1/989\n",
      "INFO:root:on match 501/989\n",
      "INFO:root:27 matches linked\n",
      "INFO:root:0 teams found\n",
      "INFO:root:defaultdict(<class 'set'>, {})\n",
      "INFO:root:-----\n",
      "INFO:root:Generating matches dict...\n",
      "INFO:root:There are 962 loteca matches to find\n",
      "INFO:root:ignore_date=False\n",
      "INFO:root:flexible_date=True\n",
      "INFO:root:ignore_score=True\n",
      "INFO:root:ignore_score_if_mod=False\n",
      "INFO:root:min_team_rigid_points=0\n",
      "INFO:root:min_team_flex_points=2\n",
      "INFO:root:on match 1/962\n",
      "INFO:root:on match 501/962\n",
      "INFO:root:0 matches linked\n",
      "INFO:root:0 teams found\n",
      "INFO:root:defaultdict(<class 'set'>, {})\n"
     ]
    }
   ],
   "source": [
    "ret = OrderedDict()\n",
    "\n",
    "# Link matches we are sure\n",
    "# (close date) (same score) (2 teams the same)*\n",
    "df = loteca1\n",
    "results = matches.generate_matches_dict(df, betexp, teamsd, logger=logger,                                             \n",
    "                                         flexible_date=True,\n",
    "                                         min_team_rigid_points=2, \n",
    "                                         min_team_flex_points=2,\n",
    "                                         return_teams=False)\n",
    "ret.update(results)\n",
    "\n",
    "# Discover some new teams\n",
    "# (close date) (same score) (1 team the same) (other team alike)*\n",
    "df = df[~df.index.isin(ret)]\n",
    "results, teams = matches.generate_matches_dict(df, betexp, teamsd, logger=logger,                                         \n",
    "                                         flexible_date=True,\n",
    "                                         min_team_rigid_points=1, \n",
    "                                         min_team_flex_points=2,\n",
    "                                         return_teams=True)\n",
    "for k, v in teams.items(): teamsd[k] |= v\n",
    "ret.update(results)\n",
    "\n",
    "# Discover some new teams\n",
    "# (close date) (same score) (1 team the same) (other team whatever)*\n",
    "df = df[~df.index.isin(ret)]\n",
    "results, teams = matches.generate_matches_dict(df, betexp, teamsd, logger=logger,                                         \n",
    "                                         flexible_date=True,\n",
    "                                         min_team_rigid_points=1, \n",
    "                                         min_team_flex_points=1,\n",
    "                                         return_teams=True)\n",
    "for k, v in teams.items(): teamsd[k] |= v\n",
    "ret.update(results)\n",
    "\n",
    "# Discover some new teams\n",
    "# (close date) (same score) (2 teams alike)*\n",
    "df = df[~df.index.isin(ret)]\n",
    "results, teams = matches.generate_matches_dict(df, betexp, teamsd, logger=logger,                                         \n",
    "                                         flexible_date=True,\n",
    "                                         min_team_rigid_points=0, \n",
    "                                         min_team_flex_points=2,\n",
    "                                         return_teams=True)\n",
    "for k, v in teams.items(): teamsd[k] |= v\n",
    "ret.update(results)\n",
    "\n",
    "# Discover some new scores\n",
    "# (close date) (different score) (2 teams the same)\n",
    "df = df[~df.index.isin(ret)]\n",
    "results, teams = matches.generate_matches_dict(df, betexp, teamsd, logger=logger,                                         \n",
    "                                         flexible_date=True,\n",
    "                                         min_team_rigid_points=2, \n",
    "                                         min_team_flex_points=2,\n",
    "                                         ignore_score=True, \n",
    "                                         return_teams=True)\n",
    "for k, v in teams.items(): teamsd[k] |= v\n",
    "ret.update(results)\n",
    "\n",
    "# Discover some new scores\n",
    "# (close date) (different score) (2 teams alike)\n",
    "df = df[~df.index.isin(ret)]\n",
    "results, teams = matches.generate_matches_dict(df, betexp, teamsd, logger=logger,                                         \n",
    "                                         flexible_date=True,\n",
    "                                         min_team_rigid_points=0, \n",
    "                                         min_team_flex_points=2,\n",
    "                                         ignore_score=True, \n",
    "                                         return_teams=True)\n",
    "for k, v in teams.items(): teamsd[k] |= v\n",
    "ret.update(results)\n",
    "\n",
    "# if we try only 1 team alike we get loads of bad results"
   ]
  },
  {
   "cell_type": "code",
   "execution_count": 11,
   "metadata": {},
   "outputs": [
    {
     "name": "stdout",
     "output_type": "stream",
     "text": [
      "defaultdict(<class 'set'>, {})\n"
     ]
    }
   ],
   "source": [
    "print(teams)\n",
    "for k, v in results.items():\n",
    "    display(loteca.loc[k])\n",
    "    display(betexp[betexp.id == v])"
   ]
  },
  {
   "cell_type": "code",
   "execution_count": 20,
   "metadata": {},
   "outputs": [
    {
     "name": "stderr",
     "output_type": "stream",
     "text": [
      "INFO:root:-----\n",
      "INFO:root:Generating matches dict...\n",
      "INFO:root:There are 52 loteca matches to find\n",
      "INFO:root:ignore_date=True\n",
      "INFO:root:flexible_date=False\n",
      "INFO:root:ignore_score=True\n",
      "INFO:root:min_team_rigid_points=2\n",
      "INFO:root:min_team_flex_points=2\n",
      "INFO:root:on match 1/52\n",
      "INFO:root:2 matches linked\n",
      "INFO:root:0 teams found:\n",
      "INFO:root:defaultdict(<class 'set'>, {})\n",
      "INFO:root:-----\n"
     ]
    }
   ],
   "source": [
    "# find cancelled matches\n",
    "# we only find 2, but, that's okay\n",
    "\n",
    "df1 = loteca0\n",
    "df2 = betexp[betexp.scoremod.isin(['ABN.', 'AWA.', 'CAN.', 'INT.', 'POSTP.', 'WO.'])]\n",
    "\n",
    "results, teams = matches.generate_matches_dict(df1, df2, teamsd, logger=logger,    \n",
    "                                         ignore_date=True,\n",
    "                                         ignore_score=True,\n",
    "                                         min_team_rigid_points=2,\n",
    "                                         min_team_flex_points=2,\n",
    "                                         return_teams=True)\n",
    "\n",
    "for k, v in teams.items(): teamsd[k] |= v\n",
    "ret.update(results)"
   ]
  },
  {
   "cell_type": "code",
   "execution_count": 15,
   "metadata": {},
   "outputs": [
    {
     "name": "stdout",
     "output_type": "stream",
     "text": [
      "defaultdict(<class 'set'>, {})\n"
     ]
    },
    {
     "data": {
      "text/plain": [
       "roundno                730\n",
       "gameno                  14\n",
       "date                   NaT\n",
       "teamH       CHAPECOENSE/SC\n",
       "goalsH                   0\n",
       "teamA          ATLÉTICO/MG\n",
       "goalsA                   1\n",
       "happened             False\n",
       "Name: 10219, dtype: object"
      ]
     },
     "metadata": {},
     "output_type": "display_data"
    },
    {
     "data": {
      "text/html": [
       "<div>\n",
       "<style scoped>\n",
       "    .dataframe tbody tr th:only-of-type {\n",
       "        vertical-align: middle;\n",
       "    }\n",
       "\n",
       "    .dataframe tbody tr th {\n",
       "        vertical-align: top;\n",
       "    }\n",
       "\n",
       "    .dataframe thead th {\n",
       "        text-align: right;\n",
       "    }\n",
       "</style>\n",
       "<table border=\"1\" class=\"dataframe\">\n",
       "  <thead>\n",
       "    <tr style=\"text-align: right;\">\n",
       "      <th></th>\n",
       "      <th>id</th>\n",
       "      <th>league_category</th>\n",
       "      <th>date</th>\n",
       "      <th>teamH</th>\n",
       "      <th>teamA</th>\n",
       "      <th>score</th>\n",
       "      <th>scoremod</th>\n",
       "      <th>goalsH</th>\n",
       "      <th>goalsA</th>\n",
       "    </tr>\n",
       "  </thead>\n",
       "  <tbody>\n",
       "    <tr>\n",
       "      <th>71957</th>\n",
       "      <td>hhdByMIg</td>\n",
       "      <td>brazil</td>\n",
       "      <td>2016-12-11</td>\n",
       "      <td>Chapecoense-SC</td>\n",
       "      <td>Atletico-MG</td>\n",
       "      <td></td>\n",
       "      <td>AWA.</td>\n",
       "      <td>NaN</td>\n",
       "      <td>NaN</td>\n",
       "    </tr>\n",
       "  </tbody>\n",
       "</table>\n",
       "</div>"
      ],
      "text/plain": [
       "             id league_category       date           teamH        teamA score  \\\n",
       "71957  hhdByMIg          brazil 2016-12-11  Chapecoense-SC  Atletico-MG         \n",
       "\n",
       "      scoremod  goalsH  goalsA  \n",
       "71957     AWA.     NaN     NaN  "
      ]
     },
     "metadata": {},
     "output_type": "display_data"
    },
    {
     "data": {
      "text/plain": [
       "roundno                748\n",
       "gameno                  11\n",
       "date                   NaT\n",
       "teamH             CEARÁ/CE\n",
       "goalsH                   0\n",
       "teamA       FERROVIÁRIO/CE\n",
       "goalsA                   1\n",
       "happened             False\n",
       "Name: 10468, dtype: object"
      ]
     },
     "metadata": {},
     "output_type": "display_data"
    },
    {
     "data": {
      "text/html": [
       "<div>\n",
       "<style scoped>\n",
       "    .dataframe tbody tr th:only-of-type {\n",
       "        vertical-align: middle;\n",
       "    }\n",
       "\n",
       "    .dataframe tbody tr th {\n",
       "        vertical-align: top;\n",
       "    }\n",
       "\n",
       "    .dataframe thead th {\n",
       "        text-align: right;\n",
       "    }\n",
       "</style>\n",
       "<table border=\"1\" class=\"dataframe\">\n",
       "  <thead>\n",
       "    <tr style=\"text-align: right;\">\n",
       "      <th></th>\n",
       "      <th>id</th>\n",
       "      <th>league_category</th>\n",
       "      <th>date</th>\n",
       "      <th>teamH</th>\n",
       "      <th>teamA</th>\n",
       "      <th>score</th>\n",
       "      <th>scoremod</th>\n",
       "      <th>goalsH</th>\n",
       "      <th>goalsA</th>\n",
       "    </tr>\n",
       "  </thead>\n",
       "  <tbody>\n",
       "    <tr>\n",
       "      <th>79004</th>\n",
       "      <td>tSaSjsMf</td>\n",
       "      <td>brazil</td>\n",
       "      <td>2017-05-07</td>\n",
       "      <td>Ceara</td>\n",
       "      <td>Ferroviario</td>\n",
       "      <td></td>\n",
       "      <td>CAN.</td>\n",
       "      <td>NaN</td>\n",
       "      <td>NaN</td>\n",
       "    </tr>\n",
       "  </tbody>\n",
       "</table>\n",
       "</div>"
      ],
      "text/plain": [
       "             id league_category       date  teamH        teamA score scoremod  \\\n",
       "79004  tSaSjsMf          brazil 2017-05-07  Ceara  Ferroviario           CAN.   \n",
       "\n",
       "       goalsH  goalsA  \n",
       "79004     NaN     NaN  "
      ]
     },
     "metadata": {},
     "output_type": "display_data"
    }
   ],
   "source": [
    "print(teams)\n",
    "for k, v in results.items():\n",
    "    display(loteca.loc[k])\n",
    "    display(betexp[betexp.id == v])"
   ]
  },
  {
   "cell_type": "code",
   "execution_count": 16,
   "metadata": {},
   "outputs": [],
   "source": [
    "del ret[10219]  # chapecoense vs atlético would happen in another date"
   ]
  },
  {
   "cell_type": "code",
   "execution_count": 19,
   "metadata": {},
   "outputs": [
    {
     "name": "stdout",
     "output_type": "stream",
     "text": [
      "52\n",
      "5856\n"
     ]
    }
   ],
   "source": [
    "print(loteca0.shape[0])\n",
    "print(loteca1.shape[0])\n",
    "\n"
   ]
  },
  {
   "cell_type": "markdown",
   "metadata": {},
   "source": [
    "# Found names"
   ]
  },
  {
   "cell_type": "markdown",
   "metadata": {},
   "source": [
    "- AMERICANO/RJ -> Americano FC\n",
    "- ATHLETIC BILBAO/ESP -> Ath Bilbao\n",
    "- ATLÉTICO/BA -> Alagoinhas\n",
    "- BOA ESPORTE CLUBE/MG -> Boa\n",
    "- BOA ESPORTE/MG -> Boa\n",
    "- BOCA JÚNIOR/SE -> Boca Junior\n",
    "- BOLOGNA FC/ITA -> Bologna\n",
    "- BORUSSIA DORTMUND/DEU -> Dortmund\n",
    "- BRAGANTINO/SP -> Bragantino\n",
    "- BRASIL/RS -> Brasil de Pelotas\n",
    "- CAGLIARI CALCIO/ITA -> Cagliari\n",
    "- CAMBURIÚ/SC -> Camboriu\n",
    "- CAXIAS/RS -> SER Caxias\n",
    "- CELTA DE VIGO/ESP -> Celta Vigo\n",
    "- CENTRAL/PE -> Central SC\n",
    "- COLO COLO/BA -> Colo C.\n",
    "- COLÔNIA/DEU -> FC Koln\n",
    "- CRUZEIRO/RS -> EC Cruzeiro\n",
    "- CUIABÁ/MT -> Cuiaba Esporte\n",
    "- DEPORTI LA CORUNA/ESP -> Dep. La Coruna\n",
    "- DEPORTIVO LA CORUÑA/ESP -> Dep. La Coruna\n",
    "- ESPORTIVO/RS -> Bento Goncalves\n",
    "- ESTANCIANO/SE -> Estanciano EC\n",
    "- FC BARCELONA/ESP -> Barcelona\n",
    "- FC BORDEAUX/FRA -> Bordeaux\n",
    "- FERNANDÓPOLIS/SP SUB 20 -> Fernandopolis U20\n",
    "- FLUMINENSE/BA -> Fluminense de Feira\n",
    "- FORMOSA/GO -> Bosque Formosa\n",
    "- GRÊMIO BARUERI/SP -> Barueri\n",
    "- GRÊMIO PRUDENTE/SP -> Barueri\n",
    "- GUARANI/CE -> Guarani de Juazeiro\n",
    "- GUARANI/MG -> Guarani EC\n",
    "- GUARANI/SC -> Guarani de Palhoca\n",
    "- HERTHA BERLIM/DEU -> Hertha Berlin\n",
    "- INTER DE MILÃO/ITA -> Inter\n",
    "- IPATINGA/MG -> Betim\n",
    "- ITUIUTABA/MG -> Boa\n",
    "- JUVENTUS FC/ITA -> Juventus\n",
    "- JUVENTUS/SC -> Gremio Juventus\n",
    "- MILAN/ITA -> AC Milan\n",
    "- MONCHENGLADBACH/DEU -> B. Monchengladbach\n",
    "- MOTO CLUBE/MA -> Moto Club\n",
    "- NEW CASTLE/ING -> Newcastle\n",
    "- OLYMPIQUE DE NICE/FRA -> Nice\n",
    "- OLYMPIQUE LYONNAIS/FRA -> Lyon\n",
    "- PALMEIRA/RN -> Palmeira de Una\n",
    "- PARIS SAINT-GERMAIN/FRA -> Paris SG\n",
    "- PORTO/PE -> CA Porto\n",
    "- PORTUGUESA DESPORTOS/SP -> Portuguesa\n",
    "- RIO BRANCO/AC -> Rio Branco\n",
    "- RIO BRANCO/AC SUB 20 -> Rio Branco AC U20\n",
    "- RIO BRANCO/ES -> Rio Branco ES\n",
    "- ROMA/ITA -> AS Roma\n",
    "- SAINT-ÉTIENNE/FRA -> St Etienne\n",
    "- SANTA CRUZ/RN -> Santa Cruz de Natal\n",
    "- SCHALKE 04/DEU -> Schalke\n",
    "- SOC DEPORT EIBAR/ESP -> Eibar\n",
    "- SOCIETA SPO LAZIO/ITA -> Lazio\n",
    "- SOROCABA/SP -> Atl. Sorocaba\n",
    "- SPORT/PE -> Sport Recife\n",
    "- STOKE CITY/ING -> Stoke\n",
    "- SÃO  CAETANO/SP -> Sao Caetano\n",
    "- SÃO JOSÉ (PA) /RS -> EC Sao Jose\n",
    "- SÃO JOSÉ/RS -> EC Sao Jose\n",
    "- TIGRES DO BRASIL/RJ -> Tigres Brasil\n",
    "- TSG HOFFENHEIM/DEU -> Hoffenheim\n",
    "- TUPÃ/SP SUB 20 -> Tupa U20\n",
    "- VALENCIA CLUB/ESP -> Valencia\n",
    "- VASCO DA GAMA/RJ -> Vasco\n",
    "- VASCO/RJ -> Vasco\n",
    "- VILA NOVA/GO -> Vila Nova FC\n",
    "- VILA NOVA/MG -> Villa Nova MG\n",
    "- VITORIA/PE -> Academica Vitoria\n",
    "- WEST BROMWICH/ING -> West Brom\n",
    "- XV DE JAÚ/SP SUB 20 -> XV de Jau U20\n",
    "- XV PIRACICABA/SP -> Piracicaba\n",
    "- YPIRANGA/RS -> Ypiranga FC\n",
    "- ÁGUIA/PA -> Aguia De Maraba"
   ]
  },
  {
   "cell_type": "markdown",
   "metadata": {},
   "source": [
    "# Some failed BetExplorer names\n",
    "\n",
    "Not all BetExplorer team names are right. Here are some of them that were captured in this algorithm. These teams have a name change in their history, this is the reason they are here."
   ]
  },
  {
   "cell_type": "code",
   "execution_count": null,
   "metadata": {},
   "outputs": [],
   "source": [
    "# http://www.betexplorer.com/soccer/brazil/serie-b-2009/america-rn-betim/zuc6o4ea/\n",
    "# it's Ipatinga, not Betim\n",
    "betexp.loc[22800]"
   ]
  },
  {
   "cell_type": "code",
   "execution_count": null,
   "metadata": {},
   "outputs": [],
   "source": [
    "# http://www.betexplorer.com/soccer/brazil/campeonato-paulista-2010/santo-andre-barueri/d4IyAGi2/\n",
    "# It's Grêmio Prudente, not Barueri\n",
    "betexp.loc[18934]"
   ]
  },
  {
   "cell_type": "code",
   "execution_count": null,
   "metadata": {},
   "outputs": [],
   "source": [
    "# http://www.betexplorer.com/soccer/brazil/serie-b-2011/barueri-portuguesa/4rHNNkEH/\n",
    "# This one is right, but it contradicts with the example above\n",
    "betexp.loc[32436]"
   ]
  }
 ],
 "metadata": {
  "kernelspec": {
   "display_name": "Python 3",
   "language": "python",
   "name": "python3"
  },
  "language_info": {
   "codemirror_mode": {
    "name": "ipython",
    "version": 3
   },
   "file_extension": ".py",
   "mimetype": "text/x-python",
   "name": "python",
   "nbconvert_exporter": "python",
   "pygments_lexer": "ipython3",
   "version": "3.6.4"
  }
 },
 "nbformat": 4,
 "nbformat_minor": 2
}
