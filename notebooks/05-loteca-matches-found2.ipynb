{
 "cells": [
  {
   "cell_type": "markdown",
   "metadata": {},
   "source": [
    "# Loteca matches found\n",
    "\n",
    "In this notebook, we will explorer which loteca matches were found.\n",
    "\n",
    "There was already a notebook like that, but this one uses updated data (after\n",
    "we refactored lots of them algorithms).\n",
    "\n",
    "We have some objectives:\n",
    "\n",
    "- Check if the matches found are enough to make a model\n",
    "- Check if there are some matches not found that can easily be added to fulfill a \"round\"\n",
    "- Take a look at the matches/rounds found along the time\n",
    "\n",
    "**Remember**: There are some matches that didn't happen. For these, we don't have \n",
    "odds information."
   ]
  },
  {
   "cell_type": "markdown",
   "metadata": {},
   "source": [
    "## Load data"
   ]
  },
  {
   "cell_type": "code",
   "execution_count": 1,
   "metadata": {},
   "outputs": [],
   "source": [
    "import sys\n",
    "sys.path.insert(0, '..')"
   ]
  },
  {
   "cell_type": "code",
   "execution_count": 2,
   "metadata": {},
   "outputs": [],
   "source": [
    "from src.util import load_pickle\n",
    "\n",
    "matches = load_pickle('../data/process/loteca_matches.pkl')\n",
    "found_ids = load_pickle('../data/interim/loteca_matchlist.pkl')"
   ]
  },
  {
   "cell_type": "markdown",
   "metadata": {},
   "source": [
    "## Explore"
   ]
  },
  {
   "cell_type": "code",
   "execution_count": 3,
   "metadata": {},
   "outputs": [
    {
     "data": {
      "text/html": [
       "<div>\n",
       "<style scoped>\n",
       "    .dataframe tbody tr th:only-of-type {\n",
       "        vertical-align: middle;\n",
       "    }\n",
       "\n",
       "    .dataframe tbody tr th {\n",
       "        vertical-align: top;\n",
       "    }\n",
       "\n",
       "    .dataframe thead th {\n",
       "        text-align: right;\n",
       "    }\n",
       "</style>\n",
       "<table border=\"1\" class=\"dataframe\">\n",
       "  <thead>\n",
       "    <tr style=\"text-align: right;\">\n",
       "      <th></th>\n",
       "      <th>roundno</th>\n",
       "      <th>gameno</th>\n",
       "      <th>date</th>\n",
       "      <th>team_h</th>\n",
       "      <th>goals_h</th>\n",
       "      <th>team_a</th>\n",
       "      <th>goals_a</th>\n",
       "      <th>happened</th>\n",
       "    </tr>\n",
       "  </thead>\n",
       "  <tbody>\n",
       "    <tr>\n",
       "      <th>5110</th>\n",
       "      <td>366</td>\n",
       "      <td>1</td>\n",
       "      <td>2009-06-07</td>\n",
       "      <td>CRUZEIRO/MG</td>\n",
       "      <td>1</td>\n",
       "      <td>INTERNACIONAL/RS</td>\n",
       "      <td>1</td>\n",
       "      <td>True</td>\n",
       "    </tr>\n",
       "    <tr>\n",
       "      <th>5111</th>\n",
       "      <td>366</td>\n",
       "      <td>2</td>\n",
       "      <td>2009-06-07</td>\n",
       "      <td>ATLÉTICO/PR</td>\n",
       "      <td>0</td>\n",
       "      <td>ATLÉTICO/MG</td>\n",
       "      <td>4</td>\n",
       "      <td>True</td>\n",
       "    </tr>\n",
       "    <tr>\n",
       "      <th>5112</th>\n",
       "      <td>366</td>\n",
       "      <td>3</td>\n",
       "      <td>2009-06-07</td>\n",
       "      <td>AVAÍ/SC</td>\n",
       "      <td>0</td>\n",
       "      <td>SÃO PAULO/SP</td>\n",
       "      <td>0</td>\n",
       "      <td>True</td>\n",
       "    </tr>\n",
       "    <tr>\n",
       "      <th>5113</th>\n",
       "      <td>366</td>\n",
       "      <td>4</td>\n",
       "      <td>2009-06-06</td>\n",
       "      <td>AMÉRICA/RN</td>\n",
       "      <td>2</td>\n",
       "      <td>BRASILIENSE/DF</td>\n",
       "      <td>1</td>\n",
       "      <td>True</td>\n",
       "    </tr>\n",
       "    <tr>\n",
       "      <th>5114</th>\n",
       "      <td>366</td>\n",
       "      <td>5</td>\n",
       "      <td>2009-06-06</td>\n",
       "      <td>PONTE PRETA/SP</td>\n",
       "      <td>5</td>\n",
       "      <td>PORTUGUESA DESPORTOS/SP</td>\n",
       "      <td>2</td>\n",
       "      <td>True</td>\n",
       "    </tr>\n",
       "  </tbody>\n",
       "</table>\n",
       "</div>"
      ],
      "text/plain": [
       "      roundno  gameno       date          team_h  goals_h  \\\n",
       "5110      366       1 2009-06-07     CRUZEIRO/MG        1   \n",
       "5111      366       2 2009-06-07     ATLÉTICO/PR        0   \n",
       "5112      366       3 2009-06-07         AVAÍ/SC        0   \n",
       "5113      366       4 2009-06-06      AMÉRICA/RN        2   \n",
       "5114      366       5 2009-06-06  PONTE PRETA/SP        5   \n",
       "\n",
       "                       team_a  goals_a  happened  \n",
       "5110         INTERNACIONAL/RS        1      True  \n",
       "5111              ATLÉTICO/MG        4      True  \n",
       "5112             SÃO PAULO/SP        0      True  \n",
       "5113           BRASILIENSE/DF        1      True  \n",
       "5114  PORTUGUESA DESPORTOS/SP        2      True  "
      ]
     },
     "execution_count": 3,
     "metadata": {},
     "output_type": "execute_result"
    }
   ],
   "source": [
    "matches.head()"
   ]
  },
  {
   "cell_type": "code",
   "execution_count": 4,
   "metadata": {},
   "outputs": [
    {
     "name": "stdout",
     "output_type": "stream",
     "text": [
      "<class 'pandas.core.frame.DataFrame'>\n",
      "Int64Index: 6004 entries, 5110 to 11113\n",
      "Data columns (total 8 columns):\n",
      "roundno     6004 non-null int64\n",
      "gameno      6004 non-null int64\n",
      "date        5950 non-null datetime64[ns]\n",
      "team_h      6004 non-null object\n",
      "goals_h     6004 non-null int64\n",
      "team_a      6004 non-null object\n",
      "goals_a     6004 non-null int64\n",
      "happened    6004 non-null bool\n",
      "dtypes: bool(1), datetime64[ns](1), int64(4), object(2)\n",
      "memory usage: 381.1+ KB\n"
     ]
    }
   ],
   "source": [
    "# there are 6004 loteca matches\n",
    "matches.info()"
   ]
  },
  {
   "cell_type": "code",
   "execution_count": 5,
   "metadata": {},
   "outputs": [
    {
     "data": {
      "text/plain": [
       "True     5950\n",
       "False      54\n",
       "Name: happened, dtype: int64"
      ]
     },
     "execution_count": 5,
     "metadata": {},
     "output_type": "execute_result"
    }
   ],
   "source": [
    "# of those, 5950 happened and 54 didn't\n",
    "matches.happened.value_counts()"
   ]
  },
  {
   "cell_type": "code",
   "execution_count": 6,
   "metadata": {},
   "outputs": [],
   "source": [
    "# let's worry only about those that happened\n",
    "matches = matches[matches.happened]"
   ]
  },
  {
   "cell_type": "code",
   "execution_count": 7,
   "metadata": {},
   "outputs": [
    {
     "data": {
      "text/plain": [
       "True"
      ]
     },
     "execution_count": 7,
     "metadata": {},
     "output_type": "execute_result"
    }
   ],
   "source": [
    "# all found matches happened\n",
    "all([id in matches.index for id in found_ids])"
   ]
  },
  {
   "cell_type": "code",
   "execution_count": 8,
   "metadata": {},
   "outputs": [
    {
     "data": {
      "text/plain": [
       "[5110, 5112, 5120, 5121, 5124]"
      ]
     },
     "execution_count": 8,
     "metadata": {},
     "output_type": "execute_result"
    }
   ],
   "source": [
    "found_ids[:5]"
   ]
  },
  {
   "cell_type": "code",
   "execution_count": 9,
   "metadata": {},
   "outputs": [
    {
     "data": {
      "text/plain": [
       "4981"
      ]
     },
     "execution_count": 9,
     "metadata": {},
     "output_type": "execute_result"
    }
   ],
   "source": [
    "# 4969 matches were found\n",
    "len(found_ids)"
   ]
  },
  {
   "cell_type": "code",
   "execution_count": 10,
   "metadata": {},
   "outputs": [
    {
     "data": {
      "text/plain": [
       "0.8351260504201681"
      ]
     },
     "execution_count": 10,
     "metadata": {},
     "output_type": "execute_result"
    }
   ],
   "source": [
    "# this percentage\n",
    "4969 / 5950"
   ]
  },
  {
   "cell_type": "markdown",
   "metadata": {},
   "source": [
    "## Assemble everything into the matches DataFrame"
   ]
  },
  {
   "cell_type": "code",
   "execution_count": 11,
   "metadata": {},
   "outputs": [
    {
     "data": {
      "text/html": [
       "<div>\n",
       "<style scoped>\n",
       "    .dataframe tbody tr th:only-of-type {\n",
       "        vertical-align: middle;\n",
       "    }\n",
       "\n",
       "    .dataframe tbody tr th {\n",
       "        vertical-align: top;\n",
       "    }\n",
       "\n",
       "    .dataframe thead th {\n",
       "        text-align: right;\n",
       "    }\n",
       "</style>\n",
       "<table border=\"1\" class=\"dataframe\">\n",
       "  <thead>\n",
       "    <tr style=\"text-align: right;\">\n",
       "      <th></th>\n",
       "      <th>roundno</th>\n",
       "      <th>gameno</th>\n",
       "      <th>date</th>\n",
       "      <th>team_h</th>\n",
       "      <th>goals_h</th>\n",
       "      <th>team_a</th>\n",
       "      <th>goals_a</th>\n",
       "      <th>happened</th>\n",
       "      <th>found</th>\n",
       "    </tr>\n",
       "  </thead>\n",
       "  <tbody>\n",
       "    <tr>\n",
       "      <th>5110</th>\n",
       "      <td>366</td>\n",
       "      <td>1</td>\n",
       "      <td>2009-06-07</td>\n",
       "      <td>CRUZEIRO/MG</td>\n",
       "      <td>1</td>\n",
       "      <td>INTERNACIONAL/RS</td>\n",
       "      <td>1</td>\n",
       "      <td>True</td>\n",
       "      <td>True</td>\n",
       "    </tr>\n",
       "    <tr>\n",
       "      <th>5111</th>\n",
       "      <td>366</td>\n",
       "      <td>2</td>\n",
       "      <td>2009-06-07</td>\n",
       "      <td>ATLÉTICO/PR</td>\n",
       "      <td>0</td>\n",
       "      <td>ATLÉTICO/MG</td>\n",
       "      <td>4</td>\n",
       "      <td>True</td>\n",
       "      <td>True</td>\n",
       "    </tr>\n",
       "    <tr>\n",
       "      <th>5112</th>\n",
       "      <td>366</td>\n",
       "      <td>3</td>\n",
       "      <td>2009-06-07</td>\n",
       "      <td>AVAÍ/SC</td>\n",
       "      <td>0</td>\n",
       "      <td>SÃO PAULO/SP</td>\n",
       "      <td>0</td>\n",
       "      <td>True</td>\n",
       "      <td>True</td>\n",
       "    </tr>\n",
       "    <tr>\n",
       "      <th>5113</th>\n",
       "      <td>366</td>\n",
       "      <td>4</td>\n",
       "      <td>2009-06-06</td>\n",
       "      <td>AMÉRICA/RN</td>\n",
       "      <td>2</td>\n",
       "      <td>BRASILIENSE/DF</td>\n",
       "      <td>1</td>\n",
       "      <td>True</td>\n",
       "      <td>True</td>\n",
       "    </tr>\n",
       "    <tr>\n",
       "      <th>5114</th>\n",
       "      <td>366</td>\n",
       "      <td>5</td>\n",
       "      <td>2009-06-06</td>\n",
       "      <td>PONTE PRETA/SP</td>\n",
       "      <td>5</td>\n",
       "      <td>PORTUGUESA DESPORTOS/SP</td>\n",
       "      <td>2</td>\n",
       "      <td>True</td>\n",
       "      <td>True</td>\n",
       "    </tr>\n",
       "  </tbody>\n",
       "</table>\n",
       "</div>"
      ],
      "text/plain": [
       "      roundno  gameno       date          team_h  goals_h  \\\n",
       "5110      366       1 2009-06-07     CRUZEIRO/MG        1   \n",
       "5111      366       2 2009-06-07     ATLÉTICO/PR        0   \n",
       "5112      366       3 2009-06-07         AVAÍ/SC        0   \n",
       "5113      366       4 2009-06-06      AMÉRICA/RN        2   \n",
       "5114      366       5 2009-06-06  PONTE PRETA/SP        5   \n",
       "\n",
       "                       team_a  goals_a  happened  found  \n",
       "5110         INTERNACIONAL/RS        1      True   True  \n",
       "5111              ATLÉTICO/MG        4      True   True  \n",
       "5112             SÃO PAULO/SP        0      True   True  \n",
       "5113           BRASILIENSE/DF        1      True   True  \n",
       "5114  PORTUGUESA DESPORTOS/SP        2      True   True  "
      ]
     },
     "execution_count": 11,
     "metadata": {},
     "output_type": "execute_result"
    }
   ],
   "source": [
    "matches = matches.copy()\n",
    "matches['found'] = matches.index.isin(found_ids)\n",
    "matches.head()"
   ]
  },
  {
   "cell_type": "code",
   "execution_count": 12,
   "metadata": {},
   "outputs": [
    {
     "data": {
      "text/plain": [
       "roundno\n",
       "366    12\n",
       "367    12\n",
       "368    14\n",
       "369    12\n",
       "370    12\n",
       "Name: found, dtype: int64"
      ]
     },
     "execution_count": 12,
     "metadata": {},
     "output_type": "execute_result"
    }
   ],
   "source": [
    "# see results by round\n",
    "rounds = matches.groupby('roundno').found.sum().astype(int)\n",
    "rounds.head()"
   ]
  },
  {
   "cell_type": "code",
   "execution_count": 13,
   "metadata": {},
   "outputs": [
    {
     "data": {
      "text/plain": [
       "14    217\n",
       "13     64\n",
       "12     37\n",
       "6      16\n",
       "10     14\n",
       "0      14\n",
       "5      13\n",
       "11     11\n",
       "7       9\n",
       "8       8\n",
       "4       8\n",
       "9       7\n",
       "3       4\n",
       "2       4\n",
       "1       3\n",
       "Name: found, dtype: int64"
      ]
     },
     "execution_count": 13,
     "metadata": {},
     "output_type": "execute_result"
    }
   ],
   "source": [
    "rounds.value_counts()"
   ]
  },
  {
   "cell_type": "code",
   "execution_count": 14,
   "metadata": {},
   "outputs": [
    {
     "data": {
      "text/plain": [
       "14    0.505828\n",
       "13    0.149184\n",
       "12    0.086247\n",
       "6     0.037296\n",
       "10    0.032634\n",
       "0     0.032634\n",
       "5     0.030303\n",
       "11    0.025641\n",
       "7     0.020979\n",
       "8     0.018648\n",
       "4     0.018648\n",
       "9     0.016317\n",
       "3     0.009324\n",
       "2     0.009324\n",
       "1     0.006993\n",
       "Name: found, dtype: float64"
      ]
     },
     "execution_count": 14,
     "metadata": {},
     "output_type": "execute_result"
    }
   ],
   "source": [
    "# so we have completely found half of the rounds\n",
    "# there are also lots of rounds with 13 or 12 founds\n",
    "# we can explorer them a bit more\n",
    "rounds.value_counts() / len(rounds)"
   ]
  },
  {
   "cell_type": "code",
   "execution_count": 15,
   "metadata": {},
   "outputs": [],
   "source": [
    "_rounds = rounds.to_frame().rename(columns={'found': 'nfound'}).reset_index()\n",
    "matches = matches.merge(_rounds, how='left', on='roundno')"
   ]
  },
  {
   "cell_type": "code",
   "execution_count": 16,
   "metadata": {},
   "outputs": [
    {
     "data": {
      "text/html": [
       "<div>\n",
       "<style scoped>\n",
       "    .dataframe tbody tr th:only-of-type {\n",
       "        vertical-align: middle;\n",
       "    }\n",
       "\n",
       "    .dataframe tbody tr th {\n",
       "        vertical-align: top;\n",
       "    }\n",
       "\n",
       "    .dataframe thead th {\n",
       "        text-align: right;\n",
       "    }\n",
       "</style>\n",
       "<table border=\"1\" class=\"dataframe\">\n",
       "  <thead>\n",
       "    <tr style=\"text-align: right;\">\n",
       "      <th></th>\n",
       "      <th>roundno</th>\n",
       "      <th>gameno</th>\n",
       "      <th>date</th>\n",
       "      <th>team_h</th>\n",
       "      <th>goals_h</th>\n",
       "      <th>team_a</th>\n",
       "      <th>goals_a</th>\n",
       "      <th>happened</th>\n",
       "      <th>found</th>\n",
       "      <th>nfound</th>\n",
       "    </tr>\n",
       "  </thead>\n",
       "  <tbody>\n",
       "    <tr>\n",
       "      <th>7</th>\n",
       "      <td>366</td>\n",
       "      <td>8</td>\n",
       "      <td>2009-06-07</td>\n",
       "      <td>CONFIANÇA/SE</td>\n",
       "      <td>1</td>\n",
       "      <td>SERGIPE/SE</td>\n",
       "      <td>2</td>\n",
       "      <td>True</td>\n",
       "      <td>False</td>\n",
       "      <td>12</td>\n",
       "    </tr>\n",
       "    <tr>\n",
       "      <th>8</th>\n",
       "      <td>366</td>\n",
       "      <td>9</td>\n",
       "      <td>2009-06-07</td>\n",
       "      <td>CRB/AL</td>\n",
       "      <td>0</td>\n",
       "      <td>ASA/AL</td>\n",
       "      <td>1</td>\n",
       "      <td>True</td>\n",
       "      <td>False</td>\n",
       "      <td>12</td>\n",
       "    </tr>\n",
       "    <tr>\n",
       "      <th>18</th>\n",
       "      <td>367</td>\n",
       "      <td>5</td>\n",
       "      <td>2009-06-14</td>\n",
       "      <td>PAYSANDU/PA</td>\n",
       "      <td>3</td>\n",
       "      <td>RIO BRANCO/AC</td>\n",
       "      <td>1</td>\n",
       "      <td>True</td>\n",
       "      <td>False</td>\n",
       "      <td>12</td>\n",
       "    </tr>\n",
       "    <tr>\n",
       "      <th>19</th>\n",
       "      <td>367</td>\n",
       "      <td>6</td>\n",
       "      <td>2009-06-14</td>\n",
       "      <td>BRASIL/RS</td>\n",
       "      <td>1</td>\n",
       "      <td>CRICIÚMA/SC</td>\n",
       "      <td>0</td>\n",
       "      <td>True</td>\n",
       "      <td>False</td>\n",
       "      <td>12</td>\n",
       "    </tr>\n",
       "    <tr>\n",
       "      <th>49</th>\n",
       "      <td>369</td>\n",
       "      <td>8</td>\n",
       "      <td>2009-06-27</td>\n",
       "      <td>CRB/AL</td>\n",
       "      <td>1</td>\n",
       "      <td>ICASA/CE</td>\n",
       "      <td>2</td>\n",
       "      <td>True</td>\n",
       "      <td>False</td>\n",
       "      <td>12</td>\n",
       "    </tr>\n",
       "  </tbody>\n",
       "</table>\n",
       "</div>"
      ],
      "text/plain": [
       "    roundno  gameno       date        team_h  goals_h         team_a  goals_a  \\\n",
       "7       366       8 2009-06-07  CONFIANÇA/SE        1     SERGIPE/SE        2   \n",
       "8       366       9 2009-06-07        CRB/AL        0         ASA/AL        1   \n",
       "18      367       5 2009-06-14   PAYSANDU/PA        3  RIO BRANCO/AC        1   \n",
       "19      367       6 2009-06-14     BRASIL/RS        1    CRICIÚMA/SC        0   \n",
       "49      369       8 2009-06-27        CRB/AL        1       ICASA/CE        2   \n",
       "\n",
       "    happened  found  nfound  \n",
       "7       True  False      12  \n",
       "8       True  False      12  \n",
       "18      True  False      12  \n",
       "19      True  False      12  \n",
       "49      True  False      12  "
      ]
     },
     "execution_count": 16,
     "metadata": {},
     "output_type": "execute_result"
    }
   ],
   "source": [
    "close = matches[matches.nfound.isin([12, 13]) & ~matches.found]\n",
    "close.head()"
   ]
  },
  {
   "cell_type": "code",
   "execution_count": 22,
   "metadata": {},
   "outputs": [
    {
     "data": {
      "text/plain": [
       "80"
      ]
     },
     "execution_count": 22,
     "metadata": {},
     "output_type": "execute_result"
    }
   ],
   "source": [
    "# there are still 80 rounds we could\n",
    "# potentially have saved...\n",
    "close.roundno.nunique()"
   ]
  },
  {
   "cell_type": "code",
   "execution_count": 18,
   "metadata": {},
   "outputs": [
    {
     "data": {
      "text/html": [
       "<div>\n",
       "<style scoped>\n",
       "    .dataframe tbody tr th:only-of-type {\n",
       "        vertical-align: middle;\n",
       "    }\n",
       "\n",
       "    .dataframe tbody tr th {\n",
       "        vertical-align: top;\n",
       "    }\n",
       "\n",
       "    .dataframe thead th {\n",
       "        text-align: right;\n",
       "    }\n",
       "</style>\n",
       "<table border=\"1\" class=\"dataframe\">\n",
       "  <thead>\n",
       "    <tr style=\"text-align: right;\">\n",
       "      <th></th>\n",
       "      <th>roundno</th>\n",
       "      <th>gameno</th>\n",
       "      <th>date</th>\n",
       "      <th>team_h</th>\n",
       "      <th>goals_h</th>\n",
       "      <th>team_a</th>\n",
       "      <th>goals_a</th>\n",
       "      <th>happened</th>\n",
       "      <th>found</th>\n",
       "      <th>nfound</th>\n",
       "    </tr>\n",
       "  </thead>\n",
       "  <tbody>\n",
       "    <tr>\n",
       "      <th>5906</th>\n",
       "      <td>791</td>\n",
       "      <td>12</td>\n",
       "      <td>2018-03-18</td>\n",
       "      <td>SPORTING CLUBE/PRT</td>\n",
       "      <td>2</td>\n",
       "      <td>RIO AVE/PRT</td>\n",
       "      <td>0</td>\n",
       "      <td>True</td>\n",
       "      <td>False</td>\n",
       "      <td>13</td>\n",
       "    </tr>\n",
       "    <tr>\n",
       "      <th>5844</th>\n",
       "      <td>787</td>\n",
       "      <td>5</td>\n",
       "      <td>2018-02-19</td>\n",
       "      <td>VITÓRIA/BA</td>\n",
       "      <td>1</td>\n",
       "      <td>BAHIA/BA</td>\n",
       "      <td>1</td>\n",
       "      <td>True</td>\n",
       "      <td>False</td>\n",
       "      <td>13</td>\n",
       "    </tr>\n",
       "    <tr>\n",
       "      <th>5306</th>\n",
       "      <td>748</td>\n",
       "      <td>8</td>\n",
       "      <td>2017-05-07</td>\n",
       "      <td>REMO/PA</td>\n",
       "      <td>1</td>\n",
       "      <td>PAYSANDU/PA</td>\n",
       "      <td>2</td>\n",
       "      <td>True</td>\n",
       "      <td>False</td>\n",
       "      <td>12</td>\n",
       "    </tr>\n",
       "    <tr>\n",
       "      <th>5288</th>\n",
       "      <td>747</td>\n",
       "      <td>4</td>\n",
       "      <td>2017-04-30</td>\n",
       "      <td>PAYSANDU/PA</td>\n",
       "      <td>1</td>\n",
       "      <td>REMO/PA</td>\n",
       "      <td>1</td>\n",
       "      <td>True</td>\n",
       "      <td>False</td>\n",
       "      <td>13</td>\n",
       "    </tr>\n",
       "    <tr>\n",
       "      <th>5283</th>\n",
       "      <td>746</td>\n",
       "      <td>13</td>\n",
       "      <td>2017-04-23</td>\n",
       "      <td>NOVO HAMBURGO/RS</td>\n",
       "      <td>1</td>\n",
       "      <td>GRÊMIO/RS</td>\n",
       "      <td>1</td>\n",
       "      <td>True</td>\n",
       "      <td>False</td>\n",
       "      <td>12</td>\n",
       "    </tr>\n",
       "    <tr>\n",
       "      <th>5279</th>\n",
       "      <td>746</td>\n",
       "      <td>9</td>\n",
       "      <td>2017-04-23</td>\n",
       "      <td>MOGI MIRIM/SP</td>\n",
       "      <td>1</td>\n",
       "      <td>RIO PRETO/SP</td>\n",
       "      <td>2</td>\n",
       "      <td>True</td>\n",
       "      <td>False</td>\n",
       "      <td>12</td>\n",
       "    </tr>\n",
       "    <tr>\n",
       "      <th>5232</th>\n",
       "      <td>743</td>\n",
       "      <td>4</td>\n",
       "      <td>2017-04-01</td>\n",
       "      <td>RIO BRANCO/ES</td>\n",
       "      <td>2</td>\n",
       "      <td>LUVERDENSE/MT</td>\n",
       "      <td>2</td>\n",
       "      <td>True</td>\n",
       "      <td>False</td>\n",
       "      <td>13</td>\n",
       "    </tr>\n",
       "    <tr>\n",
       "      <th>5119</th>\n",
       "      <td>734</td>\n",
       "      <td>13</td>\n",
       "      <td>2017-01-28</td>\n",
       "      <td>VITÓRIA/ES</td>\n",
       "      <td>1</td>\n",
       "      <td>LINHARES/ES</td>\n",
       "      <td>0</td>\n",
       "      <td>True</td>\n",
       "      <td>False</td>\n",
       "      <td>13</td>\n",
       "    </tr>\n",
       "    <tr>\n",
       "      <th>4946</th>\n",
       "      <td>721</td>\n",
       "      <td>9</td>\n",
       "      <td>2016-10-01</td>\n",
       "      <td>CAXIAS/RS</td>\n",
       "      <td>0</td>\n",
       "      <td>YPIRANGA/RS</td>\n",
       "      <td>1</td>\n",
       "      <td>True</td>\n",
       "      <td>False</td>\n",
       "      <td>12</td>\n",
       "    </tr>\n",
       "    <tr>\n",
       "      <th>4945</th>\n",
       "      <td>721</td>\n",
       "      <td>8</td>\n",
       "      <td>2016-10-01</td>\n",
       "      <td>XV PIRACICABA/SP</td>\n",
       "      <td>1</td>\n",
       "      <td>PENAPOLENSE/SP</td>\n",
       "      <td>0</td>\n",
       "      <td>True</td>\n",
       "      <td>False</td>\n",
       "      <td>12</td>\n",
       "    </tr>\n",
       "  </tbody>\n",
       "</table>\n",
       "</div>"
      ],
      "text/plain": [
       "      roundno  gameno       date              team_h  goals_h          team_a  \\\n",
       "5906      791      12 2018-03-18  SPORTING CLUBE/PRT        2     RIO AVE/PRT   \n",
       "5844      787       5 2018-02-19          VITÓRIA/BA        1        BAHIA/BA   \n",
       "5306      748       8 2017-05-07             REMO/PA        1     PAYSANDU/PA   \n",
       "5288      747       4 2017-04-30         PAYSANDU/PA        1         REMO/PA   \n",
       "5283      746      13 2017-04-23    NOVO HAMBURGO/RS        1       GRÊMIO/RS   \n",
       "5279      746       9 2017-04-23       MOGI MIRIM/SP        1    RIO PRETO/SP   \n",
       "5232      743       4 2017-04-01       RIO BRANCO/ES        2   LUVERDENSE/MT   \n",
       "5119      734      13 2017-01-28          VITÓRIA/ES        1     LINHARES/ES   \n",
       "4946      721       9 2016-10-01           CAXIAS/RS        0     YPIRANGA/RS   \n",
       "4945      721       8 2016-10-01    XV PIRACICABA/SP        1  PENAPOLENSE/SP   \n",
       "\n",
       "      goals_a  happened  found  nfound  \n",
       "5906        0      True  False      13  \n",
       "5844        1      True  False      13  \n",
       "5306        2      True  False      12  \n",
       "5288        1      True  False      13  \n",
       "5283        1      True  False      12  \n",
       "5279        2      True  False      12  \n",
       "5232        2      True  False      13  \n",
       "5119        0      True  False      13  \n",
       "4946        1      True  False      12  \n",
       "4945        0      True  False      12  "
      ]
     },
     "execution_count": 18,
     "metadata": {},
     "output_type": "execute_result"
    }
   ],
   "source": [
    "# first, let's take a look in the last rounds\n",
    "\n",
    "close.tail(10)[::-1]"
   ]
  },
  {
   "cell_type": "markdown",
   "metadata": {},
   "source": [
    "Things that are missing:\n",
    "\n",
    "- This match ([1]), that was awarded to Bahia.\n",
    "- Remo x Paysandu and Paysandu x Remo teams are in the wrong order.\n",
    "- Novo Hamburgo x Grêmio = (wrong date + wrong score (penalties))\n",
    "- Rio Branco x Luverdense teams were not captured anywhere (and their match date was wrong)\n",
    "\n",
    "These mismatchings probably takes a really small part of the rounds,\n",
    "and, they are too much trouble to mess up with. So, we are going to \n",
    "accept the algorithm as it is and use what we've got. Later, if more\n",
    "data is needed, things can always be tuned.\n",
    "\n",
    "[1]: http://www.betexplorer.com/soccer/brazil/campeonato-baiano/vitoria-bahia/GOQ5oQD2/"
   ]
  },
  {
   "cell_type": "markdown",
   "metadata": {},
   "source": [
    "# Comparing the amount of matches found over time"
   ]
  },
  {
   "cell_type": "code",
   "execution_count": 20,
   "metadata": {},
   "outputs": [
    {
     "data": {
      "text/html": [
       "<div>\n",
       "<style scoped>\n",
       "    .dataframe tbody tr th:only-of-type {\n",
       "        vertical-align: middle;\n",
       "    }\n",
       "\n",
       "    .dataframe tbody tr th {\n",
       "        vertical-align: top;\n",
       "    }\n",
       "\n",
       "    .dataframe thead th {\n",
       "        text-align: right;\n",
       "    }\n",
       "</style>\n",
       "<table border=\"1\" class=\"dataframe\">\n",
       "  <thead>\n",
       "    <tr style=\"text-align: right;\">\n",
       "      <th></th>\n",
       "      <th>nfound</th>\n",
       "      <th>date</th>\n",
       "    </tr>\n",
       "    <tr>\n",
       "      <th>roundno</th>\n",
       "      <th></th>\n",
       "      <th></th>\n",
       "    </tr>\n",
       "  </thead>\n",
       "  <tbody>\n",
       "    <tr>\n",
       "      <th>366</th>\n",
       "      <td>12</td>\n",
       "      <td>2009-06-07</td>\n",
       "    </tr>\n",
       "    <tr>\n",
       "      <th>367</th>\n",
       "      <td>12</td>\n",
       "      <td>2009-06-14</td>\n",
       "    </tr>\n",
       "    <tr>\n",
       "      <th>368</th>\n",
       "      <td>14</td>\n",
       "      <td>2009-06-21</td>\n",
       "    </tr>\n",
       "    <tr>\n",
       "      <th>369</th>\n",
       "      <td>12</td>\n",
       "      <td>2009-06-28</td>\n",
       "    </tr>\n",
       "    <tr>\n",
       "      <th>370</th>\n",
       "      <td>12</td>\n",
       "      <td>2009-07-05</td>\n",
       "    </tr>\n",
       "  </tbody>\n",
       "</table>\n",
       "</div>"
      ],
      "text/plain": [
       "         nfound       date\n",
       "roundno                   \n",
       "366          12 2009-06-07\n",
       "367          12 2009-06-14\n",
       "368          14 2009-06-21\n",
       "369          12 2009-06-28\n",
       "370          12 2009-07-05"
      ]
     },
     "execution_count": 20,
     "metadata": {},
     "output_type": "execute_result"
    }
   ],
   "source": [
    "_rounds = rounds.to_frame().rename(columns={'found': 'nfound'})\n",
    "_dates = matches.groupby('roundno').date.max()\n",
    "_rounds = _rounds.join(_dates)\n",
    "_rounds.head()"
   ]
  },
  {
   "cell_type": "code",
   "execution_count": 24,
   "metadata": {},
   "outputs": [
    {
     "data": {
      "image/png": "[encoded data removed]",
      "text/plain": [
       "<matplotlib.figure.Figure at 0x7f631c73e4a8>"
      ]
     },
     "metadata": {},
     "output_type": "display_data"
    }
   ],
   "source": [
    "%matplotlib inline\n",
    "\n",
    "import pandas as pd\n",
    "import matplotlib.pyplot as plt\n",
    "import seaborn as sns\n",
    "sns.set_style('whitegrid')\n",
    "\n",
    "cut = pd.cut(_rounds.index, 10)\n",
    "\n",
    "ys = _rounds.groupby(cut).apply(lambda x: (x.nfound == 14).sum() / len(x)) * 100\n",
    "xs = [x.mid for x in ys.index]\n",
    "\n",
    "plt.figure(figsize=(14, 10))\n",
    "plt.plot(xs, ys, 'x--')\n",
    "plt.title(\"Percentage of rounds complete (all matches found)\");\n",
    "plt.xlabel(\"Round Number\")\n",
    "plt.ylabel(\"Percentage\");"
   ]
  }
 ],
 "metadata": {
  "kernelspec": {
   "display_name": "Python 3",
   "language": "python",
   "name": "python3"
  },
  "language_info": {
   "codemirror_mode": {
    "name": "ipython",
    "version": 3
   },
   "file_extension": ".py",
   "mimetype": "text/x-python",
   "name": "python",
   "nbconvert_exporter": "python",
   "pygments_lexer": "ipython3",
   "version": "3.6.4"
  }
 },
 "nbformat": 4,
 "nbformat_minor": 2
}
