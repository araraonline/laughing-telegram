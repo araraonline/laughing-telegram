{
 "cells": [
  {
   "cell_type": "markdown",
   "metadata": {},
   "source": [
    "# Prototype Loteca to BetExplorer matches"
   ]
  },
  {
   "cell_type": "markdown",
   "metadata": {},
   "source": [
    "## Test pandas speed\n",
    "\n",
    "We are gonna use pandas a lot here. So, let's test\n",
    "base speed of retrieval of an item vs a dict.\n",
    "\n",
    "Let's test a namedtuple also."
   ]
  },
  {
   "cell_type": "code",
   "execution_count": 8,
   "metadata": {},
   "outputs": [],
   "source": [
    "from collections import namedtuple\n",
    "import pandas as pd\n",
    "\n",
    "Obj = namedtuple('Obj', 'a, b, c')\n",
    "a = pd.Series([1, 2, 3], index=['a', 'b', 'c'])\n",
    "b = {'a': 1, 'b': 2, 'c': 3}\n",
    "c = Obj(1, 2, 3)"
   ]
  },
  {
   "cell_type": "code",
   "execution_count": 9,
   "metadata": {},
   "outputs": [
    {
     "name": "stdout",
     "output_type": "stream",
     "text": [
      "37.9 µs ± 384 ns per loop (mean ± std. dev. of 7 runs, 10000 loops each)\n",
      "59.8 ns ± 0.258 ns per loop (mean ± std. dev. of 7 runs, 10000000 loops each)\n",
      "79.6 ns ± 0.542 ns per loop (mean ± std. dev. of 7 runs, 10000000 loops each)\n"
     ]
    }
   ],
   "source": [
    "%timeit a.loc['a']\n",
    "%timeit b['a']\n",
    "%timeit c.a"
   ]
  },
  {
   "cell_type": "markdown",
   "metadata": {},
   "source": [
    "pandas is about 1000 times slower than the python alternatives.\n",
    "\n",
    "This should be taken in consideration."
   ]
  },
  {
   "cell_type": "markdown",
   "metadata": {},
   "source": [
    "## Misc"
   ]
  },
  {
   "cell_type": "code",
   "execution_count": 1,
   "metadata": {},
   "outputs": [],
   "source": [
    "import sys\n",
    "sys.path.append('..')"
   ]
  },
  {
   "cell_type": "code",
   "execution_count": 2,
   "metadata": {},
   "outputs": [],
   "source": [
    "from src.util import load_pickle\n",
    "\n",
    "df = load_pickle('../data/process/loteca_matches.pkl')"
   ]
  },
  {
   "cell_type": "code",
   "execution_count": 3,
   "metadata": {},
   "outputs": [
    {
     "data": {
      "text/html": [
       "<div>\n",
       "<style scoped>\n",
       "    .dataframe tbody tr th:only-of-type {\n",
       "        vertical-align: middle;\n",
       "    }\n",
       "\n",
       "    .dataframe tbody tr th {\n",
       "        vertical-align: top;\n",
       "    }\n",
       "\n",
       "    .dataframe thead th {\n",
       "        text-align: right;\n",
       "    }\n",
       "</style>\n",
       "<table border=\"1\" class=\"dataframe\">\n",
       "  <thead>\n",
       "    <tr style=\"text-align: right;\">\n",
       "      <th></th>\n",
       "      <th>roundno</th>\n",
       "      <th>gameno</th>\n",
       "      <th>date</th>\n",
       "      <th>team_h</th>\n",
       "      <th>goals_h</th>\n",
       "      <th>team_a</th>\n",
       "      <th>goals_a</th>\n",
       "      <th>happened</th>\n",
       "    </tr>\n",
       "  </thead>\n",
       "  <tbody>\n",
       "    <tr>\n",
       "      <th>5110</th>\n",
       "      <td>366</td>\n",
       "      <td>1</td>\n",
       "      <td>2009-06-07</td>\n",
       "      <td>CRUZEIRO/MG</td>\n",
       "      <td>1</td>\n",
       "      <td>INTERNACIONAL/RS</td>\n",
       "      <td>1</td>\n",
       "      <td>True</td>\n",
       "    </tr>\n",
       "    <tr>\n",
       "      <th>5111</th>\n",
       "      <td>366</td>\n",
       "      <td>2</td>\n",
       "      <td>2009-06-07</td>\n",
       "      <td>ATLÉTICO/PR</td>\n",
       "      <td>0</td>\n",
       "      <td>ATLÉTICO/MG</td>\n",
       "      <td>4</td>\n",
       "      <td>True</td>\n",
       "    </tr>\n",
       "    <tr>\n",
       "      <th>5112</th>\n",
       "      <td>366</td>\n",
       "      <td>3</td>\n",
       "      <td>2009-06-07</td>\n",
       "      <td>AVAÍ/SC</td>\n",
       "      <td>0</td>\n",
       "      <td>SÃO PAULO/SP</td>\n",
       "      <td>0</td>\n",
       "      <td>True</td>\n",
       "    </tr>\n",
       "    <tr>\n",
       "      <th>5113</th>\n",
       "      <td>366</td>\n",
       "      <td>4</td>\n",
       "      <td>2009-06-06</td>\n",
       "      <td>AMÉRICA/RN</td>\n",
       "      <td>2</td>\n",
       "      <td>BRASILIENSE/DF</td>\n",
       "      <td>1</td>\n",
       "      <td>True</td>\n",
       "    </tr>\n",
       "    <tr>\n",
       "      <th>5114</th>\n",
       "      <td>366</td>\n",
       "      <td>5</td>\n",
       "      <td>2009-06-06</td>\n",
       "      <td>PONTE PRETA/SP</td>\n",
       "      <td>5</td>\n",
       "      <td>PORTUGUESA DESPORTOS/SP</td>\n",
       "      <td>2</td>\n",
       "      <td>True</td>\n",
       "    </tr>\n",
       "  </tbody>\n",
       "</table>\n",
       "</div>"
      ],
      "text/plain": [
       "      roundno  gameno       date          team_h  goals_h  \\\n",
       "5110      366       1 2009-06-07     CRUZEIRO/MG        1   \n",
       "5111      366       2 2009-06-07     ATLÉTICO/PR        0   \n",
       "5112      366       3 2009-06-07         AVAÍ/SC        0   \n",
       "5113      366       4 2009-06-06      AMÉRICA/RN        2   \n",
       "5114      366       5 2009-06-06  PONTE PRETA/SP        5   \n",
       "\n",
       "                       team_a  goals_a  happened  \n",
       "5110         INTERNACIONAL/RS        1      True  \n",
       "5111              ATLÉTICO/MG        4      True  \n",
       "5112             SÃO PAULO/SP        0      True  \n",
       "5113           BRASILIENSE/DF        1      True  \n",
       "5114  PORTUGUESA DESPORTOS/SP        2      True  "
      ]
     },
     "execution_count": 3,
     "metadata": {},
     "output_type": "execute_result"
    }
   ],
   "source": [
    "df.head()"
   ]
  },
  {
   "cell_type": "code",
   "execution_count": 17,
   "metadata": {},
   "outputs": [],
   "source": [
    "import sqlite3\n",
    "\n",
    "import pandas as pd\n",
    "\n",
    "conn = sqlite3.connect('../data/db.sqlite3')\n",
    "q = \"SELECT * FROM betexp_matches\"\n",
    "df = pd.read_sql_query(q, conn)\n",
    "conn.close()"
   ]
  },
  {
   "cell_type": "code",
   "execution_count": 18,
   "metadata": {},
   "outputs": [
    {
     "data": {
      "text/html": [
       "<div>\n",
       "<style scoped>\n",
       "    .dataframe tbody tr th:only-of-type {\n",
       "        vertical-align: middle;\n",
       "    }\n",
       "\n",
       "    .dataframe tbody tr th {\n",
       "        vertical-align: top;\n",
       "    }\n",
       "\n",
       "    .dataframe thead th {\n",
       "        text-align: right;\n",
       "    }\n",
       "</style>\n",
       "<table border=\"1\" class=\"dataframe\">\n",
       "  <thead>\n",
       "    <tr style=\"text-align: right;\">\n",
       "      <th></th>\n",
       "      <th>id</th>\n",
       "      <th>url</th>\n",
       "      <th>league_category</th>\n",
       "      <th>league_name</th>\n",
       "      <th>league_year</th>\n",
       "      <th>team_h</th>\n",
       "      <th>team_a</th>\n",
       "      <th>date</th>\n",
       "      <th>score</th>\n",
       "      <th>scoremod</th>\n",
       "    </tr>\n",
       "  </thead>\n",
       "  <tbody>\n",
       "    <tr>\n",
       "      <th>0</th>\n",
       "      <td>bqHgC1sl</td>\n",
       "      <td>http://www.betexplorer.com/soccer/world/arab-c...</td>\n",
       "      <td>world</td>\n",
       "      <td>Arab Champions League</td>\n",
       "      <td>2008/2009</td>\n",
       "      <td>Esperance Tunis</td>\n",
       "      <td>Wydad</td>\n",
       "      <td>21.05.2009</td>\n",
       "      <td>1:1</td>\n",
       "      <td></td>\n",
       "    </tr>\n",
       "    <tr>\n",
       "      <th>1</th>\n",
       "      <td>GKRlDsSs</td>\n",
       "      <td>http://www.betexplorer.com/soccer/world/arab-c...</td>\n",
       "      <td>world</td>\n",
       "      <td>Arab Champions League</td>\n",
       "      <td>2008/2009</td>\n",
       "      <td>Wydad</td>\n",
       "      <td>Esperance Tunis</td>\n",
       "      <td>09.05.2009</td>\n",
       "      <td>0:1</td>\n",
       "      <td></td>\n",
       "    </tr>\n",
       "    <tr>\n",
       "      <th>2</th>\n",
       "      <td>pxyJI34K</td>\n",
       "      <td>http://www.betexplorer.com/soccer/world/arab-c...</td>\n",
       "      <td>world</td>\n",
       "      <td>Arab Champions League</td>\n",
       "      <td>2008/2009</td>\n",
       "      <td>Esperance Tunis</td>\n",
       "      <td>ES Setif</td>\n",
       "      <td>26.04.2009</td>\n",
       "      <td>2:0</td>\n",
       "      <td></td>\n",
       "    </tr>\n",
       "    <tr>\n",
       "      <th>3</th>\n",
       "      <td>EBuNHNJQ</td>\n",
       "      <td>http://www.betexplorer.com/soccer/world/arab-c...</td>\n",
       "      <td>world</td>\n",
       "      <td>Arab Champions League</td>\n",
       "      <td>2008/2009</td>\n",
       "      <td>Wydad</td>\n",
       "      <td>Sfaxien</td>\n",
       "      <td>25.04.2009</td>\n",
       "      <td>2:0</td>\n",
       "      <td></td>\n",
       "    </tr>\n",
       "    <tr>\n",
       "      <th>4</th>\n",
       "      <td>6oxFJqkE</td>\n",
       "      <td>http://www.betexplorer.com/soccer/world/arab-c...</td>\n",
       "      <td>world</td>\n",
       "      <td>Arab Champions League</td>\n",
       "      <td>2008/2009</td>\n",
       "      <td>Sfaxien</td>\n",
       "      <td>Wydad</td>\n",
       "      <td>12.04.2009</td>\n",
       "      <td>1:1</td>\n",
       "      <td></td>\n",
       "    </tr>\n",
       "  </tbody>\n",
       "</table>\n",
       "</div>"
      ],
      "text/plain": [
       "         id                                                url  \\\n",
       "0  bqHgC1sl  http://www.betexplorer.com/soccer/world/arab-c...   \n",
       "1  GKRlDsSs  http://www.betexplorer.com/soccer/world/arab-c...   \n",
       "2  pxyJI34K  http://www.betexplorer.com/soccer/world/arab-c...   \n",
       "3  EBuNHNJQ  http://www.betexplorer.com/soccer/world/arab-c...   \n",
       "4  6oxFJqkE  http://www.betexplorer.com/soccer/world/arab-c...   \n",
       "\n",
       "  league_category            league_name league_year           team_h  \\\n",
       "0           world  Arab Champions League   2008/2009  Esperance Tunis   \n",
       "1           world  Arab Champions League   2008/2009            Wydad   \n",
       "2           world  Arab Champions League   2008/2009  Esperance Tunis   \n",
       "3           world  Arab Champions League   2008/2009            Wydad   \n",
       "4           world  Arab Champions League   2008/2009          Sfaxien   \n",
       "\n",
       "            team_a        date score scoremod  \n",
       "0            Wydad  21.05.2009   1:1           \n",
       "1  Esperance Tunis  09.05.2009   0:1           \n",
       "2         ES Setif  26.04.2009   2:0           \n",
       "3          Sfaxien  25.04.2009   2:0           \n",
       "4            Wydad  12.04.2009   1:1           "
      ]
     },
     "execution_count": 18,
     "metadata": {},
     "output_type": "execute_result"
    }
   ],
   "source": [
    "df.head()"
   ]
  },
  {
   "cell_type": "code",
   "execution_count": 74,
   "metadata": {},
   "outputs": [
    {
     "data": {
      "text/plain": [
       "(299367, 10)"
      ]
     },
     "execution_count": 74,
     "metadata": {},
     "output_type": "execute_result"
    }
   ],
   "source": [
    "df.shape"
   ]
  },
  {
   "cell_type": "code",
   "execution_count": 71,
   "metadata": {},
   "outputs": [],
   "source": [
    "from src.data.interim.teams import betexplorer\n",
    "\n",
    "# remove duplicates\n",
    "df = df.drop_duplicates(subset='id')\n",
    "\n",
    "# process necessary columns\n",
    "def get_date(s):\n",
    "    d, m, y = [int(v) for v in s.split('.')]\n",
    "    return date(y, m, d)\n",
    "\n",
    "def get_score(s):\n",
    "    if s == '':\n",
    "        return None\n",
    "    \n",
    "    s = s.strip()\n",
    "    return [int(v) for v in s.split(':')]\n",
    "\n",
    "def process_name(s):\n",
    "    name, _, women_flag, under, _ = betexplorer.parse_string(s)\n",
    "    fname = betexplorer.format_name(name)\n",
    "    return (fname, under, women_flag)\n",
    "\n",
    "dates = [get_date(s) for s in df.date]\n",
    "scores = [get_score(s) for s in df.score]\n",
    "h_names = [process_name(s) for s in df.team_h]  # about 3s\n",
    "a_names = [process_name(s) for s in df.team_a]  # about 3s"
   ]
  }
 ],
 "metadata": {
  "kernelspec": {
   "display_name": "Python 3",
   "language": "python",
   "name": "python3"
  },
  "language_info": {
   "codemirror_mode": {
    "name": "ipython",
    "version": 3
   },
   "file_extension": ".py",
   "mimetype": "text/x-python",
   "name": "python",
   "nbconvert_exporter": "python",
   "pygments_lexer": "ipython3",
   "version": "3.6.4"
  }
 },
 "nbformat": 4,
 "nbformat_minor": 2
}
